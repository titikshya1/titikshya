{
  "cells": [
    {
      "metadata": {
        "id": "ae454e23"
      },
      "id": "ae454e23",
      "cell_type": "markdown",
      "source": [
        "### Recommendation System\n",
        "\n",
        "Problem statement\n",
        "\n",
        "Build a recommender system by using cosine simillarties score."
      ]
    },
    {
      "metadata": {
        "id": "ffa3b60b"
      },
      "id": "ffa3b60b",
      "cell_type": "markdown",
      "source": [
        "###### Importing Required Libraries"
      ]
    },
    {
      "metadata": {
        "trusted": false,
        "id": "452e4b04"
      },
      "id": "452e4b04",
      "cell_type": "code",
      "source": [
        "import pandas as pd\n",
        "import numpy as np\n",
        "import matplotlib.pyplot as plt\n",
        "%matplotlib inline\n",
        "\n",
        "import seaborn as sns\n",
        "\n",
        "import warnings\n",
        "warnings.filterwarnings('ignore')"
      ],
      "execution_count": 7,
      "outputs": []
    },
    {
      "metadata": {
        "id": "7044ab8f"
      },
      "id": "7044ab8f",
      "cell_type": "markdown",
      "source": [
        "###### Importing Dataset"
      ]
    },
    {
      "cell_type": "code",
      "source": [
        "from google.colab import drive\n",
        "drive.mount('/content/drive')"
      ],
      "metadata": {
        "colab": {
          "base_uri": "https://localhost:8080/"
        },
        "id": "qWD7D4rPASis",
        "outputId": "df6b6ec0-c58f-48f8-b1a4-ec7abf53d24c"
      },
      "id": "qWD7D4rPASis",
      "execution_count": 2,
      "outputs": [
        {
          "output_type": "stream",
          "name": "stdout",
          "text": [
            "Mounted at /content/drive\n"
          ]
        }
      ]
    },
    {
      "cell_type": "code",
      "source": [
        "ls"
      ],
      "metadata": {
        "colab": {
          "base_uri": "https://localhost:8080/"
        },
        "id": "IIplniM0Afgs",
        "outputId": "d8113b44-6002-452c-aaa5-e7642ba94749"
      },
      "id": "IIplniM0Afgs",
      "execution_count": 3,
      "outputs": [
        {
          "output_type": "stream",
          "name": "stdout",
          "text": [
            "\u001b[0m\u001b[01;34mdrive\u001b[0m/  \u001b[01;34msample_data\u001b[0m/\n"
          ]
        }
      ]
    },
    {
      "cell_type": "code",
      "source": [
        "cd drive/MyDrive"
      ],
      "metadata": {
        "colab": {
          "base_uri": "https://localhost:8080/"
        },
        "id": "fsXaGSc_AkUN",
        "outputId": "01a72bca-10f1-4479-fa79-70154261b3d5"
      },
      "id": "fsXaGSc_AkUN",
      "execution_count": 4,
      "outputs": [
        {
          "output_type": "stream",
          "name": "stdout",
          "text": [
            "/content/drive/MyDrive\n"
          ]
        }
      ]
    },
    {
      "metadata": {
        "trusted": false,
        "id": "66d3fa5a"
      },
      "id": "66d3fa5a",
      "cell_type": "code",
      "source": [
        "book = pd.read_csv(\"data/book.csv\",encoding='latin-1')"
      ],
      "execution_count": 9,
      "outputs": []
    },
    {
      "metadata": {
        "id": "b1c151e0"
      },
      "id": "b1c151e0",
      "cell_type": "markdown",
      "source": [
        "###### Understanding The Dataset"
      ]
    },
    {
      "metadata": {
        "trusted": false,
        "id": "ee71e65d",
        "outputId": "3e2210fe-64a0-4ab7-94d8-3a9e1855f00d",
        "colab": {
          "base_uri": "https://localhost:8080/",
          "height": 206
        }
      },
      "id": "ee71e65d",
      "cell_type": "code",
      "source": [
        "book.head()"
      ],
      "execution_count": 10,
      "outputs": [
        {
          "output_type": "execute_result",
          "data": {
            "text/plain": [
              "   Unnamed: 0  User.ID                                         Book.Title  \\\n",
              "0           1   276726                                Classical Mythology   \n",
              "1           2   276729                                       Clara Callan   \n",
              "2           3   276729                               Decision in Normandy   \n",
              "3           4   276736  Flu: The Story of the Great Influenza Pandemic...   \n",
              "4           5   276737                             The Mummies of Urumchi   \n",
              "\n",
              "   Book.Rating  \n",
              "0            5  \n",
              "1            3  \n",
              "2            6  \n",
              "3            8  \n",
              "4            6  "
            ],
            "text/html": [
              "\n",
              "\n",
              "  <div id=\"df-8a6788ad-450c-4723-ae56-ae4517eeda76\">\n",
              "    <div class=\"colab-df-container\">\n",
              "      <div>\n",
              "<style scoped>\n",
              "    .dataframe tbody tr th:only-of-type {\n",
              "        vertical-align: middle;\n",
              "    }\n",
              "\n",
              "    .dataframe tbody tr th {\n",
              "        vertical-align: top;\n",
              "    }\n",
              "\n",
              "    .dataframe thead th {\n",
              "        text-align: right;\n",
              "    }\n",
              "</style>\n",
              "<table border=\"1\" class=\"dataframe\">\n",
              "  <thead>\n",
              "    <tr style=\"text-align: right;\">\n",
              "      <th></th>\n",
              "      <th>Unnamed: 0</th>\n",
              "      <th>User.ID</th>\n",
              "      <th>Book.Title</th>\n",
              "      <th>Book.Rating</th>\n",
              "    </tr>\n",
              "  </thead>\n",
              "  <tbody>\n",
              "    <tr>\n",
              "      <th>0</th>\n",
              "      <td>1</td>\n",
              "      <td>276726</td>\n",
              "      <td>Classical Mythology</td>\n",
              "      <td>5</td>\n",
              "    </tr>\n",
              "    <tr>\n",
              "      <th>1</th>\n",
              "      <td>2</td>\n",
              "      <td>276729</td>\n",
              "      <td>Clara Callan</td>\n",
              "      <td>3</td>\n",
              "    </tr>\n",
              "    <tr>\n",
              "      <th>2</th>\n",
              "      <td>3</td>\n",
              "      <td>276729</td>\n",
              "      <td>Decision in Normandy</td>\n",
              "      <td>6</td>\n",
              "    </tr>\n",
              "    <tr>\n",
              "      <th>3</th>\n",
              "      <td>4</td>\n",
              "      <td>276736</td>\n",
              "      <td>Flu: The Story of the Great Influenza Pandemic...</td>\n",
              "      <td>8</td>\n",
              "    </tr>\n",
              "    <tr>\n",
              "      <th>4</th>\n",
              "      <td>5</td>\n",
              "      <td>276737</td>\n",
              "      <td>The Mummies of Urumchi</td>\n",
              "      <td>6</td>\n",
              "    </tr>\n",
              "  </tbody>\n",
              "</table>\n",
              "</div>\n",
              "      <button class=\"colab-df-convert\" onclick=\"convertToInteractive('df-8a6788ad-450c-4723-ae56-ae4517eeda76')\"\n",
              "              title=\"Convert this dataframe to an interactive table.\"\n",
              "              style=\"display:none;\">\n",
              "\n",
              "  <svg xmlns=\"http://www.w3.org/2000/svg\" height=\"24px\"viewBox=\"0 0 24 24\"\n",
              "       width=\"24px\">\n",
              "    <path d=\"M0 0h24v24H0V0z\" fill=\"none\"/>\n",
              "    <path d=\"M18.56 5.44l.94 2.06.94-2.06 2.06-.94-2.06-.94-.94-2.06-.94 2.06-2.06.94zm-11 1L8.5 8.5l.94-2.06 2.06-.94-2.06-.94L8.5 2.5l-.94 2.06-2.06.94zm10 10l.94 2.06.94-2.06 2.06-.94-2.06-.94-.94-2.06-.94 2.06-2.06.94z\"/><path d=\"M17.41 7.96l-1.37-1.37c-.4-.4-.92-.59-1.43-.59-.52 0-1.04.2-1.43.59L10.3 9.45l-7.72 7.72c-.78.78-.78 2.05 0 2.83L4 21.41c.39.39.9.59 1.41.59.51 0 1.02-.2 1.41-.59l7.78-7.78 2.81-2.81c.8-.78.8-2.07 0-2.86zM5.41 20L4 18.59l7.72-7.72 1.47 1.35L5.41 20z\"/>\n",
              "  </svg>\n",
              "      </button>\n",
              "\n",
              "\n",
              "\n",
              "    <div id=\"df-a2538878-0a20-4b2a-ad4e-5a7e0e22d9d2\">\n",
              "      <button class=\"colab-df-quickchart\" onclick=\"quickchart('df-a2538878-0a20-4b2a-ad4e-5a7e0e22d9d2')\"\n",
              "              title=\"Suggest charts.\"\n",
              "              style=\"display:none;\">\n",
              "\n",
              "<svg xmlns=\"http://www.w3.org/2000/svg\" height=\"24px\"viewBox=\"0 0 24 24\"\n",
              "     width=\"24px\">\n",
              "    <g>\n",
              "        <path d=\"M19 3H5c-1.1 0-2 .9-2 2v14c0 1.1.9 2 2 2h14c1.1 0 2-.9 2-2V5c0-1.1-.9-2-2-2zM9 17H7v-7h2v7zm4 0h-2V7h2v10zm4 0h-2v-4h2v4z\"/>\n",
              "    </g>\n",
              "</svg>\n",
              "      </button>\n",
              "    </div>\n",
              "\n",
              "<style>\n",
              "  .colab-df-quickchart {\n",
              "    background-color: #E8F0FE;\n",
              "    border: none;\n",
              "    border-radius: 50%;\n",
              "    cursor: pointer;\n",
              "    display: none;\n",
              "    fill: #1967D2;\n",
              "    height: 32px;\n",
              "    padding: 0 0 0 0;\n",
              "    width: 32px;\n",
              "  }\n",
              "\n",
              "  .colab-df-quickchart:hover {\n",
              "    background-color: #E2EBFA;\n",
              "    box-shadow: 0px 1px 2px rgba(60, 64, 67, 0.3), 0px 1px 3px 1px rgba(60, 64, 67, 0.15);\n",
              "    fill: #174EA6;\n",
              "  }\n",
              "\n",
              "  [theme=dark] .colab-df-quickchart {\n",
              "    background-color: #3B4455;\n",
              "    fill: #D2E3FC;\n",
              "  }\n",
              "\n",
              "  [theme=dark] .colab-df-quickchart:hover {\n",
              "    background-color: #434B5C;\n",
              "    box-shadow: 0px 1px 3px 1px rgba(0, 0, 0, 0.15);\n",
              "    filter: drop-shadow(0px 1px 2px rgba(0, 0, 0, 0.3));\n",
              "    fill: #FFFFFF;\n",
              "  }\n",
              "</style>\n",
              "\n",
              "    <script>\n",
              "      async function quickchart(key) {\n",
              "        const containerElement = document.querySelector('#' + key);\n",
              "        const charts = await google.colab.kernel.invokeFunction(\n",
              "            'suggestCharts', [key], {});\n",
              "      }\n",
              "    </script>\n",
              "\n",
              "      <script>\n",
              "\n",
              "function displayQuickchartButton(domScope) {\n",
              "  let quickchartButtonEl =\n",
              "    domScope.querySelector('#df-a2538878-0a20-4b2a-ad4e-5a7e0e22d9d2 button.colab-df-quickchart');\n",
              "  quickchartButtonEl.style.display =\n",
              "    google.colab.kernel.accessAllowed ? 'block' : 'none';\n",
              "}\n",
              "\n",
              "        displayQuickchartButton(document);\n",
              "      </script>\n",
              "      <style>\n",
              "    .colab-df-container {\n",
              "      display:flex;\n",
              "      flex-wrap:wrap;\n",
              "      gap: 12px;\n",
              "    }\n",
              "\n",
              "    .colab-df-convert {\n",
              "      background-color: #E8F0FE;\n",
              "      border: none;\n",
              "      border-radius: 50%;\n",
              "      cursor: pointer;\n",
              "      display: none;\n",
              "      fill: #1967D2;\n",
              "      height: 32px;\n",
              "      padding: 0 0 0 0;\n",
              "      width: 32px;\n",
              "    }\n",
              "\n",
              "    .colab-df-convert:hover {\n",
              "      background-color: #E2EBFA;\n",
              "      box-shadow: 0px 1px 2px rgba(60, 64, 67, 0.3), 0px 1px 3px 1px rgba(60, 64, 67, 0.15);\n",
              "      fill: #174EA6;\n",
              "    }\n",
              "\n",
              "    [theme=dark] .colab-df-convert {\n",
              "      background-color: #3B4455;\n",
              "      fill: #D2E3FC;\n",
              "    }\n",
              "\n",
              "    [theme=dark] .colab-df-convert:hover {\n",
              "      background-color: #434B5C;\n",
              "      box-shadow: 0px 1px 3px 1px rgba(0, 0, 0, 0.15);\n",
              "      filter: drop-shadow(0px 1px 2px rgba(0, 0, 0, 0.3));\n",
              "      fill: #FFFFFF;\n",
              "    }\n",
              "  </style>\n",
              "\n",
              "      <script>\n",
              "        const buttonEl =\n",
              "          document.querySelector('#df-8a6788ad-450c-4723-ae56-ae4517eeda76 button.colab-df-convert');\n",
              "        buttonEl.style.display =\n",
              "          google.colab.kernel.accessAllowed ? 'block' : 'none';\n",
              "\n",
              "        async function convertToInteractive(key) {\n",
              "          const element = document.querySelector('#df-8a6788ad-450c-4723-ae56-ae4517eeda76');\n",
              "          const dataTable =\n",
              "            await google.colab.kernel.invokeFunction('convertToInteractive',\n",
              "                                                     [key], {});\n",
              "          if (!dataTable) return;\n",
              "\n",
              "          const docLinkHtml = 'Like what you see? Visit the ' +\n",
              "            '<a target=\"_blank\" href=https://colab.research.google.com/notebooks/data_table.ipynb>data table notebook</a>'\n",
              "            + ' to learn more about interactive tables.';\n",
              "          element.innerHTML = '';\n",
              "          dataTable['output_type'] = 'display_data';\n",
              "          await google.colab.output.renderOutput(dataTable, element);\n",
              "          const docLink = document.createElement('div');\n",
              "          docLink.innerHTML = docLinkHtml;\n",
              "          element.appendChild(docLink);\n",
              "        }\n",
              "      </script>\n",
              "    </div>\n",
              "  </div>\n"
            ]
          },
          "metadata": {},
          "execution_count": 10
        }
      ]
    },
    {
      "metadata": {
        "trusted": false,
        "id": "a009c6bd",
        "outputId": "48827f40-195d-4486-b2ea-52080bc6cf1e",
        "colab": {
          "base_uri": "https://localhost:8080/",
          "height": 206
        }
      },
      "id": "a009c6bd",
      "cell_type": "code",
      "source": [
        "book.tail()"
      ],
      "execution_count": 11,
      "outputs": [
        {
          "output_type": "execute_result",
          "data": {
            "text/plain": [
              "      Unnamed: 0  User.ID                                    Book.Title  \\\n",
              "9995        9996   162121  American Fried: Adventures of a Happy Eater.   \n",
              "9996        9997   162121                         Cannibal In Manhattan   \n",
              "9997        9998   162121               How to Flirt: A Practical Guide   \n",
              "9998        9999   162121                                      Twilight   \n",
              "9999       10000   162129                  Kids Say the Darndest Things   \n",
              "\n",
              "      Book.Rating  \n",
              "9995            7  \n",
              "9996            9  \n",
              "9997            7  \n",
              "9998            8  \n",
              "9999            6  "
            ],
            "text/html": [
              "\n",
              "\n",
              "  <div id=\"df-f8c5c9a0-ad34-4098-b332-e324451adf3f\">\n",
              "    <div class=\"colab-df-container\">\n",
              "      <div>\n",
              "<style scoped>\n",
              "    .dataframe tbody tr th:only-of-type {\n",
              "        vertical-align: middle;\n",
              "    }\n",
              "\n",
              "    .dataframe tbody tr th {\n",
              "        vertical-align: top;\n",
              "    }\n",
              "\n",
              "    .dataframe thead th {\n",
              "        text-align: right;\n",
              "    }\n",
              "</style>\n",
              "<table border=\"1\" class=\"dataframe\">\n",
              "  <thead>\n",
              "    <tr style=\"text-align: right;\">\n",
              "      <th></th>\n",
              "      <th>Unnamed: 0</th>\n",
              "      <th>User.ID</th>\n",
              "      <th>Book.Title</th>\n",
              "      <th>Book.Rating</th>\n",
              "    </tr>\n",
              "  </thead>\n",
              "  <tbody>\n",
              "    <tr>\n",
              "      <th>9995</th>\n",
              "      <td>9996</td>\n",
              "      <td>162121</td>\n",
              "      <td>American Fried: Adventures of a Happy Eater.</td>\n",
              "      <td>7</td>\n",
              "    </tr>\n",
              "    <tr>\n",
              "      <th>9996</th>\n",
              "      <td>9997</td>\n",
              "      <td>162121</td>\n",
              "      <td>Cannibal In Manhattan</td>\n",
              "      <td>9</td>\n",
              "    </tr>\n",
              "    <tr>\n",
              "      <th>9997</th>\n",
              "      <td>9998</td>\n",
              "      <td>162121</td>\n",
              "      <td>How to Flirt: A Practical Guide</td>\n",
              "      <td>7</td>\n",
              "    </tr>\n",
              "    <tr>\n",
              "      <th>9998</th>\n",
              "      <td>9999</td>\n",
              "      <td>162121</td>\n",
              "      <td>Twilight</td>\n",
              "      <td>8</td>\n",
              "    </tr>\n",
              "    <tr>\n",
              "      <th>9999</th>\n",
              "      <td>10000</td>\n",
              "      <td>162129</td>\n",
              "      <td>Kids Say the Darndest Things</td>\n",
              "      <td>6</td>\n",
              "    </tr>\n",
              "  </tbody>\n",
              "</table>\n",
              "</div>\n",
              "      <button class=\"colab-df-convert\" onclick=\"convertToInteractive('df-f8c5c9a0-ad34-4098-b332-e324451adf3f')\"\n",
              "              title=\"Convert this dataframe to an interactive table.\"\n",
              "              style=\"display:none;\">\n",
              "\n",
              "  <svg xmlns=\"http://www.w3.org/2000/svg\" height=\"24px\"viewBox=\"0 0 24 24\"\n",
              "       width=\"24px\">\n",
              "    <path d=\"M0 0h24v24H0V0z\" fill=\"none\"/>\n",
              "    <path d=\"M18.56 5.44l.94 2.06.94-2.06 2.06-.94-2.06-.94-.94-2.06-.94 2.06-2.06.94zm-11 1L8.5 8.5l.94-2.06 2.06-.94-2.06-.94L8.5 2.5l-.94 2.06-2.06.94zm10 10l.94 2.06.94-2.06 2.06-.94-2.06-.94-.94-2.06-.94 2.06-2.06.94z\"/><path d=\"M17.41 7.96l-1.37-1.37c-.4-.4-.92-.59-1.43-.59-.52 0-1.04.2-1.43.59L10.3 9.45l-7.72 7.72c-.78.78-.78 2.05 0 2.83L4 21.41c.39.39.9.59 1.41.59.51 0 1.02-.2 1.41-.59l7.78-7.78 2.81-2.81c.8-.78.8-2.07 0-2.86zM5.41 20L4 18.59l7.72-7.72 1.47 1.35L5.41 20z\"/>\n",
              "  </svg>\n",
              "      </button>\n",
              "\n",
              "\n",
              "\n",
              "    <div id=\"df-d6f5b239-3a3d-4539-9ad5-ed298c304f78\">\n",
              "      <button class=\"colab-df-quickchart\" onclick=\"quickchart('df-d6f5b239-3a3d-4539-9ad5-ed298c304f78')\"\n",
              "              title=\"Suggest charts.\"\n",
              "              style=\"display:none;\">\n",
              "\n",
              "<svg xmlns=\"http://www.w3.org/2000/svg\" height=\"24px\"viewBox=\"0 0 24 24\"\n",
              "     width=\"24px\">\n",
              "    <g>\n",
              "        <path d=\"M19 3H5c-1.1 0-2 .9-2 2v14c0 1.1.9 2 2 2h14c1.1 0 2-.9 2-2V5c0-1.1-.9-2-2-2zM9 17H7v-7h2v7zm4 0h-2V7h2v10zm4 0h-2v-4h2v4z\"/>\n",
              "    </g>\n",
              "</svg>\n",
              "      </button>\n",
              "    </div>\n",
              "\n",
              "<style>\n",
              "  .colab-df-quickchart {\n",
              "    background-color: #E8F0FE;\n",
              "    border: none;\n",
              "    border-radius: 50%;\n",
              "    cursor: pointer;\n",
              "    display: none;\n",
              "    fill: #1967D2;\n",
              "    height: 32px;\n",
              "    padding: 0 0 0 0;\n",
              "    width: 32px;\n",
              "  }\n",
              "\n",
              "  .colab-df-quickchart:hover {\n",
              "    background-color: #E2EBFA;\n",
              "    box-shadow: 0px 1px 2px rgba(60, 64, 67, 0.3), 0px 1px 3px 1px rgba(60, 64, 67, 0.15);\n",
              "    fill: #174EA6;\n",
              "  }\n",
              "\n",
              "  [theme=dark] .colab-df-quickchart {\n",
              "    background-color: #3B4455;\n",
              "    fill: #D2E3FC;\n",
              "  }\n",
              "\n",
              "  [theme=dark] .colab-df-quickchart:hover {\n",
              "    background-color: #434B5C;\n",
              "    box-shadow: 0px 1px 3px 1px rgba(0, 0, 0, 0.15);\n",
              "    filter: drop-shadow(0px 1px 2px rgba(0, 0, 0, 0.3));\n",
              "    fill: #FFFFFF;\n",
              "  }\n",
              "</style>\n",
              "\n",
              "    <script>\n",
              "      async function quickchart(key) {\n",
              "        const containerElement = document.querySelector('#' + key);\n",
              "        const charts = await google.colab.kernel.invokeFunction(\n",
              "            'suggestCharts', [key], {});\n",
              "      }\n",
              "    </script>\n",
              "\n",
              "      <script>\n",
              "\n",
              "function displayQuickchartButton(domScope) {\n",
              "  let quickchartButtonEl =\n",
              "    domScope.querySelector('#df-d6f5b239-3a3d-4539-9ad5-ed298c304f78 button.colab-df-quickchart');\n",
              "  quickchartButtonEl.style.display =\n",
              "    google.colab.kernel.accessAllowed ? 'block' : 'none';\n",
              "}\n",
              "\n",
              "        displayQuickchartButton(document);\n",
              "      </script>\n",
              "      <style>\n",
              "    .colab-df-container {\n",
              "      display:flex;\n",
              "      flex-wrap:wrap;\n",
              "      gap: 12px;\n",
              "    }\n",
              "\n",
              "    .colab-df-convert {\n",
              "      background-color: #E8F0FE;\n",
              "      border: none;\n",
              "      border-radius: 50%;\n",
              "      cursor: pointer;\n",
              "      display: none;\n",
              "      fill: #1967D2;\n",
              "      height: 32px;\n",
              "      padding: 0 0 0 0;\n",
              "      width: 32px;\n",
              "    }\n",
              "\n",
              "    .colab-df-convert:hover {\n",
              "      background-color: #E2EBFA;\n",
              "      box-shadow: 0px 1px 2px rgba(60, 64, 67, 0.3), 0px 1px 3px 1px rgba(60, 64, 67, 0.15);\n",
              "      fill: #174EA6;\n",
              "    }\n",
              "\n",
              "    [theme=dark] .colab-df-convert {\n",
              "      background-color: #3B4455;\n",
              "      fill: #D2E3FC;\n",
              "    }\n",
              "\n",
              "    [theme=dark] .colab-df-convert:hover {\n",
              "      background-color: #434B5C;\n",
              "      box-shadow: 0px 1px 3px 1px rgba(0, 0, 0, 0.15);\n",
              "      filter: drop-shadow(0px 1px 2px rgba(0, 0, 0, 0.3));\n",
              "      fill: #FFFFFF;\n",
              "    }\n",
              "  </style>\n",
              "\n",
              "      <script>\n",
              "        const buttonEl =\n",
              "          document.querySelector('#df-f8c5c9a0-ad34-4098-b332-e324451adf3f button.colab-df-convert');\n",
              "        buttonEl.style.display =\n",
              "          google.colab.kernel.accessAllowed ? 'block' : 'none';\n",
              "\n",
              "        async function convertToInteractive(key) {\n",
              "          const element = document.querySelector('#df-f8c5c9a0-ad34-4098-b332-e324451adf3f');\n",
              "          const dataTable =\n",
              "            await google.colab.kernel.invokeFunction('convertToInteractive',\n",
              "                                                     [key], {});\n",
              "          if (!dataTable) return;\n",
              "\n",
              "          const docLinkHtml = 'Like what you see? Visit the ' +\n",
              "            '<a target=\"_blank\" href=https://colab.research.google.com/notebooks/data_table.ipynb>data table notebook</a>'\n",
              "            + ' to learn more about interactive tables.';\n",
              "          element.innerHTML = '';\n",
              "          dataTable['output_type'] = 'display_data';\n",
              "          await google.colab.output.renderOutput(dataTable, element);\n",
              "          const docLink = document.createElement('div');\n",
              "          docLink.innerHTML = docLinkHtml;\n",
              "          element.appendChild(docLink);\n",
              "        }\n",
              "      </script>\n",
              "    </div>\n",
              "  </div>\n"
            ]
          },
          "metadata": {},
          "execution_count": 11
        }
      ]
    },
    {
      "metadata": {
        "id": "51d10579"
      },
      "id": "51d10579",
      "cell_type": "markdown",
      "source": [
        "#### EDA"
      ]
    },
    {
      "metadata": {
        "trusted": false,
        "id": "d117996e",
        "outputId": "70e84a25-ed80-47ae-e238-3fee397c2523"
      },
      "id": "d117996e",
      "cell_type": "code",
      "source": [
        "book.shape"
      ],
      "execution_count": null,
      "outputs": [
        {
          "data": {
            "text/plain": "(10000, 4)"
          },
          "execution_count": 166,
          "metadata": {},
          "output_type": "execute_result"
        }
      ]
    },
    {
      "metadata": {
        "trusted": false,
        "id": "74d59000",
        "outputId": "5c546c0a-370b-41be-e6bd-a16c455d135a"
      },
      "id": "74d59000",
      "cell_type": "code",
      "source": [
        "book.info()"
      ],
      "execution_count": null,
      "outputs": [
        {
          "name": "stdout",
          "output_type": "stream",
          "text": "<class 'pandas.core.frame.DataFrame'>\nRangeIndex: 10000 entries, 0 to 9999\nData columns (total 4 columns):\n #   Column       Non-Null Count  Dtype \n---  ------       --------------  ----- \n 0   Unnamed: 0   10000 non-null  int64 \n 1   User.ID      10000 non-null  int64 \n 2   Book.Title   10000 non-null  object\n 3   Book.Rating  10000 non-null  int64 \ndtypes: int64(3), object(1)\nmemory usage: 312.6+ KB\n"
        }
      ]
    },
    {
      "metadata": {
        "trusted": false,
        "id": "f93262e6",
        "outputId": "514db80c-6064-4351-f729-fbac4b182cb5"
      },
      "id": "f93262e6",
      "cell_type": "code",
      "source": [
        "book.isnull().sum()"
      ],
      "execution_count": null,
      "outputs": [
        {
          "data": {
            "text/plain": "Unnamed: 0     0\nUser.ID        0\nBook.Title     0\nBook.Rating    0\ndtype: int64"
          },
          "execution_count": 168,
          "metadata": {},
          "output_type": "execute_result"
        }
      ]
    },
    {
      "metadata": {
        "trusted": false,
        "id": "1994248b",
        "outputId": "8d7a9406-f36d-45ef-82f5-0dd7fc284f74"
      },
      "id": "1994248b",
      "cell_type": "code",
      "source": [
        "book.drop(book.columns[[0]],axis=1,inplace =True)\n",
        "book"
      ],
      "execution_count": null,
      "outputs": [
        {
          "data": {
            "text/html": "<div>\n<style scoped>\n    .dataframe tbody tr th:only-of-type {\n        vertical-align: middle;\n    }\n\n    .dataframe tbody tr th {\n        vertical-align: top;\n    }\n\n    .dataframe thead th {\n        text-align: right;\n    }\n</style>\n<table border=\"1\" class=\"dataframe\">\n  <thead>\n    <tr style=\"text-align: right;\">\n      <th></th>\n      <th>User.ID</th>\n      <th>Book.Title</th>\n      <th>Book.Rating</th>\n    </tr>\n  </thead>\n  <tbody>\n    <tr>\n      <th>0</th>\n      <td>276726</td>\n      <td>Classical Mythology</td>\n      <td>5</td>\n    </tr>\n    <tr>\n      <th>1</th>\n      <td>276729</td>\n      <td>Clara Callan</td>\n      <td>3</td>\n    </tr>\n    <tr>\n      <th>2</th>\n      <td>276729</td>\n      <td>Decision in Normandy</td>\n      <td>6</td>\n    </tr>\n    <tr>\n      <th>3</th>\n      <td>276736</td>\n      <td>Flu: The Story of the Great Influenza Pandemic...</td>\n      <td>8</td>\n    </tr>\n    <tr>\n      <th>4</th>\n      <td>276737</td>\n      <td>The Mummies of Urumchi</td>\n      <td>6</td>\n    </tr>\n    <tr>\n      <th>...</th>\n      <td>...</td>\n      <td>...</td>\n      <td>...</td>\n    </tr>\n    <tr>\n      <th>9995</th>\n      <td>162121</td>\n      <td>American Fried: Adventures of a Happy Eater.</td>\n      <td>7</td>\n    </tr>\n    <tr>\n      <th>9996</th>\n      <td>162121</td>\n      <td>Cannibal In Manhattan</td>\n      <td>9</td>\n    </tr>\n    <tr>\n      <th>9997</th>\n      <td>162121</td>\n      <td>How to Flirt: A Practical Guide</td>\n      <td>7</td>\n    </tr>\n    <tr>\n      <th>9998</th>\n      <td>162121</td>\n      <td>Twilight</td>\n      <td>8</td>\n    </tr>\n    <tr>\n      <th>9999</th>\n      <td>162129</td>\n      <td>Kids Say the Darndest Things</td>\n      <td>6</td>\n    </tr>\n  </tbody>\n</table>\n<p>10000 rows × 3 columns</p>\n</div>",
            "text/plain": "      User.ID                                         Book.Title  Book.Rating\n0      276726                                Classical Mythology            5\n1      276729                                       Clara Callan            3\n2      276729                               Decision in Normandy            6\n3      276736  Flu: The Story of the Great Influenza Pandemic...            8\n4      276737                             The Mummies of Urumchi            6\n...       ...                                                ...          ...\n9995   162121       American Fried: Adventures of a Happy Eater.            7\n9996   162121                              Cannibal In Manhattan            9\n9997   162121                    How to Flirt: A Practical Guide            7\n9998   162121                                           Twilight            8\n9999   162129                       Kids Say the Darndest Things            6\n\n[10000 rows x 3 columns]"
          },
          "execution_count": 169,
          "metadata": {},
          "output_type": "execute_result"
        }
      ]
    },
    {
      "metadata": {
        "trusted": false,
        "id": "3710b7f3",
        "outputId": "7b793a45-30af-4ab9-fd42-253c2fa3ce1e"
      },
      "id": "3710b7f3",
      "cell_type": "code",
      "source": [
        "book.nunique()"
      ],
      "execution_count": null,
      "outputs": [
        {
          "data": {
            "text/plain": "User.ID        2182\nBook.Title     9659\nBook.Rating      10\ndtype: int64"
          },
          "execution_count": 170,
          "metadata": {},
          "output_type": "execute_result"
        }
      ]
    },
    {
      "metadata": {
        "trusted": false,
        "id": "b3145e7d"
      },
      "id": "b3145e7d",
      "cell_type": "code",
      "source": [
        "#Renaming the colums\n",
        "book.columns = [\"UserID\",\"BookTitle\",\"BookRating\"]"
      ],
      "execution_count": null,
      "outputs": []
    },
    {
      "metadata": {
        "trusted": false,
        "id": "83cae9fe",
        "outputId": "6d48517d-a387-47a8-c359-4f295ccc71ba"
      },
      "id": "83cae9fe",
      "cell_type": "code",
      "source": [
        "book"
      ],
      "execution_count": null,
      "outputs": [
        {
          "data": {
            "text/html": "<div>\n<style scoped>\n    .dataframe tbody tr th:only-of-type {\n        vertical-align: middle;\n    }\n\n    .dataframe tbody tr th {\n        vertical-align: top;\n    }\n\n    .dataframe thead th {\n        text-align: right;\n    }\n</style>\n<table border=\"1\" class=\"dataframe\">\n  <thead>\n    <tr style=\"text-align: right;\">\n      <th></th>\n      <th>UserID</th>\n      <th>BookTitle</th>\n      <th>BookRating</th>\n    </tr>\n  </thead>\n  <tbody>\n    <tr>\n      <th>0</th>\n      <td>276726</td>\n      <td>Classical Mythology</td>\n      <td>5</td>\n    </tr>\n    <tr>\n      <th>1</th>\n      <td>276729</td>\n      <td>Clara Callan</td>\n      <td>3</td>\n    </tr>\n    <tr>\n      <th>2</th>\n      <td>276729</td>\n      <td>Decision in Normandy</td>\n      <td>6</td>\n    </tr>\n    <tr>\n      <th>3</th>\n      <td>276736</td>\n      <td>Flu: The Story of the Great Influenza Pandemic...</td>\n      <td>8</td>\n    </tr>\n    <tr>\n      <th>4</th>\n      <td>276737</td>\n      <td>The Mummies of Urumchi</td>\n      <td>6</td>\n    </tr>\n    <tr>\n      <th>...</th>\n      <td>...</td>\n      <td>...</td>\n      <td>...</td>\n    </tr>\n    <tr>\n      <th>9995</th>\n      <td>162121</td>\n      <td>American Fried: Adventures of a Happy Eater.</td>\n      <td>7</td>\n    </tr>\n    <tr>\n      <th>9996</th>\n      <td>162121</td>\n      <td>Cannibal In Manhattan</td>\n      <td>9</td>\n    </tr>\n    <tr>\n      <th>9997</th>\n      <td>162121</td>\n      <td>How to Flirt: A Practical Guide</td>\n      <td>7</td>\n    </tr>\n    <tr>\n      <th>9998</th>\n      <td>162121</td>\n      <td>Twilight</td>\n      <td>8</td>\n    </tr>\n    <tr>\n      <th>9999</th>\n      <td>162129</td>\n      <td>Kids Say the Darndest Things</td>\n      <td>6</td>\n    </tr>\n  </tbody>\n</table>\n<p>10000 rows × 3 columns</p>\n</div>",
            "text/plain": "      UserID                                          BookTitle  BookRating\n0     276726                                Classical Mythology           5\n1     276729                                       Clara Callan           3\n2     276729                               Decision in Normandy           6\n3     276736  Flu: The Story of the Great Influenza Pandemic...           8\n4     276737                             The Mummies of Urumchi           6\n...      ...                                                ...         ...\n9995  162121       American Fried: Adventures of a Happy Eater.           7\n9996  162121                              Cannibal In Manhattan           9\n9997  162121                    How to Flirt: A Practical Guide           7\n9998  162121                                           Twilight           8\n9999  162129                       Kids Say the Darndest Things           6\n\n[10000 rows x 3 columns]"
          },
          "execution_count": 172,
          "metadata": {},
          "output_type": "execute_result"
        }
      ]
    },
    {
      "metadata": {
        "trusted": false,
        "id": "a0cc1a44"
      },
      "id": "a0cc1a44",
      "cell_type": "code",
      "source": [
        "book =book.sort_values(by=['UserID'])"
      ],
      "execution_count": null,
      "outputs": []
    },
    {
      "metadata": {
        "trusted": false,
        "id": "bcfa8481",
        "outputId": "3fc9255b-9dd0-4b96-a779-ae1bb7645778"
      },
      "id": "bcfa8481",
      "cell_type": "code",
      "source": [
        "#number of unique users in the dataset\n",
        "len(book.UserID.unique())"
      ],
      "execution_count": null,
      "outputs": [
        {
          "data": {
            "text/plain": "2182"
          },
          "execution_count": 174,
          "metadata": {},
          "output_type": "execute_result"
        }
      ]
    },
    {
      "metadata": {
        "trusted": false,
        "id": "d193e653",
        "outputId": "108d5293-b92d-49b4-b7a1-67401c28d887"
      },
      "id": "d193e653",
      "cell_type": "code",
      "source": [
        "#Unique movies\n",
        "len(book.BookTitle.unique())"
      ],
      "execution_count": null,
      "outputs": [
        {
          "data": {
            "text/plain": "9659"
          },
          "execution_count": 175,
          "metadata": {},
          "output_type": "execute_result"
        }
      ]
    },
    {
      "metadata": {
        "trusted": false,
        "id": "4fe1ba71"
      },
      "id": "4fe1ba71",
      "cell_type": "code",
      "source": [
        "book.loc[book[\"BookRating\"] == 'small', 'BookRating'] = 0\n",
        "book.loc[book[\"BookRating\"] == 'large', 'BookRating'] = 1"
      ],
      "execution_count": null,
      "outputs": []
    },
    {
      "metadata": {
        "trusted": false,
        "id": "21033b10",
        "outputId": "62a5966b-8b87-40c4-c00c-9c2f6c5c2c10"
      },
      "id": "21033b10",
      "cell_type": "code",
      "source": [
        "book.BookRating.value_counts()"
      ],
      "execution_count": null,
      "outputs": [
        {
          "data": {
            "text/plain": "8     2283\n7     2076\n10    1732\n9     1493\n5     1007\n6      920\n4      237\n3      146\n2       63\n1       43\nName: BookRating, dtype: int64"
          },
          "execution_count": 177,
          "metadata": {},
          "output_type": "execute_result"
        }
      ]
    },
    {
      "metadata": {
        "trusted": false,
        "id": "ae88942d",
        "outputId": "8ba2e632-bf86-49c5-b42a-3f9740cb70e0"
      },
      "id": "ae88942d",
      "cell_type": "code",
      "source": [
        "plt.figure(figsize=(20,6))\n",
        "sns.distplot(book.BookRating)"
      ],
      "execution_count": null,
      "outputs": [
        {
          "data": {
            "text/plain": "<AxesSubplot:xlabel='BookRating', ylabel='Density'>"
          },
          "execution_count": 178,
          "metadata": {},
          "output_type": "execute_result"
        },
        {
          "data": {
            "image/png": "[encoded data removed]",
            "text/plain": "<Figure size 1440x432 with 1 Axes>"
          },
          "metadata": {
            "needs_background": "light"
          },
          "output_type": "display_data"
        }
      ]
    },
    {
      "metadata": {
        "trusted": false,
        "id": "47e46e51"
      },
      "id": "47e46e51",
      "cell_type": "code",
      "source": [
        "book_df = book.pivot_table(index='UserID',\n",
        "                   columns='BookTitle',\n",
        "                   values='BookRating').reset_index(drop=True)"
      ],
      "execution_count": null,
      "outputs": []
    },
    {
      "metadata": {
        "trusted": false,
        "id": "ae9f487a"
      },
      "id": "ae9f487a",
      "cell_type": "code",
      "source": [
        "book_df.fillna(0,inplace=True)"
      ],
      "execution_count": null,
      "outputs": []
    },
    {
      "metadata": {
        "trusted": false,
        "id": "ec4c9c0c",
        "outputId": "893baeff-d8c1-499d-bb82-fd63ab304454"
      },
      "id": "ec4c9c0c",
      "cell_type": "code",
      "source": [
        "book_df"
      ],
      "execution_count": null,
      "outputs": [
        {
          "data": {
            "text/html": "<div>\n<style scoped>\n    .dataframe tbody tr th:only-of-type {\n        vertical-align: middle;\n    }\n\n    .dataframe tbody tr th {\n        vertical-align: top;\n    }\n\n    .dataframe thead th {\n        text-align: right;\n    }\n</style>\n<table border=\"1\" class=\"dataframe\">\n  <thead>\n    <tr style=\"text-align: right;\">\n      <th>BookTitle</th>\n      <th>Jason, Madison &amp;amp</th>\n      <th>Other Stories;Merril;1985;McClelland &amp;amp</th>\n      <th>Repairing PC Drives &amp;amp</th>\n      <th>'48</th>\n      <th>'O Au No Keia: Voices from Hawai'I's Mahu and Transgender Communities</th>\n      <th>...AND THE HORSE HE RODE IN ON : THE PEOPLE V. KENNETH STARR</th>\n      <th>01-01-00: A Novel of the Millennium</th>\n      <th>1,401 More Things That P*Ss Me Off</th>\n      <th>10 Commandments Of Dating</th>\n      <th>100 Great Fantasy Short, Short Stories</th>\n      <th>...</th>\n      <th>Zora Hurston and the Chinaberry Tree (Reading Rainbow Book)</th>\n      <th>\\Even Monkeys Fall from Trees\\ and Other Japanese Proverbs</th>\n      <th>\\I Won't Learn from You\\: And Other Thoughts on Creative Maladjustment</th>\n      <th>\\More More More,\\ Said the Baby</th>\n      <th>\\O\\ Is for Outlaw</th>\n      <th>\\Surely You're Joking, Mr. Feynman!\\: Adventures of a Curious Character</th>\n      <th>\\Well, there's your problem\\: Cartoons</th>\n      <th>iI Paradiso Degli Orchi</th>\n      <th>stardust</th>\n      <th>�?�?bermorgen.</th>\n    </tr>\n  </thead>\n  <tbody>\n    <tr>\n      <th>0</th>\n      <td>0.0</td>\n      <td>0.0</td>\n      <td>0.0</td>\n      <td>0.0</td>\n      <td>0.0</td>\n      <td>0.0</td>\n      <td>0.0</td>\n      <td>0.0</td>\n      <td>0.0</td>\n      <td>0.0</td>\n      <td>...</td>\n      <td>0.0</td>\n      <td>0.0</td>\n      <td>0.0</td>\n      <td>0.0</td>\n      <td>0.0</td>\n      <td>0.0</td>\n      <td>0.0</td>\n      <td>0.0</td>\n      <td>0.0</td>\n      <td>0.0</td>\n    </tr>\n    <tr>\n      <th>1</th>\n      <td>0.0</td>\n      <td>0.0</td>\n      <td>0.0</td>\n      <td>0.0</td>\n      <td>0.0</td>\n      <td>0.0</td>\n      <td>0.0</td>\n      <td>0.0</td>\n      <td>0.0</td>\n      <td>0.0</td>\n      <td>...</td>\n      <td>0.0</td>\n      <td>0.0</td>\n      <td>0.0</td>\n      <td>0.0</td>\n      <td>0.0</td>\n      <td>0.0</td>\n      <td>0.0</td>\n      <td>0.0</td>\n      <td>0.0</td>\n      <td>0.0</td>\n    </tr>\n    <tr>\n      <th>2</th>\n      <td>0.0</td>\n      <td>0.0</td>\n      <td>0.0</td>\n      <td>0.0</td>\n      <td>0.0</td>\n      <td>0.0</td>\n      <td>0.0</td>\n      <td>0.0</td>\n      <td>0.0</td>\n      <td>0.0</td>\n      <td>...</td>\n      <td>0.0</td>\n      <td>0.0</td>\n      <td>0.0</td>\n      <td>0.0</td>\n      <td>0.0</td>\n      <td>0.0</td>\n      <td>0.0</td>\n      <td>0.0</td>\n      <td>0.0</td>\n      <td>0.0</td>\n    </tr>\n    <tr>\n      <th>3</th>\n      <td>0.0</td>\n      <td>0.0</td>\n      <td>0.0</td>\n      <td>0.0</td>\n      <td>0.0</td>\n      <td>0.0</td>\n      <td>0.0</td>\n      <td>0.0</td>\n      <td>0.0</td>\n      <td>0.0</td>\n      <td>...</td>\n      <td>0.0</td>\n      <td>0.0</td>\n      <td>0.0</td>\n      <td>0.0</td>\n      <td>0.0</td>\n      <td>0.0</td>\n      <td>0.0</td>\n      <td>0.0</td>\n      <td>0.0</td>\n      <td>0.0</td>\n    </tr>\n    <tr>\n      <th>4</th>\n      <td>0.0</td>\n      <td>0.0</td>\n      <td>0.0</td>\n      <td>0.0</td>\n      <td>0.0</td>\n      <td>0.0</td>\n      <td>0.0</td>\n      <td>0.0</td>\n      <td>0.0</td>\n      <td>0.0</td>\n      <td>...</td>\n      <td>0.0</td>\n      <td>0.0</td>\n      <td>0.0</td>\n      <td>0.0</td>\n      <td>0.0</td>\n      <td>0.0</td>\n      <td>0.0</td>\n      <td>0.0</td>\n      <td>0.0</td>\n      <td>0.0</td>\n    </tr>\n    <tr>\n      <th>...</th>\n      <td>...</td>\n      <td>...</td>\n      <td>...</td>\n      <td>...</td>\n      <td>...</td>\n      <td>...</td>\n      <td>...</td>\n      <td>...</td>\n      <td>...</td>\n      <td>...</td>\n      <td>...</td>\n      <td>...</td>\n      <td>...</td>\n      <td>...</td>\n      <td>...</td>\n      <td>...</td>\n      <td>...</td>\n      <td>...</td>\n      <td>...</td>\n      <td>...</td>\n      <td>...</td>\n    </tr>\n    <tr>\n      <th>2177</th>\n      <td>0.0</td>\n      <td>0.0</td>\n      <td>0.0</td>\n      <td>0.0</td>\n      <td>0.0</td>\n      <td>0.0</td>\n      <td>0.0</td>\n      <td>0.0</td>\n      <td>0.0</td>\n      <td>0.0</td>\n      <td>...</td>\n      <td>0.0</td>\n      <td>0.0</td>\n      <td>0.0</td>\n      <td>0.0</td>\n      <td>0.0</td>\n      <td>0.0</td>\n      <td>0.0</td>\n      <td>0.0</td>\n      <td>0.0</td>\n      <td>0.0</td>\n    </tr>\n    <tr>\n      <th>2178</th>\n      <td>0.0</td>\n      <td>0.0</td>\n      <td>0.0</td>\n      <td>0.0</td>\n      <td>0.0</td>\n      <td>0.0</td>\n      <td>0.0</td>\n      <td>0.0</td>\n      <td>0.0</td>\n      <td>0.0</td>\n      <td>...</td>\n      <td>0.0</td>\n      <td>0.0</td>\n      <td>0.0</td>\n      <td>0.0</td>\n      <td>0.0</td>\n      <td>0.0</td>\n      <td>0.0</td>\n      <td>0.0</td>\n      <td>0.0</td>\n      <td>0.0</td>\n    </tr>\n    <tr>\n      <th>2179</th>\n      <td>0.0</td>\n      <td>0.0</td>\n      <td>0.0</td>\n      <td>0.0</td>\n      <td>0.0</td>\n      <td>0.0</td>\n      <td>0.0</td>\n      <td>0.0</td>\n      <td>0.0</td>\n      <td>0.0</td>\n      <td>...</td>\n      <td>0.0</td>\n      <td>0.0</td>\n      <td>0.0</td>\n      <td>0.0</td>\n      <td>0.0</td>\n      <td>0.0</td>\n      <td>0.0</td>\n      <td>7.0</td>\n      <td>0.0</td>\n      <td>0.0</td>\n    </tr>\n    <tr>\n      <th>2180</th>\n      <td>0.0</td>\n      <td>0.0</td>\n      <td>0.0</td>\n      <td>0.0</td>\n      <td>0.0</td>\n      <td>0.0</td>\n      <td>0.0</td>\n      <td>0.0</td>\n      <td>0.0</td>\n      <td>0.0</td>\n      <td>...</td>\n      <td>0.0</td>\n      <td>0.0</td>\n      <td>0.0</td>\n      <td>0.0</td>\n      <td>0.0</td>\n      <td>0.0</td>\n      <td>0.0</td>\n      <td>0.0</td>\n      <td>0.0</td>\n      <td>0.0</td>\n    </tr>\n    <tr>\n      <th>2181</th>\n      <td>0.0</td>\n      <td>0.0</td>\n      <td>0.0</td>\n      <td>0.0</td>\n      <td>0.0</td>\n      <td>0.0</td>\n      <td>0.0</td>\n      <td>0.0</td>\n      <td>0.0</td>\n      <td>0.0</td>\n      <td>...</td>\n      <td>0.0</td>\n      <td>0.0</td>\n      <td>0.0</td>\n      <td>0.0</td>\n      <td>0.0</td>\n      <td>0.0</td>\n      <td>0.0</td>\n      <td>0.0</td>\n      <td>0.0</td>\n      <td>0.0</td>\n    </tr>\n  </tbody>\n</table>\n<p>2182 rows × 9659 columns</p>\n</div>",
            "text/plain": "BookTitle   Jason, Madison &amp   Other Stories;Merril;1985;McClelland &amp  \\\n0                           0.0                                         0.0   \n1                           0.0                                         0.0   \n2                           0.0                                         0.0   \n3                           0.0                                         0.0   \n4                           0.0                                         0.0   \n...                         ...                                         ...   \n2177                        0.0                                         0.0   \n2178                        0.0                                         0.0   \n2179                        0.0                                         0.0   \n2180                        0.0                                         0.0   \n2181                        0.0                                         0.0   \n\nBookTitle   Repairing PC Drives &amp  '48  \\\n0                                0.0  0.0   \n1                                0.0  0.0   \n2                                0.0  0.0   \n3                                0.0  0.0   \n4                                0.0  0.0   \n...                              ...  ...   \n2177                             0.0  0.0   \n2178                             0.0  0.0   \n2179                             0.0  0.0   \n2180                             0.0  0.0   \n2181                             0.0  0.0   \n\nBookTitle  'O Au No Keia: Voices from Hawai'I's Mahu and Transgender Communities  \\\n0                                                        0.0                       \n1                                                        0.0                       \n2                                                        0.0                       \n3                                                        0.0                       \n4                                                        0.0                       \n...                                                      ...                       \n2177                                                     0.0                       \n2178                                                     0.0                       \n2179                                                     0.0                       \n2180                                                     0.0                       \n2181                                                     0.0                       \n\nBookTitle  ...AND THE HORSE HE RODE IN ON : THE PEOPLE V. KENNETH STARR  \\\n0                                                        0.0              \n1                                                        0.0              \n2                                                        0.0              \n3                                                        0.0              \n4                                                        0.0              \n...                                                      ...              \n2177                                                     0.0              \n2178                                                     0.0              \n2179                                                     0.0              \n2180                                                     0.0              \n2181                                                     0.0              \n\nBookTitle  01-01-00: A Novel of the Millennium  \\\n0                                          0.0   \n1                                          0.0   \n2                                          0.0   \n3                                          0.0   \n4                                          0.0   \n...                                        ...   \n2177                                       0.0   \n2178                                       0.0   \n2179                                       0.0   \n2180                                       0.0   \n2181                                       0.0   \n\nBookTitle  1,401 More Things That P*Ss Me Off  10 Commandments Of Dating  \\\n0                                         0.0                        0.0   \n1                                         0.0                        0.0   \n2                                         0.0                        0.0   \n3                                         0.0                        0.0   \n4                                         0.0                        0.0   \n...                                       ...                        ...   \n2177                                      0.0                        0.0   \n2178                                      0.0                        0.0   \n2179                                      0.0                        0.0   \n2180                                      0.0                        0.0   \n2181                                      0.0                        0.0   \n\nBookTitle  100 Great Fantasy Short, Short Stories  ...  \\\n0                                             0.0  ...   \n1                                             0.0  ...   \n2                                             0.0  ...   \n3                                             0.0  ...   \n4                                             0.0  ...   \n...                                           ...  ...   \n2177                                          0.0  ...   \n2178                                          0.0  ...   \n2179                                          0.0  ...   \n2180                                          0.0  ...   \n2181                                          0.0  ...   \n\nBookTitle  Zora Hurston and the Chinaberry Tree (Reading Rainbow Book)  \\\n0                                                        0.0             \n1                                                        0.0             \n2                                                        0.0             \n3                                                        0.0             \n4                                                        0.0             \n...                                                      ...             \n2177                                                     0.0             \n2178                                                     0.0             \n2179                                                     0.0             \n2180                                                     0.0             \n2181                                                     0.0             \n\nBookTitle  \\Even Monkeys Fall from Trees\\ and Other Japanese Proverbs  \\\n0                                                        0.0            \n1                                                        0.0            \n2                                                        0.0            \n3                                                        0.0            \n4                                                        0.0            \n...                                                      ...            \n2177                                                     0.0            \n2178                                                     0.0            \n2179                                                     0.0            \n2180                                                     0.0            \n2181                                                     0.0            \n\nBookTitle  \\I Won't Learn from You\\: And Other Thoughts on Creative Maladjustment  \\\n0                                                        0.0                        \n1                                                        0.0                        \n2                                                        0.0                        \n3                                                        0.0                        \n4                                                        0.0                        \n...                                                      ...                        \n2177                                                     0.0                        \n2178                                                     0.0                        \n2179                                                     0.0                        \n2180                                                     0.0                        \n2181                                                     0.0                        \n\nBookTitle  \\More More More,\\ Said the Baby  \\O\\ Is for Outlaw  \\\n0                                      0.0                0.0   \n1                                      0.0                0.0   \n2                                      0.0                0.0   \n3                                      0.0                0.0   \n4                                      0.0                0.0   \n...                                    ...                ...   \n2177                                   0.0                0.0   \n2178                                   0.0                0.0   \n2179                                   0.0                0.0   \n2180                                   0.0                0.0   \n2181                                   0.0                0.0   \n\nBookTitle  \\Surely You're Joking, Mr. Feynman!\\: Adventures of a Curious Character  \\\n0                                                        0.0                         \n1                                                        0.0                         \n2                                                        0.0                         \n3                                                        0.0                         \n4                                                        0.0                         \n...                                                      ...                         \n2177                                                     0.0                         \n2178                                                     0.0                         \n2179                                                     0.0                         \n2180                                                     0.0                         \n2181                                                     0.0                         \n\nBookTitle  \\Well, there's your problem\\: Cartoons  iI Paradiso Degli Orchi  \\\n0                                             0.0                      0.0   \n1                                             0.0                      0.0   \n2                                             0.0                      0.0   \n3                                             0.0                      0.0   \n4                                             0.0                      0.0   \n...                                           ...                      ...   \n2177                                          0.0                      0.0   \n2178                                          0.0                      0.0   \n2179                                          0.0                      7.0   \n2180                                          0.0                      0.0   \n2181                                          0.0                      0.0   \n\nBookTitle  stardust  �?�?bermorgen.  \n0               0.0             0.0  \n1               0.0             0.0  \n2               0.0             0.0  \n3               0.0             0.0  \n4               0.0             0.0  \n...             ...             ...  \n2177            0.0             0.0  \n2178            0.0             0.0  \n2179            0.0             0.0  \n2180            0.0             0.0  \n2181            0.0             0.0  \n\n[2182 rows x 9659 columns]"
          },
          "execution_count": 181,
          "metadata": {},
          "output_type": "execute_result"
        }
      ]
    },
    {
      "metadata": {
        "id": "faeeba64"
      },
      "id": "faeeba64",
      "cell_type": "markdown",
      "source": [
        "## AVERAGE RATING OF BOOKS"
      ]
    },
    {
      "metadata": {
        "trusted": false,
        "id": "a10d9a16",
        "outputId": "8255c954-4a07-46d0-e43b-f8e1503ce3da"
      },
      "id": "a10d9a16",
      "cell_type": "code",
      "source": [
        "AVG = book['BookRating'].mean()\n",
        "print(AVG)"
      ],
      "execution_count": null,
      "outputs": [
        {
          "name": "stdout",
          "output_type": "stream",
          "text": "7.5663\n"
        }
      ]
    },
    {
      "metadata": {
        "trusted": false,
        "id": "96ea96f2",
        "outputId": "6ee77b15-6c02-49ee-8e52-64422c1e6b64"
      },
      "id": "96ea96f2",
      "cell_type": "code",
      "source": [
        "# Calculate the minimum number of votes required to be in the chart,\n",
        "minimum = book['BookRating'].quantile(0.90)\n",
        "print(minimum)"
      ],
      "execution_count": null,
      "outputs": [
        {
          "name": "stdout",
          "output_type": "stream",
          "text": "10.0\n"
        }
      ]
    },
    {
      "metadata": {
        "trusted": false,
        "id": "f43e85af",
        "outputId": "5567cb6a-eeda-4259-c845-16b1f6dd7653"
      },
      "id": "f43e85af",
      "cell_type": "code",
      "source": [
        "# Filter out all qualified Books into a new DataFrame\n",
        "q_Books = book.copy().loc[book['BookRating'] >= minimum]\n",
        "q_Books.shape"
      ],
      "execution_count": null,
      "outputs": [
        {
          "data": {
            "text/plain": "(1732, 3)"
          },
          "execution_count": 184,
          "metadata": {},
          "output_type": "execute_result"
        }
      ]
    },
    {
      "metadata": {
        "id": "ecb66ffa"
      },
      "id": "ecb66ffa",
      "cell_type": "markdown",
      "source": [
        "### Calculating Cosine Similarity between Users"
      ]
    },
    {
      "metadata": {
        "trusted": false,
        "id": "e7cea112"
      },
      "id": "e7cea112",
      "cell_type": "code",
      "source": [
        "from sklearn.metrics import pairwise_distances\n",
        "from scipy.spatial.distance import cosine,correlation"
      ],
      "execution_count": null,
      "outputs": []
    },
    {
      "metadata": {
        "trusted": false,
        "id": "fd145d9b"
      },
      "id": "fd145d9b",
      "cell_type": "code",
      "source": [
        "user_sim=1-pairwise_distances(book_df.values,metric='cosine')"
      ],
      "execution_count": null,
      "outputs": []
    },
    {
      "metadata": {
        "trusted": false,
        "id": "3a3af221",
        "outputId": "cb396fb6-3665-46a1-8f39-88ed6c41ea86"
      },
      "id": "3a3af221",
      "cell_type": "code",
      "source": [
        "user_sim"
      ],
      "execution_count": null,
      "outputs": [
        {
          "data": {
            "text/plain": "array([[1., 0., 0., ..., 0., 0., 0.],\n       [0., 1., 0., ..., 0., 0., 0.],\n       [0., 0., 1., ..., 0., 0., 0.],\n       ...,\n       [0., 0., 0., ..., 1., 0., 0.],\n       [0., 0., 0., ..., 0., 1., 0.],\n       [0., 0., 0., ..., 0., 0., 1.]])"
          },
          "execution_count": 187,
          "metadata": {},
          "output_type": "execute_result"
        }
      ]
    },
    {
      "metadata": {
        "trusted": false,
        "id": "5984ad6c"
      },
      "id": "5984ad6c",
      "cell_type": "code",
      "source": [
        "user_sim_df=pd.DataFrame(user_sim)"
      ],
      "execution_count": null,
      "outputs": []
    },
    {
      "metadata": {
        "trusted": false,
        "id": "22bfe8cb",
        "outputId": "760731ac-a36d-4aab-adab-a274a7878548"
      },
      "id": "22bfe8cb",
      "cell_type": "code",
      "source": [
        "user_sim_df"
      ],
      "execution_count": null,
      "outputs": [
        {
          "data": {
            "text/html": "<div>\n<style scoped>\n    .dataframe tbody tr th:only-of-type {\n        vertical-align: middle;\n    }\n\n    .dataframe tbody tr th {\n        vertical-align: top;\n    }\n\n    .dataframe thead th {\n        text-align: right;\n    }\n</style>\n<table border=\"1\" class=\"dataframe\">\n  <thead>\n    <tr style=\"text-align: right;\">\n      <th></th>\n      <th>0</th>\n      <th>1</th>\n      <th>2</th>\n      <th>3</th>\n      <th>4</th>\n      <th>5</th>\n      <th>6</th>\n      <th>7</th>\n      <th>8</th>\n      <th>9</th>\n      <th>...</th>\n      <th>2172</th>\n      <th>2173</th>\n      <th>2174</th>\n      <th>2175</th>\n      <th>2176</th>\n      <th>2177</th>\n      <th>2178</th>\n      <th>2179</th>\n      <th>2180</th>\n      <th>2181</th>\n    </tr>\n  </thead>\n  <tbody>\n    <tr>\n      <th>0</th>\n      <td>1.0</td>\n      <td>0.0</td>\n      <td>0.0</td>\n      <td>0.0</td>\n      <td>0.0</td>\n      <td>0.0</td>\n      <td>0.0</td>\n      <td>0.0</td>\n      <td>0.0</td>\n      <td>0.0</td>\n      <td>...</td>\n      <td>0.0</td>\n      <td>0.0</td>\n      <td>0.0</td>\n      <td>0.0</td>\n      <td>0.0</td>\n      <td>0.0</td>\n      <td>0.0</td>\n      <td>0.0</td>\n      <td>0.0</td>\n      <td>0.0</td>\n    </tr>\n    <tr>\n      <th>1</th>\n      <td>0.0</td>\n      <td>1.0</td>\n      <td>0.0</td>\n      <td>0.0</td>\n      <td>0.0</td>\n      <td>0.0</td>\n      <td>0.0</td>\n      <td>0.0</td>\n      <td>0.0</td>\n      <td>0.0</td>\n      <td>...</td>\n      <td>0.0</td>\n      <td>0.0</td>\n      <td>0.0</td>\n      <td>0.0</td>\n      <td>0.0</td>\n      <td>0.0</td>\n      <td>0.0</td>\n      <td>0.0</td>\n      <td>0.0</td>\n      <td>0.0</td>\n    </tr>\n    <tr>\n      <th>2</th>\n      <td>0.0</td>\n      <td>0.0</td>\n      <td>1.0</td>\n      <td>0.0</td>\n      <td>0.0</td>\n      <td>0.0</td>\n      <td>0.0</td>\n      <td>0.0</td>\n      <td>0.0</td>\n      <td>0.0</td>\n      <td>...</td>\n      <td>0.0</td>\n      <td>0.0</td>\n      <td>0.0</td>\n      <td>0.0</td>\n      <td>0.0</td>\n      <td>0.0</td>\n      <td>0.0</td>\n      <td>0.0</td>\n      <td>0.0</td>\n      <td>0.0</td>\n    </tr>\n    <tr>\n      <th>3</th>\n      <td>0.0</td>\n      <td>0.0</td>\n      <td>0.0</td>\n      <td>1.0</td>\n      <td>0.0</td>\n      <td>0.0</td>\n      <td>0.0</td>\n      <td>0.0</td>\n      <td>0.0</td>\n      <td>0.0</td>\n      <td>...</td>\n      <td>0.0</td>\n      <td>0.0</td>\n      <td>0.0</td>\n      <td>0.0</td>\n      <td>0.0</td>\n      <td>0.0</td>\n      <td>0.0</td>\n      <td>0.0</td>\n      <td>0.0</td>\n      <td>0.0</td>\n    </tr>\n    <tr>\n      <th>4</th>\n      <td>0.0</td>\n      <td>0.0</td>\n      <td>0.0</td>\n      <td>0.0</td>\n      <td>1.0</td>\n      <td>0.0</td>\n      <td>0.0</td>\n      <td>0.0</td>\n      <td>0.0</td>\n      <td>0.0</td>\n      <td>...</td>\n      <td>0.0</td>\n      <td>0.0</td>\n      <td>0.0</td>\n      <td>0.0</td>\n      <td>0.0</td>\n      <td>0.0</td>\n      <td>0.0</td>\n      <td>0.0</td>\n      <td>0.0</td>\n      <td>0.0</td>\n    </tr>\n    <tr>\n      <th>...</th>\n      <td>...</td>\n      <td>...</td>\n      <td>...</td>\n      <td>...</td>\n      <td>...</td>\n      <td>...</td>\n      <td>...</td>\n      <td>...</td>\n      <td>...</td>\n      <td>...</td>\n      <td>...</td>\n      <td>...</td>\n      <td>...</td>\n      <td>...</td>\n      <td>...</td>\n      <td>...</td>\n      <td>...</td>\n      <td>...</td>\n      <td>...</td>\n      <td>...</td>\n      <td>...</td>\n    </tr>\n    <tr>\n      <th>2177</th>\n      <td>0.0</td>\n      <td>0.0</td>\n      <td>0.0</td>\n      <td>0.0</td>\n      <td>0.0</td>\n      <td>0.0</td>\n      <td>0.0</td>\n      <td>0.0</td>\n      <td>0.0</td>\n      <td>0.0</td>\n      <td>...</td>\n      <td>0.0</td>\n      <td>0.0</td>\n      <td>0.0</td>\n      <td>0.0</td>\n      <td>0.0</td>\n      <td>1.0</td>\n      <td>0.0</td>\n      <td>0.0</td>\n      <td>0.0</td>\n      <td>0.0</td>\n    </tr>\n    <tr>\n      <th>2178</th>\n      <td>0.0</td>\n      <td>0.0</td>\n      <td>0.0</td>\n      <td>0.0</td>\n      <td>0.0</td>\n      <td>0.0</td>\n      <td>0.0</td>\n      <td>0.0</td>\n      <td>0.0</td>\n      <td>0.0</td>\n      <td>...</td>\n      <td>0.0</td>\n      <td>0.0</td>\n      <td>0.0</td>\n      <td>0.0</td>\n      <td>0.0</td>\n      <td>0.0</td>\n      <td>1.0</td>\n      <td>0.0</td>\n      <td>0.0</td>\n      <td>0.0</td>\n    </tr>\n    <tr>\n      <th>2179</th>\n      <td>0.0</td>\n      <td>0.0</td>\n      <td>0.0</td>\n      <td>0.0</td>\n      <td>0.0</td>\n      <td>0.0</td>\n      <td>0.0</td>\n      <td>0.0</td>\n      <td>0.0</td>\n      <td>0.0</td>\n      <td>...</td>\n      <td>0.0</td>\n      <td>0.0</td>\n      <td>0.0</td>\n      <td>0.0</td>\n      <td>0.0</td>\n      <td>0.0</td>\n      <td>0.0</td>\n      <td>1.0</td>\n      <td>0.0</td>\n      <td>0.0</td>\n    </tr>\n    <tr>\n      <th>2180</th>\n      <td>0.0</td>\n      <td>0.0</td>\n      <td>0.0</td>\n      <td>0.0</td>\n      <td>0.0</td>\n      <td>0.0</td>\n      <td>0.0</td>\n      <td>0.0</td>\n      <td>0.0</td>\n      <td>0.0</td>\n      <td>...</td>\n      <td>0.0</td>\n      <td>0.0</td>\n      <td>0.0</td>\n      <td>0.0</td>\n      <td>0.0</td>\n      <td>0.0</td>\n      <td>0.0</td>\n      <td>0.0</td>\n      <td>1.0</td>\n      <td>0.0</td>\n    </tr>\n    <tr>\n      <th>2181</th>\n      <td>0.0</td>\n      <td>0.0</td>\n      <td>0.0</td>\n      <td>0.0</td>\n      <td>0.0</td>\n      <td>0.0</td>\n      <td>0.0</td>\n      <td>0.0</td>\n      <td>0.0</td>\n      <td>0.0</td>\n      <td>...</td>\n      <td>0.0</td>\n      <td>0.0</td>\n      <td>0.0</td>\n      <td>0.0</td>\n      <td>0.0</td>\n      <td>0.0</td>\n      <td>0.0</td>\n      <td>0.0</td>\n      <td>0.0</td>\n      <td>1.0</td>\n    </tr>\n  </tbody>\n</table>\n<p>2182 rows × 2182 columns</p>\n</div>",
            "text/plain": "      0     1     2     3     4     5     6     7     8     9     ...  2172  \\\n0      1.0   0.0   0.0   0.0   0.0   0.0   0.0   0.0   0.0   0.0  ...   0.0   \n1      0.0   1.0   0.0   0.0   0.0   0.0   0.0   0.0   0.0   0.0  ...   0.0   \n2      0.0   0.0   1.0   0.0   0.0   0.0   0.0   0.0   0.0   0.0  ...   0.0   \n3      0.0   0.0   0.0   1.0   0.0   0.0   0.0   0.0   0.0   0.0  ...   0.0   \n4      0.0   0.0   0.0   0.0   1.0   0.0   0.0   0.0   0.0   0.0  ...   0.0   \n...    ...   ...   ...   ...   ...   ...   ...   ...   ...   ...  ...   ...   \n2177   0.0   0.0   0.0   0.0   0.0   0.0   0.0   0.0   0.0   0.0  ...   0.0   \n2178   0.0   0.0   0.0   0.0   0.0   0.0   0.0   0.0   0.0   0.0  ...   0.0   \n2179   0.0   0.0   0.0   0.0   0.0   0.0   0.0   0.0   0.0   0.0  ...   0.0   \n2180   0.0   0.0   0.0   0.0   0.0   0.0   0.0   0.0   0.0   0.0  ...   0.0   \n2181   0.0   0.0   0.0   0.0   0.0   0.0   0.0   0.0   0.0   0.0  ...   0.0   \n\n      2173  2174  2175  2176  2177  2178  2179  2180  2181  \n0      0.0   0.0   0.0   0.0   0.0   0.0   0.0   0.0   0.0  \n1      0.0   0.0   0.0   0.0   0.0   0.0   0.0   0.0   0.0  \n2      0.0   0.0   0.0   0.0   0.0   0.0   0.0   0.0   0.0  \n3      0.0   0.0   0.0   0.0   0.0   0.0   0.0   0.0   0.0  \n4      0.0   0.0   0.0   0.0   0.0   0.0   0.0   0.0   0.0  \n...    ...   ...   ...   ...   ...   ...   ...   ...   ...  \n2177   0.0   0.0   0.0   0.0   1.0   0.0   0.0   0.0   0.0  \n2178   0.0   0.0   0.0   0.0   0.0   1.0   0.0   0.0   0.0  \n2179   0.0   0.0   0.0   0.0   0.0   0.0   1.0   0.0   0.0  \n2180   0.0   0.0   0.0   0.0   0.0   0.0   0.0   1.0   0.0  \n2181   0.0   0.0   0.0   0.0   0.0   0.0   0.0   0.0   1.0  \n\n[2182 rows x 2182 columns]"
          },
          "execution_count": 189,
          "metadata": {},
          "output_type": "execute_result"
        }
      ]
    },
    {
      "metadata": {
        "trusted": false,
        "id": "e323b706"
      },
      "id": "e323b706",
      "cell_type": "code",
      "source": [
        "#Set the index and column names to user ids\n",
        "user_sim_df.index = book.UserID.unique()\n",
        "user_sim_df.columns = book.UserID.unique()"
      ],
      "execution_count": null,
      "outputs": []
    },
    {
      "metadata": {
        "trusted": false,
        "id": "8c9db1ad",
        "outputId": "467f8c8c-08cf-474c-cf28-b8584b2414a8"
      },
      "id": "8c9db1ad",
      "cell_type": "code",
      "source": [
        "user_sim_df"
      ],
      "execution_count": null,
      "outputs": [
        {
          "data": {
            "text/html": "<div>\n<style scoped>\n    .dataframe tbody tr th:only-of-type {\n        vertical-align: middle;\n    }\n\n    .dataframe tbody tr th {\n        vertical-align: top;\n    }\n\n    .dataframe thead th {\n        text-align: right;\n    }\n</style>\n<table border=\"1\" class=\"dataframe\">\n  <thead>\n    <tr style=\"text-align: right;\">\n      <th></th>\n      <th>8</th>\n      <th>9</th>\n      <th>10</th>\n      <th>12</th>\n      <th>14</th>\n      <th>16</th>\n      <th>17</th>\n      <th>19</th>\n      <th>22</th>\n      <th>26</th>\n      <th>...</th>\n      <th>278831</th>\n      <th>278832</th>\n      <th>278836</th>\n      <th>278843</th>\n      <th>278844</th>\n      <th>278846</th>\n      <th>278849</th>\n      <th>278851</th>\n      <th>278852</th>\n      <th>278854</th>\n    </tr>\n  </thead>\n  <tbody>\n    <tr>\n      <th>8</th>\n      <td>1.0</td>\n      <td>0.0</td>\n      <td>0.0</td>\n      <td>0.0</td>\n      <td>0.0</td>\n      <td>0.0</td>\n      <td>0.0</td>\n      <td>0.0</td>\n      <td>0.0</td>\n      <td>0.0</td>\n      <td>...</td>\n      <td>0.0</td>\n      <td>0.0</td>\n      <td>0.0</td>\n      <td>0.0</td>\n      <td>0.0</td>\n      <td>0.0</td>\n      <td>0.0</td>\n      <td>0.0</td>\n      <td>0.0</td>\n      <td>0.0</td>\n    </tr>\n    <tr>\n      <th>9</th>\n      <td>0.0</td>\n      <td>1.0</td>\n      <td>0.0</td>\n      <td>0.0</td>\n      <td>0.0</td>\n      <td>0.0</td>\n      <td>0.0</td>\n      <td>0.0</td>\n      <td>0.0</td>\n      <td>0.0</td>\n      <td>...</td>\n      <td>0.0</td>\n      <td>0.0</td>\n      <td>0.0</td>\n      <td>0.0</td>\n      <td>0.0</td>\n      <td>0.0</td>\n      <td>0.0</td>\n      <td>0.0</td>\n      <td>0.0</td>\n      <td>0.0</td>\n    </tr>\n    <tr>\n      <th>10</th>\n      <td>0.0</td>\n      <td>0.0</td>\n      <td>1.0</td>\n      <td>0.0</td>\n      <td>0.0</td>\n      <td>0.0</td>\n      <td>0.0</td>\n      <td>0.0</td>\n      <td>0.0</td>\n      <td>0.0</td>\n      <td>...</td>\n      <td>0.0</td>\n      <td>0.0</td>\n      <td>0.0</td>\n      <td>0.0</td>\n      <td>0.0</td>\n      <td>0.0</td>\n      <td>0.0</td>\n      <td>0.0</td>\n      <td>0.0</td>\n      <td>0.0</td>\n    </tr>\n    <tr>\n      <th>12</th>\n      <td>0.0</td>\n      <td>0.0</td>\n      <td>0.0</td>\n      <td>1.0</td>\n      <td>0.0</td>\n      <td>0.0</td>\n      <td>0.0</td>\n      <td>0.0</td>\n      <td>0.0</td>\n      <td>0.0</td>\n      <td>...</td>\n      <td>0.0</td>\n      <td>0.0</td>\n      <td>0.0</td>\n      <td>0.0</td>\n      <td>0.0</td>\n      <td>0.0</td>\n      <td>0.0</td>\n      <td>0.0</td>\n      <td>0.0</td>\n      <td>0.0</td>\n    </tr>\n    <tr>\n      <th>14</th>\n      <td>0.0</td>\n      <td>0.0</td>\n      <td>0.0</td>\n      <td>0.0</td>\n      <td>1.0</td>\n      <td>0.0</td>\n      <td>0.0</td>\n      <td>0.0</td>\n      <td>0.0</td>\n      <td>0.0</td>\n      <td>...</td>\n      <td>0.0</td>\n      <td>0.0</td>\n      <td>0.0</td>\n      <td>0.0</td>\n      <td>0.0</td>\n      <td>0.0</td>\n      <td>0.0</td>\n      <td>0.0</td>\n      <td>0.0</td>\n      <td>0.0</td>\n    </tr>\n    <tr>\n      <th>...</th>\n      <td>...</td>\n      <td>...</td>\n      <td>...</td>\n      <td>...</td>\n      <td>...</td>\n      <td>...</td>\n      <td>...</td>\n      <td>...</td>\n      <td>...</td>\n      <td>...</td>\n      <td>...</td>\n      <td>...</td>\n      <td>...</td>\n      <td>...</td>\n      <td>...</td>\n      <td>...</td>\n      <td>...</td>\n      <td>...</td>\n      <td>...</td>\n      <td>...</td>\n      <td>...</td>\n    </tr>\n    <tr>\n      <th>278846</th>\n      <td>0.0</td>\n      <td>0.0</td>\n      <td>0.0</td>\n      <td>0.0</td>\n      <td>0.0</td>\n      <td>0.0</td>\n      <td>0.0</td>\n      <td>0.0</td>\n      <td>0.0</td>\n      <td>0.0</td>\n      <td>...</td>\n      <td>0.0</td>\n      <td>0.0</td>\n      <td>0.0</td>\n      <td>0.0</td>\n      <td>0.0</td>\n      <td>1.0</td>\n      <td>0.0</td>\n      <td>0.0</td>\n      <td>0.0</td>\n      <td>0.0</td>\n    </tr>\n    <tr>\n      <th>278849</th>\n      <td>0.0</td>\n      <td>0.0</td>\n      <td>0.0</td>\n      <td>0.0</td>\n      <td>0.0</td>\n      <td>0.0</td>\n      <td>0.0</td>\n      <td>0.0</td>\n      <td>0.0</td>\n      <td>0.0</td>\n      <td>...</td>\n      <td>0.0</td>\n      <td>0.0</td>\n      <td>0.0</td>\n      <td>0.0</td>\n      <td>0.0</td>\n      <td>0.0</td>\n      <td>1.0</td>\n      <td>0.0</td>\n      <td>0.0</td>\n      <td>0.0</td>\n    </tr>\n    <tr>\n      <th>278851</th>\n      <td>0.0</td>\n      <td>0.0</td>\n      <td>0.0</td>\n      <td>0.0</td>\n      <td>0.0</td>\n      <td>0.0</td>\n      <td>0.0</td>\n      <td>0.0</td>\n      <td>0.0</td>\n      <td>0.0</td>\n      <td>...</td>\n      <td>0.0</td>\n      <td>0.0</td>\n      <td>0.0</td>\n      <td>0.0</td>\n      <td>0.0</td>\n      <td>0.0</td>\n      <td>0.0</td>\n      <td>1.0</td>\n      <td>0.0</td>\n      <td>0.0</td>\n    </tr>\n    <tr>\n      <th>278852</th>\n      <td>0.0</td>\n      <td>0.0</td>\n      <td>0.0</td>\n      <td>0.0</td>\n      <td>0.0</td>\n      <td>0.0</td>\n      <td>0.0</td>\n      <td>0.0</td>\n      <td>0.0</td>\n      <td>0.0</td>\n      <td>...</td>\n      <td>0.0</td>\n      <td>0.0</td>\n      <td>0.0</td>\n      <td>0.0</td>\n      <td>0.0</td>\n      <td>0.0</td>\n      <td>0.0</td>\n      <td>0.0</td>\n      <td>1.0</td>\n      <td>0.0</td>\n    </tr>\n    <tr>\n      <th>278854</th>\n      <td>0.0</td>\n      <td>0.0</td>\n      <td>0.0</td>\n      <td>0.0</td>\n      <td>0.0</td>\n      <td>0.0</td>\n      <td>0.0</td>\n      <td>0.0</td>\n      <td>0.0</td>\n      <td>0.0</td>\n      <td>...</td>\n      <td>0.0</td>\n      <td>0.0</td>\n      <td>0.0</td>\n      <td>0.0</td>\n      <td>0.0</td>\n      <td>0.0</td>\n      <td>0.0</td>\n      <td>0.0</td>\n      <td>0.0</td>\n      <td>1.0</td>\n    </tr>\n  </tbody>\n</table>\n<p>2182 rows × 2182 columns</p>\n</div>",
            "text/plain": "        8       9       10      12      14      16      17      19      \\\n8          1.0     0.0     0.0     0.0     0.0     0.0     0.0     0.0   \n9          0.0     1.0     0.0     0.0     0.0     0.0     0.0     0.0   \n10         0.0     0.0     1.0     0.0     0.0     0.0     0.0     0.0   \n12         0.0     0.0     0.0     1.0     0.0     0.0     0.0     0.0   \n14         0.0     0.0     0.0     0.0     1.0     0.0     0.0     0.0   \n...        ...     ...     ...     ...     ...     ...     ...     ...   \n278846     0.0     0.0     0.0     0.0     0.0     0.0     0.0     0.0   \n278849     0.0     0.0     0.0     0.0     0.0     0.0     0.0     0.0   \n278851     0.0     0.0     0.0     0.0     0.0     0.0     0.0     0.0   \n278852     0.0     0.0     0.0     0.0     0.0     0.0     0.0     0.0   \n278854     0.0     0.0     0.0     0.0     0.0     0.0     0.0     0.0   \n\n        22      26      ...  278831  278832  278836  278843  278844  278846  \\\n8          0.0     0.0  ...     0.0     0.0     0.0     0.0     0.0     0.0   \n9          0.0     0.0  ...     0.0     0.0     0.0     0.0     0.0     0.0   \n10         0.0     0.0  ...     0.0     0.0     0.0     0.0     0.0     0.0   \n12         0.0     0.0  ...     0.0     0.0     0.0     0.0     0.0     0.0   \n14         0.0     0.0  ...     0.0     0.0     0.0     0.0     0.0     0.0   \n...        ...     ...  ...     ...     ...     ...     ...     ...     ...   \n278846     0.0     0.0  ...     0.0     0.0     0.0     0.0     0.0     1.0   \n278849     0.0     0.0  ...     0.0     0.0     0.0     0.0     0.0     0.0   \n278851     0.0     0.0  ...     0.0     0.0     0.0     0.0     0.0     0.0   \n278852     0.0     0.0  ...     0.0     0.0     0.0     0.0     0.0     0.0   \n278854     0.0     0.0  ...     0.0     0.0     0.0     0.0     0.0     0.0   \n\n        278849  278851  278852  278854  \n8          0.0     0.0     0.0     0.0  \n9          0.0     0.0     0.0     0.0  \n10         0.0     0.0     0.0     0.0  \n12         0.0     0.0     0.0     0.0  \n14         0.0     0.0     0.0     0.0  \n...        ...     ...     ...     ...  \n278846     0.0     0.0     0.0     0.0  \n278849     1.0     0.0     0.0     0.0  \n278851     0.0     1.0     0.0     0.0  \n278852     0.0     0.0     1.0     0.0  \n278854     0.0     0.0     0.0     1.0  \n\n[2182 rows x 2182 columns]"
          },
          "execution_count": 191,
          "metadata": {},
          "output_type": "execute_result"
        }
      ]
    },
    {
      "metadata": {
        "trusted": false,
        "id": "dc471a9f",
        "outputId": "3c8367aa-97c7-4c7d-c959-59c5651be53b"
      },
      "id": "dc471a9f",
      "cell_type": "code",
      "source": [
        "np.fill_diagonal(user_sim,0)\n",
        "user_sim_df"
      ],
      "execution_count": null,
      "outputs": [
        {
          "data": {
            "text/html": "<div>\n<style scoped>\n    .dataframe tbody tr th:only-of-type {\n        vertical-align: middle;\n    }\n\n    .dataframe tbody tr th {\n        vertical-align: top;\n    }\n\n    .dataframe thead th {\n        text-align: right;\n    }\n</style>\n<table border=\"1\" class=\"dataframe\">\n  <thead>\n    <tr style=\"text-align: right;\">\n      <th></th>\n      <th>8</th>\n      <th>9</th>\n      <th>10</th>\n      <th>12</th>\n      <th>14</th>\n      <th>16</th>\n      <th>17</th>\n      <th>19</th>\n      <th>22</th>\n      <th>26</th>\n      <th>...</th>\n      <th>278831</th>\n      <th>278832</th>\n      <th>278836</th>\n      <th>278843</th>\n      <th>278844</th>\n      <th>278846</th>\n      <th>278849</th>\n      <th>278851</th>\n      <th>278852</th>\n      <th>278854</th>\n    </tr>\n  </thead>\n  <tbody>\n    <tr>\n      <th>8</th>\n      <td>0.0</td>\n      <td>0.0</td>\n      <td>0.0</td>\n      <td>0.0</td>\n      <td>0.0</td>\n      <td>0.0</td>\n      <td>0.0</td>\n      <td>0.0</td>\n      <td>0.0</td>\n      <td>0.0</td>\n      <td>...</td>\n      <td>0.0</td>\n      <td>0.0</td>\n      <td>0.0</td>\n      <td>0.0</td>\n      <td>0.0</td>\n      <td>0.0</td>\n      <td>0.0</td>\n      <td>0.0</td>\n      <td>0.0</td>\n      <td>0.0</td>\n    </tr>\n    <tr>\n      <th>9</th>\n      <td>0.0</td>\n      <td>0.0</td>\n      <td>0.0</td>\n      <td>0.0</td>\n      <td>0.0</td>\n      <td>0.0</td>\n      <td>0.0</td>\n      <td>0.0</td>\n      <td>0.0</td>\n      <td>0.0</td>\n      <td>...</td>\n      <td>0.0</td>\n      <td>0.0</td>\n      <td>0.0</td>\n      <td>0.0</td>\n      <td>0.0</td>\n      <td>0.0</td>\n      <td>0.0</td>\n      <td>0.0</td>\n      <td>0.0</td>\n      <td>0.0</td>\n    </tr>\n    <tr>\n      <th>10</th>\n      <td>0.0</td>\n      <td>0.0</td>\n      <td>0.0</td>\n      <td>0.0</td>\n      <td>0.0</td>\n      <td>0.0</td>\n      <td>0.0</td>\n      <td>0.0</td>\n      <td>0.0</td>\n      <td>0.0</td>\n      <td>...</td>\n      <td>0.0</td>\n      <td>0.0</td>\n      <td>0.0</td>\n      <td>0.0</td>\n      <td>0.0</td>\n      <td>0.0</td>\n      <td>0.0</td>\n      <td>0.0</td>\n      <td>0.0</td>\n      <td>0.0</td>\n    </tr>\n    <tr>\n      <th>12</th>\n      <td>0.0</td>\n      <td>0.0</td>\n      <td>0.0</td>\n      <td>0.0</td>\n      <td>0.0</td>\n      <td>0.0</td>\n      <td>0.0</td>\n      <td>0.0</td>\n      <td>0.0</td>\n      <td>0.0</td>\n      <td>...</td>\n      <td>0.0</td>\n      <td>0.0</td>\n      <td>0.0</td>\n      <td>0.0</td>\n      <td>0.0</td>\n      <td>0.0</td>\n      <td>0.0</td>\n      <td>0.0</td>\n      <td>0.0</td>\n      <td>0.0</td>\n    </tr>\n    <tr>\n      <th>14</th>\n      <td>0.0</td>\n      <td>0.0</td>\n      <td>0.0</td>\n      <td>0.0</td>\n      <td>0.0</td>\n      <td>0.0</td>\n      <td>0.0</td>\n      <td>0.0</td>\n      <td>0.0</td>\n      <td>0.0</td>\n      <td>...</td>\n      <td>0.0</td>\n      <td>0.0</td>\n      <td>0.0</td>\n      <td>0.0</td>\n      <td>0.0</td>\n      <td>0.0</td>\n      <td>0.0</td>\n      <td>0.0</td>\n      <td>0.0</td>\n      <td>0.0</td>\n    </tr>\n    <tr>\n      <th>...</th>\n      <td>...</td>\n      <td>...</td>\n      <td>...</td>\n      <td>...</td>\n      <td>...</td>\n      <td>...</td>\n      <td>...</td>\n      <td>...</td>\n      <td>...</td>\n      <td>...</td>\n      <td>...</td>\n      <td>...</td>\n      <td>...</td>\n      <td>...</td>\n      <td>...</td>\n      <td>...</td>\n      <td>...</td>\n      <td>...</td>\n      <td>...</td>\n      <td>...</td>\n      <td>...</td>\n    </tr>\n    <tr>\n      <th>278846</th>\n      <td>0.0</td>\n      <td>0.0</td>\n      <td>0.0</td>\n      <td>0.0</td>\n      <td>0.0</td>\n      <td>0.0</td>\n      <td>0.0</td>\n      <td>0.0</td>\n      <td>0.0</td>\n      <td>0.0</td>\n      <td>...</td>\n      <td>0.0</td>\n      <td>0.0</td>\n      <td>0.0</td>\n      <td>0.0</td>\n      <td>0.0</td>\n      <td>0.0</td>\n      <td>0.0</td>\n      <td>0.0</td>\n      <td>0.0</td>\n      <td>0.0</td>\n    </tr>\n    <tr>\n      <th>278849</th>\n      <td>0.0</td>\n      <td>0.0</td>\n      <td>0.0</td>\n      <td>0.0</td>\n      <td>0.0</td>\n      <td>0.0</td>\n      <td>0.0</td>\n      <td>0.0</td>\n      <td>0.0</td>\n      <td>0.0</td>\n      <td>...</td>\n      <td>0.0</td>\n      <td>0.0</td>\n      <td>0.0</td>\n      <td>0.0</td>\n      <td>0.0</td>\n      <td>0.0</td>\n      <td>0.0</td>\n      <td>0.0</td>\n      <td>0.0</td>\n      <td>0.0</td>\n    </tr>\n    <tr>\n      <th>278851</th>\n      <td>0.0</td>\n      <td>0.0</td>\n      <td>0.0</td>\n      <td>0.0</td>\n      <td>0.0</td>\n      <td>0.0</td>\n      <td>0.0</td>\n      <td>0.0</td>\n      <td>0.0</td>\n      <td>0.0</td>\n      <td>...</td>\n      <td>0.0</td>\n      <td>0.0</td>\n      <td>0.0</td>\n      <td>0.0</td>\n      <td>0.0</td>\n      <td>0.0</td>\n      <td>0.0</td>\n      <td>0.0</td>\n      <td>0.0</td>\n      <td>0.0</td>\n    </tr>\n    <tr>\n      <th>278852</th>\n      <td>0.0</td>\n      <td>0.0</td>\n      <td>0.0</td>\n      <td>0.0</td>\n      <td>0.0</td>\n      <td>0.0</td>\n      <td>0.0</td>\n      <td>0.0</td>\n      <td>0.0</td>\n      <td>0.0</td>\n      <td>...</td>\n      <td>0.0</td>\n      <td>0.0</td>\n      <td>0.0</td>\n      <td>0.0</td>\n      <td>0.0</td>\n      <td>0.0</td>\n      <td>0.0</td>\n      <td>0.0</td>\n      <td>0.0</td>\n      <td>0.0</td>\n    </tr>\n    <tr>\n      <th>278854</th>\n      <td>0.0</td>\n      <td>0.0</td>\n      <td>0.0</td>\n      <td>0.0</td>\n      <td>0.0</td>\n      <td>0.0</td>\n      <td>0.0</td>\n      <td>0.0</td>\n      <td>0.0</td>\n      <td>0.0</td>\n      <td>...</td>\n      <td>0.0</td>\n      <td>0.0</td>\n      <td>0.0</td>\n      <td>0.0</td>\n      <td>0.0</td>\n      <td>0.0</td>\n      <td>0.0</td>\n      <td>0.0</td>\n      <td>0.0</td>\n      <td>0.0</td>\n    </tr>\n  </tbody>\n</table>\n<p>2182 rows × 2182 columns</p>\n</div>",
            "text/plain": "        8       9       10      12      14      16      17      19      \\\n8          0.0     0.0     0.0     0.0     0.0     0.0     0.0     0.0   \n9          0.0     0.0     0.0     0.0     0.0     0.0     0.0     0.0   \n10         0.0     0.0     0.0     0.0     0.0     0.0     0.0     0.0   \n12         0.0     0.0     0.0     0.0     0.0     0.0     0.0     0.0   \n14         0.0     0.0     0.0     0.0     0.0     0.0     0.0     0.0   \n...        ...     ...     ...     ...     ...     ...     ...     ...   \n278846     0.0     0.0     0.0     0.0     0.0     0.0     0.0     0.0   \n278849     0.0     0.0     0.0     0.0     0.0     0.0     0.0     0.0   \n278851     0.0     0.0     0.0     0.0     0.0     0.0     0.0     0.0   \n278852     0.0     0.0     0.0     0.0     0.0     0.0     0.0     0.0   \n278854     0.0     0.0     0.0     0.0     0.0     0.0     0.0     0.0   \n\n        22      26      ...  278831  278832  278836  278843  278844  278846  \\\n8          0.0     0.0  ...     0.0     0.0     0.0     0.0     0.0     0.0   \n9          0.0     0.0  ...     0.0     0.0     0.0     0.0     0.0     0.0   \n10         0.0     0.0  ...     0.0     0.0     0.0     0.0     0.0     0.0   \n12         0.0     0.0  ...     0.0     0.0     0.0     0.0     0.0     0.0   \n14         0.0     0.0  ...     0.0     0.0     0.0     0.0     0.0     0.0   \n...        ...     ...  ...     ...     ...     ...     ...     ...     ...   \n278846     0.0     0.0  ...     0.0     0.0     0.0     0.0     0.0     0.0   \n278849     0.0     0.0  ...     0.0     0.0     0.0     0.0     0.0     0.0   \n278851     0.0     0.0  ...     0.0     0.0     0.0     0.0     0.0     0.0   \n278852     0.0     0.0  ...     0.0     0.0     0.0     0.0     0.0     0.0   \n278854     0.0     0.0  ...     0.0     0.0     0.0     0.0     0.0     0.0   \n\n        278849  278851  278852  278854  \n8          0.0     0.0     0.0     0.0  \n9          0.0     0.0     0.0     0.0  \n10         0.0     0.0     0.0     0.0  \n12         0.0     0.0     0.0     0.0  \n14         0.0     0.0     0.0     0.0  \n...        ...     ...     ...     ...  \n278846     0.0     0.0     0.0     0.0  \n278849     0.0     0.0     0.0     0.0  \n278851     0.0     0.0     0.0     0.0  \n278852     0.0     0.0     0.0     0.0  \n278854     0.0     0.0     0.0     0.0  \n\n[2182 rows x 2182 columns]"
          },
          "execution_count": 192,
          "metadata": {},
          "output_type": "execute_result"
        }
      ]
    },
    {
      "metadata": {
        "scrolled": true,
        "trusted": false,
        "id": "d67575e8",
        "outputId": "25804d6c-a33b-48b9-a363-e9edf28f71d5"
      },
      "id": "d67575e8",
      "cell_type": "code",
      "source": [
        "#Most Similar Users\n",
        "print(user_sim_df.idxmax(axis=1)[1348])\n",
        "print(user_sim_df.max(axis=1).sort_values(ascending=False).head(50))"
      ],
      "execution_count": null,
      "outputs": [
        {
          "name": "stdout",
          "output_type": "stream",
          "text": "2576\n3951      1.000000\n1559      1.000000\n162063    1.000000\n278206    1.000000\n2070      1.000000\n2355      1.000000\n277284    1.000000\n278161    1.000000\n276934    1.000000\n278131    1.000000\n278110    1.000000\n162004    1.000000\n705       1.000000\n698       1.000000\n160926    1.000000\n933       1.000000\n1326      1.000000\n2576      1.000000\n276850    1.000000\n3952      1.000000\n161645    1.000000\n1348      0.752577\n276780    0.707107\n86        0.707107\n278675    0.668965\n276800    0.668965\n277244    0.662266\n278244    0.662266\n278197    0.613941\n278013    0.613941\n3601      0.549972\n277619    0.549972\n277585    0.515325\n277622    0.515325\n276814    0.502571\n277240    0.502571\n278648    0.500000\n277938    0.498464\n2077      0.498464\n508       0.495904\n3874      0.495904\n278012    0.476290\n276744    0.476290\n2520      0.463241\n4225      0.463241\n4049      0.453638\n4207      0.453638\n1192      0.437426\n277660    0.437426\n161880    0.384900\ndtype: float64\n"
        }
      ]
    },
    {
      "metadata": {
        "id": "affe9133"
      },
      "id": "affe9133",
      "cell_type": "markdown",
      "source": [
        "1 represents that the two user ID have read the same books\n",
        "\n",
        "1348 has highest correlation with 2576 UserID"
      ]
    },
    {
      "metadata": {
        "trusted": false,
        "id": "130b52bf",
        "outputId": "df69c64c-5f32-4de5-b1b6-78579d7ebc0a"
      },
      "id": "130b52bf",
      "cell_type": "code",
      "source": [
        "reader = book[(book['UserID']==1348) | (book['UserID']==2576)]\n",
        "reader"
      ],
      "execution_count": null,
      "outputs": [
        {
          "data": {
            "text/html": "<div>\n<style scoped>\n    .dataframe tbody tr th:only-of-type {\n        vertical-align: middle;\n    }\n\n    .dataframe tbody tr th {\n        vertical-align: top;\n    }\n\n    .dataframe thead th {\n        text-align: right;\n    }\n</style>\n<table border=\"1\" class=\"dataframe\">\n  <thead>\n    <tr style=\"text-align: right;\">\n      <th></th>\n      <th>UserID</th>\n      <th>BookTitle</th>\n      <th>BookRating</th>\n    </tr>\n  </thead>\n  <tbody>\n    <tr>\n      <th>3915</th>\n      <td>1348</td>\n      <td>Fantastic Beasts and Where to Find Them</td>\n      <td>7</td>\n    </tr>\n    <tr>\n      <th>3916</th>\n      <td>1348</td>\n      <td>Stardust</td>\n      <td>8</td>\n    </tr>\n    <tr>\n      <th>5699</th>\n      <td>2576</td>\n      <td>Stardust</td>\n      <td>10</td>\n    </tr>\n  </tbody>\n</table>\n</div>",
            "text/plain": "      UserID                                BookTitle  BookRating\n3915    1348  Fantastic Beasts and Where to Find Them           7\n3916    1348                                 Stardust           8\n5699    2576                                 Stardust          10"
          },
          "execution_count": 194,
          "metadata": {},
          "output_type": "execute_result"
        }
      ]
    },
    {
      "metadata": {
        "trusted": false,
        "id": "d280ddca",
        "outputId": "fa359b13-a04f-4b36-e741-fe4086cd8726"
      },
      "id": "d280ddca",
      "cell_type": "code",
      "source": [
        "reader1=book[(book['UserID']==1348)]\n",
        "reader1"
      ],
      "execution_count": null,
      "outputs": [
        {
          "data": {
            "text/html": "<div>\n<style scoped>\n    .dataframe tbody tr th:only-of-type {\n        vertical-align: middle;\n    }\n\n    .dataframe tbody tr th {\n        vertical-align: top;\n    }\n\n    .dataframe thead th {\n        text-align: right;\n    }\n</style>\n<table border=\"1\" class=\"dataframe\">\n  <thead>\n    <tr style=\"text-align: right;\">\n      <th></th>\n      <th>UserID</th>\n      <th>BookTitle</th>\n      <th>BookRating</th>\n    </tr>\n  </thead>\n  <tbody>\n    <tr>\n      <th>3915</th>\n      <td>1348</td>\n      <td>Fantastic Beasts and Where to Find Them</td>\n      <td>7</td>\n    </tr>\n    <tr>\n      <th>3916</th>\n      <td>1348</td>\n      <td>Stardust</td>\n      <td>8</td>\n    </tr>\n  </tbody>\n</table>\n</div>",
            "text/plain": "      UserID                                BookTitle  BookRating\n3915    1348  Fantastic Beasts and Where to Find Them           7\n3916    1348                                 Stardust           8"
          },
          "execution_count": 195,
          "metadata": {},
          "output_type": "execute_result"
        }
      ]
    },
    {
      "metadata": {
        "trusted": false,
        "id": "300f4f08",
        "outputId": "0c9ec3f7-2ae5-4b86-bf36-8b7f3a2666ae"
      },
      "id": "300f4f08",
      "cell_type": "code",
      "source": [
        "reader2=book[(book['UserID']==2576)]\n",
        "reader2"
      ],
      "execution_count": null,
      "outputs": [
        {
          "data": {
            "text/html": "<div>\n<style scoped>\n    .dataframe tbody tr th:only-of-type {\n        vertical-align: middle;\n    }\n\n    .dataframe tbody tr th {\n        vertical-align: top;\n    }\n\n    .dataframe thead th {\n        text-align: right;\n    }\n</style>\n<table border=\"1\" class=\"dataframe\">\n  <thead>\n    <tr style=\"text-align: right;\">\n      <th></th>\n      <th>UserID</th>\n      <th>BookTitle</th>\n      <th>BookRating</th>\n    </tr>\n  </thead>\n  <tbody>\n    <tr>\n      <th>5699</th>\n      <td>2576</td>\n      <td>Stardust</td>\n      <td>10</td>\n    </tr>\n  </tbody>\n</table>\n</div>",
            "text/plain": "      UserID BookTitle  BookRating\n5699    2576  Stardust          10"
          },
          "execution_count": 196,
          "metadata": {},
          "output_type": "execute_result"
        }
      ]
    },
    {
      "metadata": {
        "id": "d731e011"
      },
      "id": "d731e011",
      "cell_type": "markdown",
      "source": [
        "##### Result : BookTitle Stardust whose UserID 2576 has BookRating 10"
      ]
    },
    {
      "metadata": {
        "trusted": false,
        "id": "639f9ad2"
      },
      "id": "639f9ad2",
      "cell_type": "code",
      "source": [],
      "execution_count": null,
      "outputs": []
    }
  ],
  "metadata": {
    "kernelspec": {
      "name": "python3",
      "display_name": "Python 3",
      "language": "python"
    },
    "language_info": {
      "name": "python",
      "version": "3.8.8",
      "mimetype": "text/x-python",
      "codemirror_mode": {
        "name": "ipython",
        "version": 3
      },
      "pygments_lexer": "ipython3",
      "nbconvert_exporter": "python",
      "file_extension": ".py"
    },
    "gist": {
      "id": "",
      "data": {
        "description": "Recommendation System.ipynb",
        "public": true
      }
    },
    "colab": {
      "provenance": []
    }
  },
  "nbformat": 4,
  "nbformat_minor": 5
}