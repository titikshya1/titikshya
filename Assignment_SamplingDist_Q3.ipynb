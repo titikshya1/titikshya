{
  "cells": [
    {
      "cell_type": "code",
      "execution_count": null,
      "id": "08ebdbb7",
      "metadata": {
        "id": "08ebdbb7"
      },
      "outputs": [],
      "source": [
        "import numpy as np\n",
        "from scipy import stats\n",
        "from scipy.stats import norm"
      ]
    },
    {
      "cell_type": "markdown",
      "id": "ac2c743a",
      "metadata": {
        "id": "ac2c743a"
      },
      "source": [
        "n=100, Pop Mean=50, Pop SD=40\n",
        "As no. of samples is more than 30, we can consider it normal distribution"
      ]
    },
    {
      "cell_type": "code",
      "execution_count": null,
      "id": "e0e4af62",
      "metadata": {
        "id": "e0e4af62"
      },
      "outputs": [],
      "source": [
        "# For No investigation P(45<X<55)\n",
        "# For Investigation 1-P(45<X<55)"
      ]
    },
    {
      "cell_type": "code",
      "execution_count": null,
      "id": "ed84d592",
      "metadata": {
        "id": "ed84d592",
        "outputId": "871e40d8-0ac2-4c8a-cf04-f50af5122690"
      },
      "outputs": [
        {
          "data": {
            "text/plain": [
              "-1.25"
            ]
          },
          "execution_count": 8,
          "metadata": {},
          "output_type": "execute_result"
        }
      ],
      "source": [
        "# find z-scores at x=45; z=(s_mean-P_mean)/(p_SD/sqrt(n))\n",
        "z=(45-50)/(40/100**0.5)\n",
        "z"
      ]
    },
    {
      "cell_type": "code",
      "execution_count": null,
      "id": "321933e2",
      "metadata": {
        "id": "321933e2",
        "outputId": "799a3783-5c63-480b-c164-730418d11ce4"
      },
      "outputs": [
        {
          "data": {
            "text/plain": [
              "1.25"
            ]
          },
          "execution_count": 10,
          "metadata": {},
          "output_type": "execute_result"
        }
      ],
      "source": [
        "# find z-scores at x=55; z=(s_mean-P_mean)/(p_SD/sqrt(n))\n",
        "z=(55-50)/(40/100**0.5)\n",
        "z"
      ]
    },
    {
      "cell_type": "code",
      "execution_count": null,
      "id": "e4ea6f02",
      "metadata": {
        "id": "e4ea6f02",
        "outputId": "a824f708-79a0-4a1c-e477-5507283ee470"
      },
      "outputs": [
        {
          "data": {
            "text/plain": [
              "0.7887004526662893"
            ]
          },
          "execution_count": 12,
          "metadata": {},
          "output_type": "execute_result"
        }
      ],
      "source": [
        "# For No investigation P(45<X<55) using z_scores = P(X<50)-P(X<45)\n",
        "stats.norm.cdf(1.25)-stats.norm.cdf(-1.25)"
      ]
    },
    {
      "cell_type": "code",
      "execution_count": null,
      "id": "37058b9e",
      "metadata": {
        "id": "37058b9e",
        "outputId": "c3063c8b-bb9f-4753-8018-23023cf4e090"
      },
      "outputs": [
        {
          "data": {
            "text/plain": [
              "(45.00000495667348, 54.99999504332652)"
            ]
          },
          "execution_count": 22,
          "metadata": {},
          "output_type": "execute_result"
        }
      ],
      "source": [
        "stats.norm.interval(0.7887,loc=50,scale=40/(100**0.5))"
      ]
    },
    {
      "cell_type": "code",
      "execution_count": null,
      "id": "7182fa33",
      "metadata": {
        "id": "7182fa33",
        "outputId": "0d42f33e-c7fd-445d-9f9d-5f53ac8f3310"
      },
      "outputs": [
        {
          "data": {
            "text/plain": [
              "0.21130000000000004"
            ]
          },
          "execution_count": 23,
          "metadata": {},
          "output_type": "execute_result"
        }
      ],
      "source": [
        "# For Investigation 1-P(45<X<55)\n",
        "1-0.7887"
      ]
    },
    {
      "cell_type": "markdown",
      "id": "c0ad98fb",
      "metadata": {
        "id": "c0ad98fb"
      },
      "source": [
        "Answer is D. 21.1%"
      ]
    }
  ],
  "metadata": {
    "kernelspec": {
      "display_name": "Python 3",
      "language": "python",
      "name": "python3"
    },
    "language_info": {
      "codemirror_mode": {
        "name": "ipython",
        "version": 3
      },
      "file_extension": ".py",
      "mimetype": "text/x-python",
      "name": "python",
      "nbconvert_exporter": "python",
      "pygments_lexer": "ipython3",
      "version": "3.8.8"
    },
    "colab": {
      "provenance": []
    }
  },
  "nbformat": 4,
  "nbformat_minor": 5
}