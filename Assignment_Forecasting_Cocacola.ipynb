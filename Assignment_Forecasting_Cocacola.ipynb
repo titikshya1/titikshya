{
  "cells": [
    {
      "metadata": {
        "id": "3548f0f9"
      },
      "id": "3548f0f9",
      "cell_type": "markdown",
      "source": [
        "## 1)Forecast the CocaCola prices data set. Prepare a document for each model explaining. How many dummy variables you have created and RMSE value for each model. Finally which model you will use for Forecasting."
      ]
    },
    {
      "metadata": {
        "trusted": false,
        "id": "06613957"
      },
      "id": "06613957",
      "cell_type": "code",
      "source": [
        "import pandas as pd\n",
        "import numpy as np\n",
        "import seaborn as sns\n",
        "import matplotlib.pyplot as plt\n",
        "import statsmodels.formula.api as smf"
      ],
      "execution_count": 5,
      "outputs": []
    },
    {
      "cell_type": "code",
      "source": [
        "from google.colab import drive\n",
        "drive.mount('/content/drive')"
      ],
      "metadata": {
        "id": "DJRU-aIwR7M1",
        "outputId": "5b46c8ba-c0d3-47fc-c28c-ad289c66f4af",
        "colab": {
          "base_uri": "https://localhost:8080/"
        }
      },
      "id": "DJRU-aIwR7M1",
      "execution_count": 1,
      "outputs": [
        {
          "output_type": "stream",
          "name": "stdout",
          "text": [
            "Mounted at /content/drive\n"
          ]
        }
      ]
    },
    {
      "cell_type": "code",
      "source": [
        "ls"
      ],
      "metadata": {
        "id": "0bXn2ccvSNLq",
        "outputId": "400ac391-2864-42e2-e5d0-dc24ae04c765",
        "colab": {
          "base_uri": "https://localhost:8080/"
        }
      },
      "id": "0bXn2ccvSNLq",
      "execution_count": 2,
      "outputs": [
        {
          "output_type": "stream",
          "name": "stdout",
          "text": [
            "\u001b[0m\u001b[01;34mdrive\u001b[0m/  \u001b[01;34msample_data\u001b[0m/\n"
          ]
        }
      ]
    },
    {
      "cell_type": "code",
      "source": [
        "cd drive/MyDrive"
      ],
      "metadata": {
        "id": "VueAPMk_SPbo",
        "outputId": "f2df10d5-ee49-4a93-b844-6a55838b7581",
        "colab": {
          "base_uri": "https://localhost:8080/"
        }
      },
      "id": "VueAPMk_SPbo",
      "execution_count": 3,
      "outputs": [
        {
          "output_type": "stream",
          "name": "stdout",
          "text": [
            "/content/drive/MyDrive\n"
          ]
        }
      ]
    },
    {
      "metadata": {
        "trusted": false,
        "id": "6c9a53c3",
        "outputId": "cc746407-582c-480f-d70c-2b895b8b5258",
        "colab": {
          "base_uri": "https://localhost:8080/",
          "height": 1000
        }
      },
      "id": "6c9a53c3",
      "cell_type": "code",
      "source": [
        "df = pd.read_csv(\"data/CocaCola_Sales_Rawdata.csv\")\n",
        "df"
      ],
      "execution_count": 6,
      "outputs": [
        {
          "output_type": "execute_result",
          "data": {
            "text/plain": [
              "   Quarter        Sales\n",
              "0    Q1_86  1734.827000\n",
              "1    Q2_86  2244.960999\n",
              "2    Q3_86  2533.804993\n",
              "3    Q4_86  2154.962997\n",
              "4    Q1_87  1547.818996\n",
              "5    Q2_87  2104.411995\n",
              "6    Q3_87  2014.362999\n",
              "7    Q4_87  1991.746998\n",
              "8    Q1_88  1869.049999\n",
              "9    Q2_88  2313.631996\n",
              "10   Q3_88  2128.320000\n",
              "11   Q4_88  2026.828999\n",
              "12   Q1_89  1910.603996\n",
              "13   Q2_89  2331.164993\n",
              "14   Q3_89  2206.549995\n",
              "15   Q4_89  2173.967995\n",
              "16   Q1_90  2148.278000\n",
              "17   Q2_90  2739.307999\n",
              "18   Q3_90  2792.753998\n",
              "19   Q4_90  2556.009995\n",
              "20   Q1_91  2480.973999\n",
              "21   Q2_91  3039.522995\n",
              "22   Q3_91  3172.115997\n",
              "23   Q4_91  2879.000999\n",
              "24   Q1_92  2772.000000\n",
              "25   Q2_92  3550.000000\n",
              "26   Q3_92  3508.000000\n",
              "27   Q4_92  3243.859993\n",
              "28   Q1_93  3056.000000\n",
              "29   Q2_93  3899.000000\n",
              "30   Q3_93  3629.000000\n",
              "31   Q4_93  3373.000000\n",
              "32   Q1_94  3352.000000\n",
              "33   Q2_94  4342.000000\n",
              "34   Q3_94  4461.000000\n",
              "35   Q4_94  4017.000000\n",
              "36   Q1_95  3854.000000\n",
              "37   Q2_95  4936.000000\n",
              "38   Q3_95  4895.000000\n",
              "39   Q4_95  4333.000000\n",
              "40   Q1_96  4194.000000\n",
              "41   Q2_96  5253.000000"
            ],
            "text/html": [
              "\n",
              "\n",
              "  <div id=\"df-935a6089-5b70-4495-936d-fdf5a450fa96\">\n",
              "    <div class=\"colab-df-container\">\n",
              "      <div>\n",
              "<style scoped>\n",
              "    .dataframe tbody tr th:only-of-type {\n",
              "        vertical-align: middle;\n",
              "    }\n",
              "\n",
              "    .dataframe tbody tr th {\n",
              "        vertical-align: top;\n",
              "    }\n",
              "\n",
              "    .dataframe thead th {\n",
              "        text-align: right;\n",
              "    }\n",
              "</style>\n",
              "<table border=\"1\" class=\"dataframe\">\n",
              "  <thead>\n",
              "    <tr style=\"text-align: right;\">\n",
              "      <th></th>\n",
              "      <th>Quarter</th>\n",
              "      <th>Sales</th>\n",
              "    </tr>\n",
              "  </thead>\n",
              "  <tbody>\n",
              "    <tr>\n",
              "      <th>0</th>\n",
              "      <td>Q1_86</td>\n",
              "      <td>1734.827000</td>\n",
              "    </tr>\n",
              "    <tr>\n",
              "      <th>1</th>\n",
              "      <td>Q2_86</td>\n",
              "      <td>2244.960999</td>\n",
              "    </tr>\n",
              "    <tr>\n",
              "      <th>2</th>\n",
              "      <td>Q3_86</td>\n",
              "      <td>2533.804993</td>\n",
              "    </tr>\n",
              "    <tr>\n",
              "      <th>3</th>\n",
              "      <td>Q4_86</td>\n",
              "      <td>2154.962997</td>\n",
              "    </tr>\n",
              "    <tr>\n",
              "      <th>4</th>\n",
              "      <td>Q1_87</td>\n",
              "      <td>1547.818996</td>\n",
              "    </tr>\n",
              "    <tr>\n",
              "      <th>5</th>\n",
              "      <td>Q2_87</td>\n",
              "      <td>2104.411995</td>\n",
              "    </tr>\n",
              "    <tr>\n",
              "      <th>6</th>\n",
              "      <td>Q3_87</td>\n",
              "      <td>2014.362999</td>\n",
              "    </tr>\n",
              "    <tr>\n",
              "      <th>7</th>\n",
              "      <td>Q4_87</td>\n",
              "      <td>1991.746998</td>\n",
              "    </tr>\n",
              "    <tr>\n",
              "      <th>8</th>\n",
              "      <td>Q1_88</td>\n",
              "      <td>1869.049999</td>\n",
              "    </tr>\n",
              "    <tr>\n",
              "      <th>9</th>\n",
              "      <td>Q2_88</td>\n",
              "      <td>2313.631996</td>\n",
              "    </tr>\n",
              "    <tr>\n",
              "      <th>10</th>\n",
              "      <td>Q3_88</td>\n",
              "      <td>2128.320000</td>\n",
              "    </tr>\n",
              "    <tr>\n",
              "      <th>11</th>\n",
              "      <td>Q4_88</td>\n",
              "      <td>2026.828999</td>\n",
              "    </tr>\n",
              "    <tr>\n",
              "      <th>12</th>\n",
              "      <td>Q1_89</td>\n",
              "      <td>1910.603996</td>\n",
              "    </tr>\n",
              "    <tr>\n",
              "      <th>13</th>\n",
              "      <td>Q2_89</td>\n",
              "      <td>2331.164993</td>\n",
              "    </tr>\n",
              "    <tr>\n",
              "      <th>14</th>\n",
              "      <td>Q3_89</td>\n",
              "      <td>2206.549995</td>\n",
              "    </tr>\n",
              "    <tr>\n",
              "      <th>15</th>\n",
              "      <td>Q4_89</td>\n",
              "      <td>2173.967995</td>\n",
              "    </tr>\n",
              "    <tr>\n",
              "      <th>16</th>\n",
              "      <td>Q1_90</td>\n",
              "      <td>2148.278000</td>\n",
              "    </tr>\n",
              "    <tr>\n",
              "      <th>17</th>\n",
              "      <td>Q2_90</td>\n",
              "      <td>2739.307999</td>\n",
              "    </tr>\n",
              "    <tr>\n",
              "      <th>18</th>\n",
              "      <td>Q3_90</td>\n",
              "      <td>2792.753998</td>\n",
              "    </tr>\n",
              "    <tr>\n",
              "      <th>19</th>\n",
              "      <td>Q4_90</td>\n",
              "      <td>2556.009995</td>\n",
              "    </tr>\n",
              "    <tr>\n",
              "      <th>20</th>\n",
              "      <td>Q1_91</td>\n",
              "      <td>2480.973999</td>\n",
              "    </tr>\n",
              "    <tr>\n",
              "      <th>21</th>\n",
              "      <td>Q2_91</td>\n",
              "      <td>3039.522995</td>\n",
              "    </tr>\n",
              "    <tr>\n",
              "      <th>22</th>\n",
              "      <td>Q3_91</td>\n",
              "      <td>3172.115997</td>\n",
              "    </tr>\n",
              "    <tr>\n",
              "      <th>23</th>\n",
              "      <td>Q4_91</td>\n",
              "      <td>2879.000999</td>\n",
              "    </tr>\n",
              "    <tr>\n",
              "      <th>24</th>\n",
              "      <td>Q1_92</td>\n",
              "      <td>2772.000000</td>\n",
              "    </tr>\n",
              "    <tr>\n",
              "      <th>25</th>\n",
              "      <td>Q2_92</td>\n",
              "      <td>3550.000000</td>\n",
              "    </tr>\n",
              "    <tr>\n",
              "      <th>26</th>\n",
              "      <td>Q3_92</td>\n",
              "      <td>3508.000000</td>\n",
              "    </tr>\n",
              "    <tr>\n",
              "      <th>27</th>\n",
              "      <td>Q4_92</td>\n",
              "      <td>3243.859993</td>\n",
              "    </tr>\n",
              "    <tr>\n",
              "      <th>28</th>\n",
              "      <td>Q1_93</td>\n",
              "      <td>3056.000000</td>\n",
              "    </tr>\n",
              "    <tr>\n",
              "      <th>29</th>\n",
              "      <td>Q2_93</td>\n",
              "      <td>3899.000000</td>\n",
              "    </tr>\n",
              "    <tr>\n",
              "      <th>30</th>\n",
              "      <td>Q3_93</td>\n",
              "      <td>3629.000000</td>\n",
              "    </tr>\n",
              "    <tr>\n",
              "      <th>31</th>\n",
              "      <td>Q4_93</td>\n",
              "      <td>3373.000000</td>\n",
              "    </tr>\n",
              "    <tr>\n",
              "      <th>32</th>\n",
              "      <td>Q1_94</td>\n",
              "      <td>3352.000000</td>\n",
              "    </tr>\n",
              "    <tr>\n",
              "      <th>33</th>\n",
              "      <td>Q2_94</td>\n",
              "      <td>4342.000000</td>\n",
              "    </tr>\n",
              "    <tr>\n",
              "      <th>34</th>\n",
              "      <td>Q3_94</td>\n",
              "      <td>4461.000000</td>\n",
              "    </tr>\n",
              "    <tr>\n",
              "      <th>35</th>\n",
              "      <td>Q4_94</td>\n",
              "      <td>4017.000000</td>\n",
              "    </tr>\n",
              "    <tr>\n",
              "      <th>36</th>\n",
              "      <td>Q1_95</td>\n",
              "      <td>3854.000000</td>\n",
              "    </tr>\n",
              "    <tr>\n",
              "      <th>37</th>\n",
              "      <td>Q2_95</td>\n",
              "      <td>4936.000000</td>\n",
              "    </tr>\n",
              "    <tr>\n",
              "      <th>38</th>\n",
              "      <td>Q3_95</td>\n",
              "      <td>4895.000000</td>\n",
              "    </tr>\n",
              "    <tr>\n",
              "      <th>39</th>\n",
              "      <td>Q4_95</td>\n",
              "      <td>4333.000000</td>\n",
              "    </tr>\n",
              "    <tr>\n",
              "      <th>40</th>\n",
              "      <td>Q1_96</td>\n",
              "      <td>4194.000000</td>\n",
              "    </tr>\n",
              "    <tr>\n",
              "      <th>41</th>\n",
              "      <td>Q2_96</td>\n",
              "      <td>5253.000000</td>\n",
              "    </tr>\n",
              "  </tbody>\n",
              "</table>\n",
              "</div>\n",
              "      <button class=\"colab-df-convert\" onclick=\"convertToInteractive('df-935a6089-5b70-4495-936d-fdf5a450fa96')\"\n",
              "              title=\"Convert this dataframe to an interactive table.\"\n",
              "              style=\"display:none;\">\n",
              "\n",
              "  <svg xmlns=\"http://www.w3.org/2000/svg\" height=\"24px\"viewBox=\"0 0 24 24\"\n",
              "       width=\"24px\">\n",
              "    <path d=\"M0 0h24v24H0V0z\" fill=\"none\"/>\n",
              "    <path d=\"M18.56 5.44l.94 2.06.94-2.06 2.06-.94-2.06-.94-.94-2.06-.94 2.06-2.06.94zm-11 1L8.5 8.5l.94-2.06 2.06-.94-2.06-.94L8.5 2.5l-.94 2.06-2.06.94zm10 10l.94 2.06.94-2.06 2.06-.94-2.06-.94-.94-2.06-.94 2.06-2.06.94z\"/><path d=\"M17.41 7.96l-1.37-1.37c-.4-.4-.92-.59-1.43-.59-.52 0-1.04.2-1.43.59L10.3 9.45l-7.72 7.72c-.78.78-.78 2.05 0 2.83L4 21.41c.39.39.9.59 1.41.59.51 0 1.02-.2 1.41-.59l7.78-7.78 2.81-2.81c.8-.78.8-2.07 0-2.86zM5.41 20L4 18.59l7.72-7.72 1.47 1.35L5.41 20z\"/>\n",
              "  </svg>\n",
              "      </button>\n",
              "\n",
              "\n",
              "\n",
              "    <div id=\"df-e8ec9467-ce14-4222-a0fb-7ee4c4037822\">\n",
              "      <button class=\"colab-df-quickchart\" onclick=\"quickchart('df-e8ec9467-ce14-4222-a0fb-7ee4c4037822')\"\n",
              "              title=\"Suggest charts.\"\n",
              "              style=\"display:none;\">\n",
              "\n",
              "<svg xmlns=\"http://www.w3.org/2000/svg\" height=\"24px\"viewBox=\"0 0 24 24\"\n",
              "     width=\"24px\">\n",
              "    <g>\n",
              "        <path d=\"M19 3H5c-1.1 0-2 .9-2 2v14c0 1.1.9 2 2 2h14c1.1 0 2-.9 2-2V5c0-1.1-.9-2-2-2zM9 17H7v-7h2v7zm4 0h-2V7h2v10zm4 0h-2v-4h2v4z\"/>\n",
              "    </g>\n",
              "</svg>\n",
              "      </button>\n",
              "    </div>\n",
              "\n",
              "<style>\n",
              "  .colab-df-quickchart {\n",
              "    background-color: #E8F0FE;\n",
              "    border: none;\n",
              "    border-radius: 50%;\n",
              "    cursor: pointer;\n",
              "    display: none;\n",
              "    fill: #1967D2;\n",
              "    height: 32px;\n",
              "    padding: 0 0 0 0;\n",
              "    width: 32px;\n",
              "  }\n",
              "\n",
              "  .colab-df-quickchart:hover {\n",
              "    background-color: #E2EBFA;\n",
              "    box-shadow: 0px 1px 2px rgba(60, 64, 67, 0.3), 0px 1px 3px 1px rgba(60, 64, 67, 0.15);\n",
              "    fill: #174EA6;\n",
              "  }\n",
              "\n",
              "  [theme=dark] .colab-df-quickchart {\n",
              "    background-color: #3B4455;\n",
              "    fill: #D2E3FC;\n",
              "  }\n",
              "\n",
              "  [theme=dark] .colab-df-quickchart:hover {\n",
              "    background-color: #434B5C;\n",
              "    box-shadow: 0px 1px 3px 1px rgba(0, 0, 0, 0.15);\n",
              "    filter: drop-shadow(0px 1px 2px rgba(0, 0, 0, 0.3));\n",
              "    fill: #FFFFFF;\n",
              "  }\n",
              "</style>\n",
              "\n",
              "    <script>\n",
              "      async function quickchart(key) {\n",
              "        const containerElement = document.querySelector('#' + key);\n",
              "        const charts = await google.colab.kernel.invokeFunction(\n",
              "            'suggestCharts', [key], {});\n",
              "      }\n",
              "    </script>\n",
              "\n",
              "      <script>\n",
              "\n",
              "function displayQuickchartButton(domScope) {\n",
              "  let quickchartButtonEl =\n",
              "    domScope.querySelector('#df-e8ec9467-ce14-4222-a0fb-7ee4c4037822 button.colab-df-quickchart');\n",
              "  quickchartButtonEl.style.display =\n",
              "    google.colab.kernel.accessAllowed ? 'block' : 'none';\n",
              "}\n",
              "\n",
              "        displayQuickchartButton(document);\n",
              "      </script>\n",
              "      <style>\n",
              "    .colab-df-container {\n",
              "      display:flex;\n",
              "      flex-wrap:wrap;\n",
              "      gap: 12px;\n",
              "    }\n",
              "\n",
              "    .colab-df-convert {\n",
              "      background-color: #E8F0FE;\n",
              "      border: none;\n",
              "      border-radius: 50%;\n",
              "      cursor: pointer;\n",
              "      display: none;\n",
              "      fill: #1967D2;\n",
              "      height: 32px;\n",
              "      padding: 0 0 0 0;\n",
              "      width: 32px;\n",
              "    }\n",
              "\n",
              "    .colab-df-convert:hover {\n",
              "      background-color: #E2EBFA;\n",
              "      box-shadow: 0px 1px 2px rgba(60, 64, 67, 0.3), 0px 1px 3px 1px rgba(60, 64, 67, 0.15);\n",
              "      fill: #174EA6;\n",
              "    }\n",
              "\n",
              "    [theme=dark] .colab-df-convert {\n",
              "      background-color: #3B4455;\n",
              "      fill: #D2E3FC;\n",
              "    }\n",
              "\n",
              "    [theme=dark] .colab-df-convert:hover {\n",
              "      background-color: #434B5C;\n",
              "      box-shadow: 0px 1px 3px 1px rgba(0, 0, 0, 0.15);\n",
              "      filter: drop-shadow(0px 1px 2px rgba(0, 0, 0, 0.3));\n",
              "      fill: #FFFFFF;\n",
              "    }\n",
              "  </style>\n",
              "\n",
              "      <script>\n",
              "        const buttonEl =\n",
              "          document.querySelector('#df-935a6089-5b70-4495-936d-fdf5a450fa96 button.colab-df-convert');\n",
              "        buttonEl.style.display =\n",
              "          google.colab.kernel.accessAllowed ? 'block' : 'none';\n",
              "\n",
              "        async function convertToInteractive(key) {\n",
              "          const element = document.querySelector('#df-935a6089-5b70-4495-936d-fdf5a450fa96');\n",
              "          const dataTable =\n",
              "            await google.colab.kernel.invokeFunction('convertToInteractive',\n",
              "                                                     [key], {});\n",
              "          if (!dataTable) return;\n",
              "\n",
              "          const docLinkHtml = 'Like what you see? Visit the ' +\n",
              "            '<a target=\"_blank\" href=https://colab.research.google.com/notebooks/data_table.ipynb>data table notebook</a>'\n",
              "            + ' to learn more about interactive tables.';\n",
              "          element.innerHTML = '';\n",
              "          dataTable['output_type'] = 'display_data';\n",
              "          await google.colab.output.renderOutput(dataTable, element);\n",
              "          const docLink = document.createElement('div');\n",
              "          docLink.innerHTML = docLinkHtml;\n",
              "          element.appendChild(docLink);\n",
              "        }\n",
              "      </script>\n",
              "    </div>\n",
              "  </div>\n"
            ]
          },
          "metadata": {},
          "execution_count": 6
        }
      ]
    },
    {
      "metadata": {
        "trusted": false,
        "id": "48f4f1fb",
        "outputId": "48b57152-9f35-477f-fe34-f08b869f99d2"
      },
      "id": "48f4f1fb",
      "cell_type": "code",
      "source": [
        "df.describe()"
      ],
      "execution_count": null,
      "outputs": [
        {
          "data": {
            "text/html": "<div>\n<style scoped>\n    .dataframe tbody tr th:only-of-type {\n        vertical-align: middle;\n    }\n\n    .dataframe tbody tr th {\n        vertical-align: top;\n    }\n\n    .dataframe thead th {\n        text-align: right;\n    }\n</style>\n<table border=\"1\" class=\"dataframe\">\n  <thead>\n    <tr style=\"text-align: right;\">\n      <th></th>\n      <th>Sales</th>\n    </tr>\n  </thead>\n  <tbody>\n    <tr>\n      <th>count</th>\n      <td>42.000000</td>\n    </tr>\n    <tr>\n      <th>mean</th>\n      <td>2994.353308</td>\n    </tr>\n    <tr>\n      <th>std</th>\n      <td>977.930896</td>\n    </tr>\n    <tr>\n      <th>min</th>\n      <td>1547.818996</td>\n    </tr>\n    <tr>\n      <th>25%</th>\n      <td>2159.714247</td>\n    </tr>\n    <tr>\n      <th>50%</th>\n      <td>2782.376999</td>\n    </tr>\n    <tr>\n      <th>75%</th>\n      <td>3609.250000</td>\n    </tr>\n    <tr>\n      <th>max</th>\n      <td>5253.000000</td>\n    </tr>\n  </tbody>\n</table>\n</div>",
            "text/plain": "             Sales\ncount    42.000000\nmean   2994.353308\nstd     977.930896\nmin    1547.818996\n25%    2159.714247\n50%    2782.376999\n75%    3609.250000\nmax    5253.000000"
          },
          "execution_count": 3,
          "metadata": {},
          "output_type": "execute_result"
        }
      ]
    },
    {
      "metadata": {
        "id": "0c5cac53"
      },
      "id": "0c5cac53",
      "cell_type": "markdown",
      "source": [
        "### Visualization"
      ]
    },
    {
      "metadata": {
        "trusted": false,
        "id": "bdcfd0df",
        "outputId": "9b432dc9-ca76-4c73-bc65-5334edd7e24f"
      },
      "id": "bdcfd0df",
      "cell_type": "code",
      "source": [
        "df.plot()"
      ],
      "execution_count": null,
      "outputs": [
        {
          "data": {
            "text/plain": "<AxesSubplot:>"
          },
          "execution_count": 4,
          "metadata": {},
          "output_type": "execute_result"
        },
        {
          "data": {
            "image/png": "[encoded data removed]",
            "text/plain": "<Figure size 432x288 with 1 Axes>"
          },
          "metadata": {
            "needs_background": "light"
          },
          "output_type": "display_data"
        }
      ]
    },
    {
      "metadata": {
        "trusted": false,
        "id": "b6dbf603",
        "outputId": "131f00f5-2671-41aa-e160-bf48002f55a9"
      },
      "id": "b6dbf603",
      "cell_type": "code",
      "source": [
        "import seaborn as  sns\n",
        "sns.boxplot(data =df)"
      ],
      "execution_count": null,
      "outputs": [
        {
          "data": {
            "text/plain": "<AxesSubplot:>"
          },
          "execution_count": 5,
          "metadata": {},
          "output_type": "execute_result"
        },
        {
          "data": {
            "image/png": "[encoded data removed]",
            "text/plain": "<Figure size 432x288 with 1 Axes>"
          },
          "metadata": {
            "needs_background": "light"
          },
          "output_type": "display_data"
        }
      ]
    },
    {
      "metadata": {
        "trusted": false,
        "id": "ce7840ad",
        "outputId": "e3b5c9ef-662a-46c3-e9f2-b5646e535e3a"
      },
      "id": "ce7840ad",
      "cell_type": "code",
      "source": [
        "df.hist()"
      ],
      "execution_count": null,
      "outputs": [
        {
          "data": {
            "text/plain": "array([[<AxesSubplot:title={'center':'Sales'}>]], dtype=object)"
          },
          "execution_count": 6,
          "metadata": {},
          "output_type": "execute_result"
        },
        {
          "data": {
            "image/png": "[encoded data removed]",
            "text/plain": "<Figure size 432x288 with 1 Axes>"
          },
          "metadata": {
            "needs_background": "light"
          },
          "output_type": "display_data"
        }
      ]
    },
    {
      "metadata": {
        "trusted": false,
        "id": "ddd126db",
        "outputId": "1f11e816-1071-449a-e7a5-d9f15a84baf0"
      },
      "id": "ddd126db",
      "cell_type": "code",
      "source": [
        "df.plot(kind=\"kde\")"
      ],
      "execution_count": null,
      "outputs": [
        {
          "data": {
            "text/plain": "<AxesSubplot:ylabel='Density'>"
          },
          "execution_count": 7,
          "metadata": {},
          "output_type": "execute_result"
        },
        {
          "data": {
            "image/png": "[encoded data removed]",
            "text/plain": "<Figure size 432x288 with 1 Axes>"
          },
          "metadata": {
            "needs_background": "light"
          },
          "output_type": "display_data"
        }
      ]
    },
    {
      "metadata": {
        "trusted": false,
        "id": "63c9e5b8",
        "outputId": "bf2a61d8-a377-461d-e93b-fbb32e4ccddc"
      },
      "id": "63c9e5b8",
      "cell_type": "code",
      "source": [
        "np.array(df[\"Sales\"])"
      ],
      "execution_count": null,
      "outputs": [
        {
          "data": {
            "text/plain": "array([1734.82699966, 2244.96099854, 2533.80499268, 2154.96299744,\n       1547.81899643, 2104.41199493, 2014.36299896, 1991.74699783,\n       1869.04999924, 2313.63199615, 2128.31999969, 2026.82899857,\n       1910.60399628, 2331.16499329, 2206.54999542, 2173.96799469,\n       2148.27799988, 2739.30799866, 2792.7539978 , 2556.00999451,\n       2480.97399902, 3039.522995  , 3172.11599731, 2879.00099945,\n       2772.        , 3550.        , 3508.        , 3243.85999298,\n       3056.        , 3899.        , 3629.        , 3373.        ,\n       3352.        , 4342.        , 4461.        , 4017.        ,\n       3854.        , 4936.        , 4895.        , 4333.        ,\n       4194.        , 5253.        ])"
          },
          "execution_count": 8,
          "metadata": {},
          "output_type": "execute_result"
        }
      ]
    },
    {
      "metadata": {
        "trusted": false,
        "id": "8c4314c9",
        "outputId": "dd4b2624-8b5d-45f5-a54e-bfe56a5a49ea"
      },
      "id": "8c4314c9",
      "cell_type": "code",
      "source": [
        "import seaborn as sns\n",
        "sns.set_theme()\n",
        "rk= sns.distplot(df['Sales'],kde=True)"
      ],
      "execution_count": null,
      "outputs": [
        {
          "name": "stderr",
          "output_type": "stream",
          "text": "C:\\Users\\Aniket\\anaconda3\\lib\\site-packages\\seaborn\\distributions.py:2557: FutureWarning: `distplot` is a deprecated function and will be removed in a future version. Please adapt your code to use either `displot` (a figure-level function with similar flexibility) or `histplot` (an axes-level function for histograms).\n  warnings.warn(msg, FutureWarning)\n"
        },
        {
          "data": {
            "image/png": "[encoded data removed]",
            "text/plain": "<Figure size 432x288 with 1 Axes>"
          },
          "metadata": {},
          "output_type": "display_data"
        }
      ]
    },
    {
      "metadata": {
        "trusted": false,
        "id": "e868428c",
        "outputId": "ac8f0b54-00e1-4111-d770-e3c72d00bfed"
      },
      "id": "e868428c",
      "cell_type": "code",
      "source": [
        "from pandas.plotting import lag_plot\n",
        "lag_plot(df['Sales'])"
      ],
      "execution_count": null,
      "outputs": [
        {
          "name": "stderr",
          "output_type": "stream",
          "text": "*c* argument looks like a single numeric RGB or RGBA sequence, which should be avoided as value-mapping will have precedence in case its length matches with *x* & *y*.  Please use the *color* keyword-argument or provide a 2-D array with a single row if you intend to specify the same RGB or RGBA value for all points.\n"
        },
        {
          "data": {
            "text/plain": "<AxesSubplot:xlabel='y(t)', ylabel='y(t + 1)'>"
          },
          "execution_count": 10,
          "metadata": {},
          "output_type": "execute_result"
        },
        {
          "data": {
            "image/png": "[encoded data removed]",
            "text/plain": "<Figure size 432x288 with 1 Axes>"
          },
          "metadata": {},
          "output_type": "display_data"
        }
      ]
    },
    {
      "metadata": {
        "id": "acf43bc4"
      },
      "id": "acf43bc4",
      "cell_type": "markdown",
      "source": [
        "## Data Preprocessing"
      ]
    },
    {
      "metadata": {
        "trusted": false,
        "id": "7ee8b3c7",
        "outputId": "bd1bfe5d-6259-4109-97a9-bc03303b3ff3"
      },
      "id": "7ee8b3c7",
      "cell_type": "code",
      "source": [
        "df.head()"
      ],
      "execution_count": null,
      "outputs": [
        {
          "data": {
            "text/html": "<div>\n<style scoped>\n    .dataframe tbody tr th:only-of-type {\n        vertical-align: middle;\n    }\n\n    .dataframe tbody tr th {\n        vertical-align: top;\n    }\n\n    .dataframe thead th {\n        text-align: right;\n    }\n</style>\n<table border=\"1\" class=\"dataframe\">\n  <thead>\n    <tr style=\"text-align: right;\">\n      <th></th>\n      <th>Quarter</th>\n      <th>Sales</th>\n    </tr>\n  </thead>\n  <tbody>\n    <tr>\n      <th>0</th>\n      <td>Q1_86</td>\n      <td>1734.827000</td>\n    </tr>\n    <tr>\n      <th>1</th>\n      <td>Q2_86</td>\n      <td>2244.960999</td>\n    </tr>\n    <tr>\n      <th>2</th>\n      <td>Q3_86</td>\n      <td>2533.804993</td>\n    </tr>\n    <tr>\n      <th>3</th>\n      <td>Q4_86</td>\n      <td>2154.962997</td>\n    </tr>\n    <tr>\n      <th>4</th>\n      <td>Q1_87</td>\n      <td>1547.818996</td>\n    </tr>\n  </tbody>\n</table>\n</div>",
            "text/plain": "  Quarter        Sales\n0   Q1_86  1734.827000\n1   Q2_86  2244.960999\n2   Q3_86  2533.804993\n3   Q4_86  2154.962997\n4   Q1_87  1547.818996"
          },
          "execution_count": 11,
          "metadata": {},
          "output_type": "execute_result"
        }
      ]
    },
    {
      "metadata": {
        "trusted": false,
        "id": "b7d381b0",
        "outputId": "e188976d-4693-4b81-e9a5-8a9254895446"
      },
      "id": "b7d381b0",
      "cell_type": "code",
      "source": [
        "len(df)"
      ],
      "execution_count": null,
      "outputs": [
        {
          "data": {
            "text/plain": "42"
          },
          "execution_count": 12,
          "metadata": {},
          "output_type": "execute_result"
        }
      ]
    },
    {
      "metadata": {
        "trusted": false,
        "id": "83b20e39",
        "outputId": "6bded144-7a18-4811-a08c-66aa265b18b3"
      },
      "id": "83b20e39",
      "cell_type": "code",
      "source": [
        "df['quarter'] = 0\n",
        "for i in range(42):\n",
        "    p=df['Quarter'][i]\n",
        "    df['quarter'][i]=p[0:2]"
      ],
      "execution_count": null,
      "outputs": [
        {
          "name": "stderr",
          "output_type": "stream",
          "text": "<ipython-input-13-bca6adf2edda>:4: SettingWithCopyWarning: \nA value is trying to be set on a copy of a slice from a DataFrame\n\nSee the caveats in the documentation: https://pandas.pydata.org/pandas-docs/stable/user_guide/indexing.html#returning-a-view-versus-a-copy\n  df['quarter'][i]=p[0:2]\nC:\\Users\\Aniket\\anaconda3\\lib\\site-packages\\pandas\\core\\indexing.py:1637: SettingWithCopyWarning: \nA value is trying to be set on a copy of a slice from a DataFrame\n\nSee the caveats in the documentation: https://pandas.pydata.org/pandas-docs/stable/user_guide/indexing.html#returning-a-view-versus-a-copy\n  self._setitem_single_block(indexer, value, name)\n"
        }
      ]
    },
    {
      "metadata": {
        "trusted": false,
        "id": "a5b0bcde",
        "outputId": "eb1f7c4f-7d66-436b-adc3-222ea3a182b5"
      },
      "id": "a5b0bcde",
      "cell_type": "code",
      "source": [
        "df"
      ],
      "execution_count": null,
      "outputs": [
        {
          "data": {
            "text/html": "<div>\n<style scoped>\n    .dataframe tbody tr th:only-of-type {\n        vertical-align: middle;\n    }\n\n    .dataframe tbody tr th {\n        vertical-align: top;\n    }\n\n    .dataframe thead th {\n        text-align: right;\n    }\n</style>\n<table border=\"1\" class=\"dataframe\">\n  <thead>\n    <tr style=\"text-align: right;\">\n      <th></th>\n      <th>Quarter</th>\n      <th>Sales</th>\n      <th>quarter</th>\n    </tr>\n  </thead>\n  <tbody>\n    <tr>\n      <th>0</th>\n      <td>Q1_86</td>\n      <td>1734.827000</td>\n      <td>Q1</td>\n    </tr>\n    <tr>\n      <th>1</th>\n      <td>Q2_86</td>\n      <td>2244.960999</td>\n      <td>Q2</td>\n    </tr>\n    <tr>\n      <th>2</th>\n      <td>Q3_86</td>\n      <td>2533.804993</td>\n      <td>Q3</td>\n    </tr>\n    <tr>\n      <th>3</th>\n      <td>Q4_86</td>\n      <td>2154.962997</td>\n      <td>Q4</td>\n    </tr>\n    <tr>\n      <th>4</th>\n      <td>Q1_87</td>\n      <td>1547.818996</td>\n      <td>Q1</td>\n    </tr>\n    <tr>\n      <th>5</th>\n      <td>Q2_87</td>\n      <td>2104.411995</td>\n      <td>Q2</td>\n    </tr>\n    <tr>\n      <th>6</th>\n      <td>Q3_87</td>\n      <td>2014.362999</td>\n      <td>Q3</td>\n    </tr>\n    <tr>\n      <th>7</th>\n      <td>Q4_87</td>\n      <td>1991.746998</td>\n      <td>Q4</td>\n    </tr>\n    <tr>\n      <th>8</th>\n      <td>Q1_88</td>\n      <td>1869.049999</td>\n      <td>Q1</td>\n    </tr>\n    <tr>\n      <th>9</th>\n      <td>Q2_88</td>\n      <td>2313.631996</td>\n      <td>Q2</td>\n    </tr>\n    <tr>\n      <th>10</th>\n      <td>Q3_88</td>\n      <td>2128.320000</td>\n      <td>Q3</td>\n    </tr>\n    <tr>\n      <th>11</th>\n      <td>Q4_88</td>\n      <td>2026.828999</td>\n      <td>Q4</td>\n    </tr>\n    <tr>\n      <th>12</th>\n      <td>Q1_89</td>\n      <td>1910.603996</td>\n      <td>Q1</td>\n    </tr>\n    <tr>\n      <th>13</th>\n      <td>Q2_89</td>\n      <td>2331.164993</td>\n      <td>Q2</td>\n    </tr>\n    <tr>\n      <th>14</th>\n      <td>Q3_89</td>\n      <td>2206.549995</td>\n      <td>Q3</td>\n    </tr>\n    <tr>\n      <th>15</th>\n      <td>Q4_89</td>\n      <td>2173.967995</td>\n      <td>Q4</td>\n    </tr>\n    <tr>\n      <th>16</th>\n      <td>Q1_90</td>\n      <td>2148.278000</td>\n      <td>Q1</td>\n    </tr>\n    <tr>\n      <th>17</th>\n      <td>Q2_90</td>\n      <td>2739.307999</td>\n      <td>Q2</td>\n    </tr>\n    <tr>\n      <th>18</th>\n      <td>Q3_90</td>\n      <td>2792.753998</td>\n      <td>Q3</td>\n    </tr>\n    <tr>\n      <th>19</th>\n      <td>Q4_90</td>\n      <td>2556.009995</td>\n      <td>Q4</td>\n    </tr>\n    <tr>\n      <th>20</th>\n      <td>Q1_91</td>\n      <td>2480.973999</td>\n      <td>Q1</td>\n    </tr>\n    <tr>\n      <th>21</th>\n      <td>Q2_91</td>\n      <td>3039.522995</td>\n      <td>Q2</td>\n    </tr>\n    <tr>\n      <th>22</th>\n      <td>Q3_91</td>\n      <td>3172.115997</td>\n      <td>Q3</td>\n    </tr>\n    <tr>\n      <th>23</th>\n      <td>Q4_91</td>\n      <td>2879.000999</td>\n      <td>Q4</td>\n    </tr>\n    <tr>\n      <th>24</th>\n      <td>Q1_92</td>\n      <td>2772.000000</td>\n      <td>Q1</td>\n    </tr>\n    <tr>\n      <th>25</th>\n      <td>Q2_92</td>\n      <td>3550.000000</td>\n      <td>Q2</td>\n    </tr>\n    <tr>\n      <th>26</th>\n      <td>Q3_92</td>\n      <td>3508.000000</td>\n      <td>Q3</td>\n    </tr>\n    <tr>\n      <th>27</th>\n      <td>Q4_92</td>\n      <td>3243.859993</td>\n      <td>Q4</td>\n    </tr>\n    <tr>\n      <th>28</th>\n      <td>Q1_93</td>\n      <td>3056.000000</td>\n      <td>Q1</td>\n    </tr>\n    <tr>\n      <th>29</th>\n      <td>Q2_93</td>\n      <td>3899.000000</td>\n      <td>Q2</td>\n    </tr>\n    <tr>\n      <th>30</th>\n      <td>Q3_93</td>\n      <td>3629.000000</td>\n      <td>Q3</td>\n    </tr>\n    <tr>\n      <th>31</th>\n      <td>Q4_93</td>\n      <td>3373.000000</td>\n      <td>Q4</td>\n    </tr>\n    <tr>\n      <th>32</th>\n      <td>Q1_94</td>\n      <td>3352.000000</td>\n      <td>Q1</td>\n    </tr>\n    <tr>\n      <th>33</th>\n      <td>Q2_94</td>\n      <td>4342.000000</td>\n      <td>Q2</td>\n    </tr>\n    <tr>\n      <th>34</th>\n      <td>Q3_94</td>\n      <td>4461.000000</td>\n      <td>Q3</td>\n    </tr>\n    <tr>\n      <th>35</th>\n      <td>Q4_94</td>\n      <td>4017.000000</td>\n      <td>Q4</td>\n    </tr>\n    <tr>\n      <th>36</th>\n      <td>Q1_95</td>\n      <td>3854.000000</td>\n      <td>Q1</td>\n    </tr>\n    <tr>\n      <th>37</th>\n      <td>Q2_95</td>\n      <td>4936.000000</td>\n      <td>Q2</td>\n    </tr>\n    <tr>\n      <th>38</th>\n      <td>Q3_95</td>\n      <td>4895.000000</td>\n      <td>Q3</td>\n    </tr>\n    <tr>\n      <th>39</th>\n      <td>Q4_95</td>\n      <td>4333.000000</td>\n      <td>Q4</td>\n    </tr>\n    <tr>\n      <th>40</th>\n      <td>Q1_96</td>\n      <td>4194.000000</td>\n      <td>Q1</td>\n    </tr>\n    <tr>\n      <th>41</th>\n      <td>Q2_96</td>\n      <td>5253.000000</td>\n      <td>Q2</td>\n    </tr>\n  </tbody>\n</table>\n</div>",
            "text/plain": "   Quarter        Sales quarter\n0    Q1_86  1734.827000      Q1\n1    Q2_86  2244.960999      Q2\n2    Q3_86  2533.804993      Q3\n3    Q4_86  2154.962997      Q4\n4    Q1_87  1547.818996      Q1\n5    Q2_87  2104.411995      Q2\n6    Q3_87  2014.362999      Q3\n7    Q4_87  1991.746998      Q4\n8    Q1_88  1869.049999      Q1\n9    Q2_88  2313.631996      Q2\n10   Q3_88  2128.320000      Q3\n11   Q4_88  2026.828999      Q4\n12   Q1_89  1910.603996      Q1\n13   Q2_89  2331.164993      Q2\n14   Q3_89  2206.549995      Q3\n15   Q4_89  2173.967995      Q4\n16   Q1_90  2148.278000      Q1\n17   Q2_90  2739.307999      Q2\n18   Q3_90  2792.753998      Q3\n19   Q4_90  2556.009995      Q4\n20   Q1_91  2480.973999      Q1\n21   Q2_91  3039.522995      Q2\n22   Q3_91  3172.115997      Q3\n23   Q4_91  2879.000999      Q4\n24   Q1_92  2772.000000      Q1\n25   Q2_92  3550.000000      Q2\n26   Q3_92  3508.000000      Q3\n27   Q4_92  3243.859993      Q4\n28   Q1_93  3056.000000      Q1\n29   Q2_93  3899.000000      Q2\n30   Q3_93  3629.000000      Q3\n31   Q4_93  3373.000000      Q4\n32   Q1_94  3352.000000      Q1\n33   Q2_94  4342.000000      Q2\n34   Q3_94  4461.000000      Q3\n35   Q4_94  4017.000000      Q4\n36   Q1_95  3854.000000      Q1\n37   Q2_95  4936.000000      Q2\n38   Q3_95  4895.000000      Q3\n39   Q4_95  4333.000000      Q4\n40   Q1_96  4194.000000      Q1\n41   Q2_96  5253.000000      Q2"
          },
          "execution_count": 14,
          "metadata": {},
          "output_type": "execute_result"
        }
      ]
    },
    {
      "metadata": {
        "trusted": false,
        "id": "d9fe8b46",
        "outputId": "f943e07e-e165-42d1-cbd4-9065b5cbbd2d"
      },
      "id": "d9fe8b46",
      "cell_type": "code",
      "source": [
        "df['quarter'].value_counts()"
      ],
      "execution_count": null,
      "outputs": [
        {
          "data": {
            "text/plain": "Q2    11\nQ1    11\nQ3    10\nQ4    10\nName: quarter, dtype: int64"
          },
          "execution_count": 15,
          "metadata": {},
          "output_type": "execute_result"
        }
      ]
    },
    {
      "metadata": {
        "trusted": false,
        "id": "a267dcb4"
      },
      "id": "a267dcb4",
      "cell_type": "code",
      "source": [
        "df_dummies=pd.DataFrame(pd.get_dummies(df['quarter']),columns=['Q1','Q2','Q3','Q4'])\n",
        "cc=pd.concat([df,df_dummies],axis= 1)"
      ],
      "execution_count": null,
      "outputs": []
    },
    {
      "metadata": {
        "trusted": false,
        "id": "d61a9259",
        "outputId": "047b43cf-1b8f-4721-c8b6-b89b7eb5887c"
      },
      "id": "d61a9259",
      "cell_type": "code",
      "source": [
        "df.head()"
      ],
      "execution_count": null,
      "outputs": [
        {
          "data": {
            "text/html": "<div>\n<style scoped>\n    .dataframe tbody tr th:only-of-type {\n        vertical-align: middle;\n    }\n\n    .dataframe tbody tr th {\n        vertical-align: top;\n    }\n\n    .dataframe thead th {\n        text-align: right;\n    }\n</style>\n<table border=\"1\" class=\"dataframe\">\n  <thead>\n    <tr style=\"text-align: right;\">\n      <th></th>\n      <th>Quarter</th>\n      <th>Sales</th>\n      <th>quarter</th>\n    </tr>\n  </thead>\n  <tbody>\n    <tr>\n      <th>0</th>\n      <td>Q1_86</td>\n      <td>1734.827000</td>\n      <td>Q1</td>\n    </tr>\n    <tr>\n      <th>1</th>\n      <td>Q2_86</td>\n      <td>2244.960999</td>\n      <td>Q2</td>\n    </tr>\n    <tr>\n      <th>2</th>\n      <td>Q3_86</td>\n      <td>2533.804993</td>\n      <td>Q3</td>\n    </tr>\n    <tr>\n      <th>3</th>\n      <td>Q4_86</td>\n      <td>2154.962997</td>\n      <td>Q4</td>\n    </tr>\n    <tr>\n      <th>4</th>\n      <td>Q1_87</td>\n      <td>1547.818996</td>\n      <td>Q1</td>\n    </tr>\n  </tbody>\n</table>\n</div>",
            "text/plain": "  Quarter        Sales quarter\n0   Q1_86  1734.827000      Q1\n1   Q2_86  2244.960999      Q2\n2   Q3_86  2533.804993      Q3\n3   Q4_86  2154.962997      Q4\n4   Q1_87  1547.818996      Q1"
          },
          "execution_count": 17,
          "metadata": {},
          "output_type": "execute_result"
        }
      ]
    },
    {
      "metadata": {
        "trusted": false,
        "id": "be95648f",
        "outputId": "9871626a-7216-4b7c-e38b-f00bd6e80b3f"
      },
      "id": "be95648f",
      "cell_type": "code",
      "source": [
        "cc"
      ],
      "execution_count": null,
      "outputs": [
        {
          "data": {
            "text/html": "<div>\n<style scoped>\n    .dataframe tbody tr th:only-of-type {\n        vertical-align: middle;\n    }\n\n    .dataframe tbody tr th {\n        vertical-align: top;\n    }\n\n    .dataframe thead th {\n        text-align: right;\n    }\n</style>\n<table border=\"1\" class=\"dataframe\">\n  <thead>\n    <tr style=\"text-align: right;\">\n      <th></th>\n      <th>Quarter</th>\n      <th>Sales</th>\n      <th>quarter</th>\n      <th>Q1</th>\n      <th>Q2</th>\n      <th>Q3</th>\n      <th>Q4</th>\n    </tr>\n  </thead>\n  <tbody>\n    <tr>\n      <th>0</th>\n      <td>Q1_86</td>\n      <td>1734.827000</td>\n      <td>Q1</td>\n      <td>1</td>\n      <td>0</td>\n      <td>0</td>\n      <td>0</td>\n    </tr>\n    <tr>\n      <th>1</th>\n      <td>Q2_86</td>\n      <td>2244.960999</td>\n      <td>Q2</td>\n      <td>0</td>\n      <td>1</td>\n      <td>0</td>\n      <td>0</td>\n    </tr>\n    <tr>\n      <th>2</th>\n      <td>Q3_86</td>\n      <td>2533.804993</td>\n      <td>Q3</td>\n      <td>0</td>\n      <td>0</td>\n      <td>1</td>\n      <td>0</td>\n    </tr>\n    <tr>\n      <th>3</th>\n      <td>Q4_86</td>\n      <td>2154.962997</td>\n      <td>Q4</td>\n      <td>0</td>\n      <td>0</td>\n      <td>0</td>\n      <td>1</td>\n    </tr>\n    <tr>\n      <th>4</th>\n      <td>Q1_87</td>\n      <td>1547.818996</td>\n      <td>Q1</td>\n      <td>1</td>\n      <td>0</td>\n      <td>0</td>\n      <td>0</td>\n    </tr>\n    <tr>\n      <th>5</th>\n      <td>Q2_87</td>\n      <td>2104.411995</td>\n      <td>Q2</td>\n      <td>0</td>\n      <td>1</td>\n      <td>0</td>\n      <td>0</td>\n    </tr>\n    <tr>\n      <th>6</th>\n      <td>Q3_87</td>\n      <td>2014.362999</td>\n      <td>Q3</td>\n      <td>0</td>\n      <td>0</td>\n      <td>1</td>\n      <td>0</td>\n    </tr>\n    <tr>\n      <th>7</th>\n      <td>Q4_87</td>\n      <td>1991.746998</td>\n      <td>Q4</td>\n      <td>0</td>\n      <td>0</td>\n      <td>0</td>\n      <td>1</td>\n    </tr>\n    <tr>\n      <th>8</th>\n      <td>Q1_88</td>\n      <td>1869.049999</td>\n      <td>Q1</td>\n      <td>1</td>\n      <td>0</td>\n      <td>0</td>\n      <td>0</td>\n    </tr>\n    <tr>\n      <th>9</th>\n      <td>Q2_88</td>\n      <td>2313.631996</td>\n      <td>Q2</td>\n      <td>0</td>\n      <td>1</td>\n      <td>0</td>\n      <td>0</td>\n    </tr>\n    <tr>\n      <th>10</th>\n      <td>Q3_88</td>\n      <td>2128.320000</td>\n      <td>Q3</td>\n      <td>0</td>\n      <td>0</td>\n      <td>1</td>\n      <td>0</td>\n    </tr>\n    <tr>\n      <th>11</th>\n      <td>Q4_88</td>\n      <td>2026.828999</td>\n      <td>Q4</td>\n      <td>0</td>\n      <td>0</td>\n      <td>0</td>\n      <td>1</td>\n    </tr>\n    <tr>\n      <th>12</th>\n      <td>Q1_89</td>\n      <td>1910.603996</td>\n      <td>Q1</td>\n      <td>1</td>\n      <td>0</td>\n      <td>0</td>\n      <td>0</td>\n    </tr>\n    <tr>\n      <th>13</th>\n      <td>Q2_89</td>\n      <td>2331.164993</td>\n      <td>Q2</td>\n      <td>0</td>\n      <td>1</td>\n      <td>0</td>\n      <td>0</td>\n    </tr>\n    <tr>\n      <th>14</th>\n      <td>Q3_89</td>\n      <td>2206.549995</td>\n      <td>Q3</td>\n      <td>0</td>\n      <td>0</td>\n      <td>1</td>\n      <td>0</td>\n    </tr>\n    <tr>\n      <th>15</th>\n      <td>Q4_89</td>\n      <td>2173.967995</td>\n      <td>Q4</td>\n      <td>0</td>\n      <td>0</td>\n      <td>0</td>\n      <td>1</td>\n    </tr>\n    <tr>\n      <th>16</th>\n      <td>Q1_90</td>\n      <td>2148.278000</td>\n      <td>Q1</td>\n      <td>1</td>\n      <td>0</td>\n      <td>0</td>\n      <td>0</td>\n    </tr>\n    <tr>\n      <th>17</th>\n      <td>Q2_90</td>\n      <td>2739.307999</td>\n      <td>Q2</td>\n      <td>0</td>\n      <td>1</td>\n      <td>0</td>\n      <td>0</td>\n    </tr>\n    <tr>\n      <th>18</th>\n      <td>Q3_90</td>\n      <td>2792.753998</td>\n      <td>Q3</td>\n      <td>0</td>\n      <td>0</td>\n      <td>1</td>\n      <td>0</td>\n    </tr>\n    <tr>\n      <th>19</th>\n      <td>Q4_90</td>\n      <td>2556.009995</td>\n      <td>Q4</td>\n      <td>0</td>\n      <td>0</td>\n      <td>0</td>\n      <td>1</td>\n    </tr>\n    <tr>\n      <th>20</th>\n      <td>Q1_91</td>\n      <td>2480.973999</td>\n      <td>Q1</td>\n      <td>1</td>\n      <td>0</td>\n      <td>0</td>\n      <td>0</td>\n    </tr>\n    <tr>\n      <th>21</th>\n      <td>Q2_91</td>\n      <td>3039.522995</td>\n      <td>Q2</td>\n      <td>0</td>\n      <td>1</td>\n      <td>0</td>\n      <td>0</td>\n    </tr>\n    <tr>\n      <th>22</th>\n      <td>Q3_91</td>\n      <td>3172.115997</td>\n      <td>Q3</td>\n      <td>0</td>\n      <td>0</td>\n      <td>1</td>\n      <td>0</td>\n    </tr>\n    <tr>\n      <th>23</th>\n      <td>Q4_91</td>\n      <td>2879.000999</td>\n      <td>Q4</td>\n      <td>0</td>\n      <td>0</td>\n      <td>0</td>\n      <td>1</td>\n    </tr>\n    <tr>\n      <th>24</th>\n      <td>Q1_92</td>\n      <td>2772.000000</td>\n      <td>Q1</td>\n      <td>1</td>\n      <td>0</td>\n      <td>0</td>\n      <td>0</td>\n    </tr>\n    <tr>\n      <th>25</th>\n      <td>Q2_92</td>\n      <td>3550.000000</td>\n      <td>Q2</td>\n      <td>0</td>\n      <td>1</td>\n      <td>0</td>\n      <td>0</td>\n    </tr>\n    <tr>\n      <th>26</th>\n      <td>Q3_92</td>\n      <td>3508.000000</td>\n      <td>Q3</td>\n      <td>0</td>\n      <td>0</td>\n      <td>1</td>\n      <td>0</td>\n    </tr>\n    <tr>\n      <th>27</th>\n      <td>Q4_92</td>\n      <td>3243.859993</td>\n      <td>Q4</td>\n      <td>0</td>\n      <td>0</td>\n      <td>0</td>\n      <td>1</td>\n    </tr>\n    <tr>\n      <th>28</th>\n      <td>Q1_93</td>\n      <td>3056.000000</td>\n      <td>Q1</td>\n      <td>1</td>\n      <td>0</td>\n      <td>0</td>\n      <td>0</td>\n    </tr>\n    <tr>\n      <th>29</th>\n      <td>Q2_93</td>\n      <td>3899.000000</td>\n      <td>Q2</td>\n      <td>0</td>\n      <td>1</td>\n      <td>0</td>\n      <td>0</td>\n    </tr>\n    <tr>\n      <th>30</th>\n      <td>Q3_93</td>\n      <td>3629.000000</td>\n      <td>Q3</td>\n      <td>0</td>\n      <td>0</td>\n      <td>1</td>\n      <td>0</td>\n    </tr>\n    <tr>\n      <th>31</th>\n      <td>Q4_93</td>\n      <td>3373.000000</td>\n      <td>Q4</td>\n      <td>0</td>\n      <td>0</td>\n      <td>0</td>\n      <td>1</td>\n    </tr>\n    <tr>\n      <th>32</th>\n      <td>Q1_94</td>\n      <td>3352.000000</td>\n      <td>Q1</td>\n      <td>1</td>\n      <td>0</td>\n      <td>0</td>\n      <td>0</td>\n    </tr>\n    <tr>\n      <th>33</th>\n      <td>Q2_94</td>\n      <td>4342.000000</td>\n      <td>Q2</td>\n      <td>0</td>\n      <td>1</td>\n      <td>0</td>\n      <td>0</td>\n    </tr>\n    <tr>\n      <th>34</th>\n      <td>Q3_94</td>\n      <td>4461.000000</td>\n      <td>Q3</td>\n      <td>0</td>\n      <td>0</td>\n      <td>1</td>\n      <td>0</td>\n    </tr>\n    <tr>\n      <th>35</th>\n      <td>Q4_94</td>\n      <td>4017.000000</td>\n      <td>Q4</td>\n      <td>0</td>\n      <td>0</td>\n      <td>0</td>\n      <td>1</td>\n    </tr>\n    <tr>\n      <th>36</th>\n      <td>Q1_95</td>\n      <td>3854.000000</td>\n      <td>Q1</td>\n      <td>1</td>\n      <td>0</td>\n      <td>0</td>\n      <td>0</td>\n    </tr>\n    <tr>\n      <th>37</th>\n      <td>Q2_95</td>\n      <td>4936.000000</td>\n      <td>Q2</td>\n      <td>0</td>\n      <td>1</td>\n      <td>0</td>\n      <td>0</td>\n    </tr>\n    <tr>\n      <th>38</th>\n      <td>Q3_95</td>\n      <td>4895.000000</td>\n      <td>Q3</td>\n      <td>0</td>\n      <td>0</td>\n      <td>1</td>\n      <td>0</td>\n    </tr>\n    <tr>\n      <th>39</th>\n      <td>Q4_95</td>\n      <td>4333.000000</td>\n      <td>Q4</td>\n      <td>0</td>\n      <td>0</td>\n      <td>0</td>\n      <td>1</td>\n    </tr>\n    <tr>\n      <th>40</th>\n      <td>Q1_96</td>\n      <td>4194.000000</td>\n      <td>Q1</td>\n      <td>1</td>\n      <td>0</td>\n      <td>0</td>\n      <td>0</td>\n    </tr>\n    <tr>\n      <th>41</th>\n      <td>Q2_96</td>\n      <td>5253.000000</td>\n      <td>Q2</td>\n      <td>0</td>\n      <td>1</td>\n      <td>0</td>\n      <td>0</td>\n    </tr>\n  </tbody>\n</table>\n</div>",
            "text/plain": "   Quarter        Sales quarter  Q1  Q2  Q3  Q4\n0    Q1_86  1734.827000      Q1   1   0   0   0\n1    Q2_86  2244.960999      Q2   0   1   0   0\n2    Q3_86  2533.804993      Q3   0   0   1   0\n3    Q4_86  2154.962997      Q4   0   0   0   1\n4    Q1_87  1547.818996      Q1   1   0   0   0\n5    Q2_87  2104.411995      Q2   0   1   0   0\n6    Q3_87  2014.362999      Q3   0   0   1   0\n7    Q4_87  1991.746998      Q4   0   0   0   1\n8    Q1_88  1869.049999      Q1   1   0   0   0\n9    Q2_88  2313.631996      Q2   0   1   0   0\n10   Q3_88  2128.320000      Q3   0   0   1   0\n11   Q4_88  2026.828999      Q4   0   0   0   1\n12   Q1_89  1910.603996      Q1   1   0   0   0\n13   Q2_89  2331.164993      Q2   0   1   0   0\n14   Q3_89  2206.549995      Q3   0   0   1   0\n15   Q4_89  2173.967995      Q4   0   0   0   1\n16   Q1_90  2148.278000      Q1   1   0   0   0\n17   Q2_90  2739.307999      Q2   0   1   0   0\n18   Q3_90  2792.753998      Q3   0   0   1   0\n19   Q4_90  2556.009995      Q4   0   0   0   1\n20   Q1_91  2480.973999      Q1   1   0   0   0\n21   Q2_91  3039.522995      Q2   0   1   0   0\n22   Q3_91  3172.115997      Q3   0   0   1   0\n23   Q4_91  2879.000999      Q4   0   0   0   1\n24   Q1_92  2772.000000      Q1   1   0   0   0\n25   Q2_92  3550.000000      Q2   0   1   0   0\n26   Q3_92  3508.000000      Q3   0   0   1   0\n27   Q4_92  3243.859993      Q4   0   0   0   1\n28   Q1_93  3056.000000      Q1   1   0   0   0\n29   Q2_93  3899.000000      Q2   0   1   0   0\n30   Q3_93  3629.000000      Q3   0   0   1   0\n31   Q4_93  3373.000000      Q4   0   0   0   1\n32   Q1_94  3352.000000      Q1   1   0   0   0\n33   Q2_94  4342.000000      Q2   0   1   0   0\n34   Q3_94  4461.000000      Q3   0   0   1   0\n35   Q4_94  4017.000000      Q4   0   0   0   1\n36   Q1_95  3854.000000      Q1   1   0   0   0\n37   Q2_95  4936.000000      Q2   0   1   0   0\n38   Q3_95  4895.000000      Q3   0   0   1   0\n39   Q4_95  4333.000000      Q4   0   0   0   1\n40   Q1_96  4194.000000      Q1   1   0   0   0\n41   Q2_96  5253.000000      Q2   0   1   0   0"
          },
          "execution_count": 18,
          "metadata": {},
          "output_type": "execute_result"
        }
      ]
    },
    {
      "metadata": {
        "trusted": false,
        "id": "791c1451"
      },
      "id": "791c1451",
      "cell_type": "code",
      "source": [
        "cc['t'] = np.arange(1,43)\n",
        "cc['t_squared'] = cc['t']**2\n",
        "cc[\"Sales_log\"] =np.log(df['Sales'])"
      ],
      "execution_count": null,
      "outputs": []
    },
    {
      "metadata": {
        "trusted": false,
        "id": "15a6c0c0",
        "outputId": "9cc48481-36e5-4095-d980-a343b3dd557e"
      },
      "id": "15a6c0c0",
      "cell_type": "code",
      "source": [
        "cc.head()"
      ],
      "execution_count": null,
      "outputs": [
        {
          "data": {
            "text/html": "<div>\n<style scoped>\n    .dataframe tbody tr th:only-of-type {\n        vertical-align: middle;\n    }\n\n    .dataframe tbody tr th {\n        vertical-align: top;\n    }\n\n    .dataframe thead th {\n        text-align: right;\n    }\n</style>\n<table border=\"1\" class=\"dataframe\">\n  <thead>\n    <tr style=\"text-align: right;\">\n      <th></th>\n      <th>Quarter</th>\n      <th>Sales</th>\n      <th>quarter</th>\n      <th>Q1</th>\n      <th>Q2</th>\n      <th>Q3</th>\n      <th>Q4</th>\n      <th>t</th>\n      <th>t_squared</th>\n      <th>Sales_log</th>\n    </tr>\n  </thead>\n  <tbody>\n    <tr>\n      <th>0</th>\n      <td>Q1_86</td>\n      <td>1734.827000</td>\n      <td>Q1</td>\n      <td>1</td>\n      <td>0</td>\n      <td>0</td>\n      <td>0</td>\n      <td>1</td>\n      <td>1</td>\n      <td>7.458663</td>\n    </tr>\n    <tr>\n      <th>1</th>\n      <td>Q2_86</td>\n      <td>2244.960999</td>\n      <td>Q2</td>\n      <td>0</td>\n      <td>1</td>\n      <td>0</td>\n      <td>0</td>\n      <td>2</td>\n      <td>4</td>\n      <td>7.716443</td>\n    </tr>\n    <tr>\n      <th>2</th>\n      <td>Q3_86</td>\n      <td>2533.804993</td>\n      <td>Q3</td>\n      <td>0</td>\n      <td>0</td>\n      <td>1</td>\n      <td>0</td>\n      <td>3</td>\n      <td>9</td>\n      <td>7.837477</td>\n    </tr>\n    <tr>\n      <th>3</th>\n      <td>Q4_86</td>\n      <td>2154.962997</td>\n      <td>Q4</td>\n      <td>0</td>\n      <td>0</td>\n      <td>0</td>\n      <td>1</td>\n      <td>4</td>\n      <td>16</td>\n      <td>7.675529</td>\n    </tr>\n    <tr>\n      <th>4</th>\n      <td>Q1_87</td>\n      <td>1547.818996</td>\n      <td>Q1</td>\n      <td>1</td>\n      <td>0</td>\n      <td>0</td>\n      <td>0</td>\n      <td>5</td>\n      <td>25</td>\n      <td>7.344602</td>\n    </tr>\n  </tbody>\n</table>\n</div>",
            "text/plain": "  Quarter        Sales quarter  Q1  Q2  Q3  Q4  t  t_squared  Sales_log\n0   Q1_86  1734.827000      Q1   1   0   0   0  1          1   7.458663\n1   Q2_86  2244.960999      Q2   0   1   0   0  2          4   7.716443\n2   Q3_86  2533.804993      Q3   0   0   1   0  3          9   7.837477\n3   Q4_86  2154.962997      Q4   0   0   0   1  4         16   7.675529\n4   Q1_87  1547.818996      Q1   1   0   0   0  5         25   7.344602"
          },
          "execution_count": 20,
          "metadata": {},
          "output_type": "execute_result"
        }
      ]
    },
    {
      "metadata": {
        "trusted": false,
        "id": "87732249"
      },
      "id": "87732249",
      "cell_type": "code",
      "source": [
        "train =cc.head(32)\n",
        "test =cc.tail(10)"
      ],
      "execution_count": null,
      "outputs": []
    },
    {
      "metadata": {
        "trusted": false,
        "id": "23dc9246",
        "outputId": "2e45a3d6-3334-4e27-b61e-188d99f9595c"
      },
      "id": "23dc9246",
      "cell_type": "code",
      "source": [
        "df['Sales'].plot()"
      ],
      "execution_count": null,
      "outputs": [
        {
          "data": {
            "text/plain": "<AxesSubplot:>"
          },
          "execution_count": 22,
          "metadata": {},
          "output_type": "execute_result"
        },
        {
          "data": {
            "image/png": "[encoded data removed]",
            "text/plain": "<Figure size 432x288 with 1 Axes>"
          },
          "metadata": {},
          "output_type": "display_data"
        }
      ]
    },
    {
      "metadata": {
        "id": "87749cd3"
      },
      "id": "87749cd3",
      "cell_type": "markdown",
      "source": [
        "### Models"
      ]
    },
    {
      "metadata": {
        "trusted": false,
        "id": "eeea87db"
      },
      "id": "eeea87db",
      "cell_type": "code",
      "source": [
        "from sklearn.metrics import mean_squared_error"
      ],
      "execution_count": null,
      "outputs": []
    },
    {
      "metadata": {
        "trusted": false,
        "id": "8834c010",
        "outputId": "4de00041-a3ae-44b0-b20f-5b3ca27643cc"
      },
      "id": "8834c010",
      "cell_type": "code",
      "source": [
        "# Linear Model\n",
        "linear_model =smf.ols(\"Sales~t\",data =train).fit()\n",
        "linear_pred = pd.Series(linear_model.predict(test['t']))\n",
        "linear_rmse =np.sqrt(mean_squared_error(np.array(test['Sales']),np.array(linear_pred)))\n",
        "linear_rmse"
      ],
      "execution_count": null,
      "outputs": [
        {
          "data": {
            "text/plain": "752.9233932767122"
          },
          "execution_count": 24,
          "metadata": {},
          "output_type": "execute_result"
        }
      ]
    },
    {
      "metadata": {
        "trusted": false,
        "id": "9d48511e",
        "outputId": "9bc4face-c84a-44ad-d32e-bb48d41ead73"
      },
      "id": "9d48511e",
      "cell_type": "code",
      "source": [
        "#Quadratic Model\n",
        "quad_model =smf.ols(\"Sales~t+t_squared\",data=train).fit()\n",
        "quad_pred = pd.Series(quad_model.predict(test[['t','t_squared']]))\n",
        "quad_rmse =np.sqrt(mean_squared_error(np.array(test['Sales']),np.array(quad_pred)))\n",
        "quad_rmse"
      ],
      "execution_count": null,
      "outputs": [
        {
          "data": {
            "text/plain": "457.73573554073994"
          },
          "execution_count": 25,
          "metadata": {},
          "output_type": "execute_result"
        }
      ]
    },
    {
      "metadata": {
        "trusted": false,
        "id": "42733886",
        "outputId": "b111cd49-3630-45f3-cd30-0dd3ba4840b5"
      },
      "id": "42733886",
      "cell_type": "code",
      "source": [
        "# Exponential model\n",
        "exp_model  =smf.ols(\"Sales_log~t\",data=train).fit()\n",
        "exp_pred =pd.Series(exp_model.predict(test['t']))\n",
        "exp_rmse =np.sqrt(mean_squared_error(np.array(test['Sales']),np.array(exp_pred)))\n",
        "exp_rmse"
      ],
      "execution_count": null,
      "outputs": [
        {
          "data": {
            "text/plain": "4387.940544839098"
          },
          "execution_count": 26,
          "metadata": {},
          "output_type": "execute_result"
        }
      ]
    },
    {
      "metadata": {
        "trusted": false,
        "id": "5d7adfea",
        "outputId": "045fb007-5026-4d77-c8c6-0e5e70d1cafd"
      },
      "id": "5d7adfea",
      "cell_type": "code",
      "source": [
        "data = {\"MODEL\":pd.Series([\"rmse_linear\",\"rmse_exp\",\"rmse_quad\"]),\"RMSE_Values\":pd.Series([linear_rmse,exp_rmse,quad_rmse,])}\n",
        "table_rmse=pd.DataFrame(data)\n",
        "table_rmse.sort_values(['RMSE_Values'])"
      ],
      "execution_count": null,
      "outputs": [
        {
          "data": {
            "text/html": "<div>\n<style scoped>\n    .dataframe tbody tr th:only-of-type {\n        vertical-align: middle;\n    }\n\n    .dataframe tbody tr th {\n        vertical-align: top;\n    }\n\n    .dataframe thead th {\n        text-align: right;\n    }\n</style>\n<table border=\"1\" class=\"dataframe\">\n  <thead>\n    <tr style=\"text-align: right;\">\n      <th></th>\n      <th>MODEL</th>\n      <th>RMSE_Values</th>\n    </tr>\n  </thead>\n  <tbody>\n    <tr>\n      <th>2</th>\n      <td>rmse_quad</td>\n      <td>457.735736</td>\n    </tr>\n    <tr>\n      <th>0</th>\n      <td>rmse_linear</td>\n      <td>752.923393</td>\n    </tr>\n    <tr>\n      <th>1</th>\n      <td>rmse_exp</td>\n      <td>4387.940545</td>\n    </tr>\n  </tbody>\n</table>\n</div>",
            "text/plain": "         MODEL  RMSE_Values\n2    rmse_quad   457.735736\n0  rmse_linear   752.923393\n1     rmse_exp  4387.940545"
          },
          "execution_count": 27,
          "metadata": {},
          "output_type": "execute_result"
        }
      ]
    },
    {
      "metadata": {
        "id": "17b31cd3"
      },
      "id": "17b31cd3",
      "cell_type": "markdown",
      "source": [
        "#### Using ARIMA model"
      ]
    },
    {
      "metadata": {
        "trusted": false,
        "id": "57e5913c",
        "outputId": "1b9019a9-980c-4efe-9def-765aa2fa37f5"
      },
      "id": "57e5913c",
      "cell_type": "code",
      "source": [
        "data = pd.read_csv(\"data/CocaCola_Sales_Rawdata.csv\",header=0,index_col=0, parse_dates=True)\n",
        "data.head()"
      ],
      "execution_count": null,
      "outputs": [
        {
          "data": {
            "text/html": "<div>\n<style scoped>\n    .dataframe tbody tr th:only-of-type {\n        vertical-align: middle;\n    }\n\n    .dataframe tbody tr th {\n        vertical-align: top;\n    }\n\n    .dataframe thead th {\n        text-align: right;\n    }\n</style>\n<table border=\"1\" class=\"dataframe\">\n  <thead>\n    <tr style=\"text-align: right;\">\n      <th></th>\n      <th>Sales</th>\n    </tr>\n    <tr>\n      <th>Quarter</th>\n      <th></th>\n    </tr>\n  </thead>\n  <tbody>\n    <tr>\n      <th>Q1_86</th>\n      <td>1734.827000</td>\n    </tr>\n    <tr>\n      <th>Q2_86</th>\n      <td>2244.960999</td>\n    </tr>\n    <tr>\n      <th>Q3_86</th>\n      <td>2533.804993</td>\n    </tr>\n    <tr>\n      <th>Q4_86</th>\n      <td>2154.962997</td>\n    </tr>\n    <tr>\n      <th>Q1_87</th>\n      <td>1547.818996</td>\n    </tr>\n  </tbody>\n</table>\n</div>",
            "text/plain": "               Sales\nQuarter             \nQ1_86    1734.827000\nQ2_86    2244.960999\nQ3_86    2533.804993\nQ4_86    2154.962997\nQ1_87    1547.818996"
          },
          "execution_count": 28,
          "metadata": {},
          "output_type": "execute_result"
        }
      ]
    },
    {
      "metadata": {
        "trusted": false,
        "id": "b062213d",
        "outputId": "9aa20fc5-5e64-485d-9f59-4f3ca88ca213"
      },
      "id": "b062213d",
      "cell_type": "code",
      "source": [
        "#separate out a validation dataset\n",
        "split_point = len(data) - 7\n",
        "dataset_cc, validation_cc = data[0:split_point], data[split_point:]\n",
        "print('Dataset_cc %d, Validation_cc %d' % (len(dataset_cc), len(validation_cc)))"
      ],
      "execution_count": null,
      "outputs": [
        {
          "name": "stdout",
          "output_type": "stream",
          "text": "Dataset_cc 35, Validation_cc 7\n"
        }
      ]
    },
    {
      "metadata": {
        "trusted": false,
        "id": "7dbbe521"
      },
      "id": "7dbbe521",
      "cell_type": "code",
      "source": [
        "dataset_cc.to_csv('dataset_cc.csv', header=False)\n",
        "validation_cc.to_csv('validation_cc.csv', header=False)"
      ],
      "execution_count": null,
      "outputs": []
    },
    {
      "metadata": {
        "trusted": false,
        "id": "7a866ab7",
        "outputId": "a1a3de3c-cba0-4270-f78e-e235072966c8"
      },
      "id": "7a866ab7",
      "cell_type": "code",
      "source": [
        "from pandas import read_csv\n",
        "from sklearn.metrics import mean_squared_error\n",
        "from math import sqrt\n",
        "\n",
        "train = read_csv('dataset_cc.csv', header=None, index_col=0, parse_dates=True, squeeze=True)\n",
        "\n",
        "train"
      ],
      "execution_count": null,
      "outputs": [
        {
          "data": {
            "text/plain": "0\nQ1_86    1734.827000\nQ2_86    2244.960999\nQ3_86    2533.804993\nQ4_86    2154.962997\nQ1_87    1547.818996\nQ2_87    2104.411995\nQ3_87    2014.362999\nQ4_87    1991.746998\nQ1_88    1869.049999\nQ2_88    2313.631996\nQ3_88    2128.320000\nQ4_88    2026.828999\nQ1_89    1910.603996\nQ2_89    2331.164993\nQ3_89    2206.549995\nQ4_89    2173.967995\nQ1_90    2148.278000\nQ2_90    2739.307999\nQ3_90    2792.753998\nQ4_90    2556.009995\nQ1_91    2480.973999\nQ2_91    3039.522995\nQ3_91    3172.115997\nQ4_91    2879.000999\nQ1_92    2772.000000\nQ2_92    3550.000000\nQ3_92    3508.000000\nQ4_92    3243.859993\nQ1_93    3056.000000\nQ2_93    3899.000000\nQ3_93    3629.000000\nQ4_93    3373.000000\nQ1_94    3352.000000\nQ2_94    4342.000000\nQ3_94    4461.000000\nName: 1, dtype: float64"
          },
          "execution_count": 31,
          "metadata": {},
          "output_type": "execute_result"
        }
      ]
    },
    {
      "metadata": {
        "trusted": false,
        "id": "701144cb"
      },
      "id": "701144cb",
      "cell_type": "code",
      "source": [
        "X = train.values\n",
        "X = X.astype('float32')\n",
        "train_size = int(len(X) * 0.50)\n",
        "train, test = X[0:train_size], X[train_size:]"
      ],
      "execution_count": null,
      "outputs": []
    },
    {
      "metadata": {
        "id": "e82cd1ba"
      },
      "id": "e82cd1ba",
      "cell_type": "markdown",
      "source": [
        "###  Validation"
      ]
    },
    {
      "metadata": {
        "trusted": false,
        "id": "b31a46e8",
        "outputId": "eb530c47-dd19-42db-d364-a006b577a40e"
      },
      "id": "b31a46e8",
      "cell_type": "code",
      "source": [
        "history = [x for x in train]\n",
        "predictions = list()\n",
        "for i in range(len(test)):\n",
        "    yhat = history[-1]\n",
        "    predictions.append(yhat)\n",
        "# observation\n",
        "    obs = test[i]\n",
        "    history.append(obs)\n",
        "    print('>Predicted=%.3f, Expected=%.3f' % (yhat, obs))\n",
        "# report performance\n",
        "rmse = sqrt(mean_squared_error(test, predictions))\n",
        "print('RMSE: %.3f' % rmse)"
      ],
      "execution_count": null,
      "outputs": [
        {
          "name": "stdout",
          "output_type": "stream",
          "text": ">Predicted=2148.278, Expected=2739.308\n>Predicted=2739.308, Expected=2792.754\n>Predicted=2792.754, Expected=2556.010\n>Predicted=2556.010, Expected=2480.974\n>Predicted=2480.974, Expected=3039.523\n>Predicted=3039.523, Expected=3172.116\n>Predicted=3172.116, Expected=2879.001\n>Predicted=2879.001, Expected=2772.000\n>Predicted=2772.000, Expected=3550.000\n>Predicted=3550.000, Expected=3508.000\n>Predicted=3508.000, Expected=3243.860\n>Predicted=3243.860, Expected=3056.000\n>Predicted=3056.000, Expected=3899.000\n>Predicted=3899.000, Expected=3629.000\n>Predicted=3629.000, Expected=3373.000\n>Predicted=3373.000, Expected=3352.000\n>Predicted=3352.000, Expected=4342.000\n>Predicted=4342.000, Expected=4461.000\nRMSE: 434.401\n"
        }
      ]
    },
    {
      "metadata": {
        "trusted": false,
        "id": "d55542d7",
        "outputId": "5be834c1-567e-4cd8-be38-f806853e5ca9"
      },
      "id": "d55542d7",
      "cell_type": "code",
      "source": [
        "data = {\"MODEL\":pd.Series([\"rmse_linear\",\"rmse_exp\",\"rmse_quad\",\"RMSE_ARIMA\"]),\"RMSE_Values\":pd.Series([linear_rmse,exp_rmse,quad_rmse,rmse])}\n",
        "table_rmse=pd.DataFrame(data)\n",
        "table_rmse.sort_values(['RMSE_Values'])"
      ],
      "execution_count": null,
      "outputs": [
        {
          "data": {
            "text/html": "<div>\n<style scoped>\n    .dataframe tbody tr th:only-of-type {\n        vertical-align: middle;\n    }\n\n    .dataframe tbody tr th {\n        vertical-align: top;\n    }\n\n    .dataframe thead th {\n        text-align: right;\n    }\n</style>\n<table border=\"1\" class=\"dataframe\">\n  <thead>\n    <tr style=\"text-align: right;\">\n      <th></th>\n      <th>MODEL</th>\n      <th>RMSE_Values</th>\n    </tr>\n  </thead>\n  <tbody>\n    <tr>\n      <th>3</th>\n      <td>RMSE_ARIMA</td>\n      <td>434.400665</td>\n    </tr>\n    <tr>\n      <th>2</th>\n      <td>rmse_quad</td>\n      <td>457.735736</td>\n    </tr>\n    <tr>\n      <th>0</th>\n      <td>rmse_linear</td>\n      <td>752.923393</td>\n    </tr>\n    <tr>\n      <th>1</th>\n      <td>rmse_exp</td>\n      <td>4387.940545</td>\n    </tr>\n  </tbody>\n</table>\n</div>",
            "text/plain": "         MODEL  RMSE_Values\n3   RMSE_ARIMA   434.400665\n2    rmse_quad   457.735736\n0  rmse_linear   752.923393\n1     rmse_exp  4387.940545"
          },
          "execution_count": 34,
          "metadata": {},
          "output_type": "execute_result"
        }
      ]
    },
    {
      "metadata": {
        "id": "5ffb8455"
      },
      "id": "5ffb8455",
      "cell_type": "markdown",
      "source": [
        "## The least RMSE values has the RMSE_ARMIA model and we can final this model"
      ]
    }
  ],
  "metadata": {
    "kernelspec": {
      "name": "python3",
      "display_name": "Python 3",
      "language": "python"
    },
    "language_info": {
      "name": "python",
      "version": "3.8.8",
      "mimetype": "text/x-python",
      "codemirror_mode": {
        "name": "ipython",
        "version": 3
      },
      "pygments_lexer": "ipython3",
      "nbconvert_exporter": "python",
      "file_extension": ".py"
    },
    "toc": {
      "nav_menu": {},
      "number_sections": true,
      "sideBar": true,
      "skip_h1_title": false,
      "base_numbering": 1,
      "title_cell": "Table of Contents",
      "title_sidebar": "Contents",
      "toc_cell": false,
      "toc_position": {},
      "toc_section_display": true,
      "toc_window_display": false
    },
    "gist": {
      "id": "",
      "data": {
        "description": "Forecasting Assignment.ipynb",
        "public": true
      }
    },
    "colab": {
      "name": "Assignment_Forecasting_Cocacola",
      "provenance": []
    }
  },
  "nbformat": 4,
  "nbformat_minor": 5
}