{
  "cells": [
    {
      "cell_type": "markdown",
      "metadata": {
        "id": "TwVzmPjiLq9w"
      },
      "source": [
        "# Assignment-04-Simple Linear Regression-2"
      ]
    },
    {
      "cell_type": "raw",
      "metadata": {
        "id": "4wCQHSYULq93"
      },
      "source": [
        "Q2) Salary_hike -> Build a prediction model for Salary_hike\n",
        "Build a simple linear regression model by performing EDA and do necessary transformations and select the best model using R or Python."
      ]
    },
    {
      "cell_type": "code",
      "execution_count": null,
      "metadata": {
        "id": "HuZ_LTIYLq94"
      },
      "outputs": [],
      "source": [
        "# impoort libraries\n",
        "import pandas as pd\n",
        "import numpy as np\n",
        "import seaborn as sns\n",
        "import statsmodels.formula.api as smf"
      ]
    },
    {
      "cell_type": "code",
      "source": [
        "from google.colab import drive\n",
        "drive.mount('/content/drive')"
      ],
      "metadata": {
        "colab": {
          "base_uri": "https://localhost:8080/"
        },
        "id": "kWmIKlt5CSPC",
        "outputId": "73dd0f30-e762-4854-e7f0-065131abc424"
      },
      "execution_count": null,
      "outputs": [
        {
          "output_type": "stream",
          "name": "stdout",
          "text": [
            "Mounted at /content/drive\n"
          ]
        }
      ]
    },
    {
      "cell_type": "code",
      "source": [
        "ls"
      ],
      "metadata": {
        "colab": {
          "base_uri": "https://localhost:8080/"
        },
        "id": "EYWsaqPSCfcp",
        "outputId": "bc44dad2-a110-4482-be23-1a4bc189efa4"
      },
      "execution_count": null,
      "outputs": [
        {
          "output_type": "stream",
          "name": "stdout",
          "text": [
            "\u001b[0m\u001b[01;34mdrive\u001b[0m/  \u001b[01;34msample_data\u001b[0m/\n"
          ]
        }
      ]
    },
    {
      "cell_type": "code",
      "source": [
        "cd drive/MyDrive"
      ],
      "metadata": {
        "colab": {
          "base_uri": "https://localhost:8080/"
        },
        "id": "KvujPB7rCiSE",
        "outputId": "2574f3c9-2003-4ae3-a5fc-840cff13c0d6"
      },
      "execution_count": null,
      "outputs": [
        {
          "output_type": "stream",
          "name": "stdout",
          "text": [
            "/content/drive/MyDrive\n"
          ]
        }
      ]
    },
    {
      "cell_type": "code",
      "execution_count": null,
      "metadata": {
        "id": "vMIi3xNALq96",
        "outputId": "14c278dd-9327-4290-e9f0-d5c5a8a9a1c3",
        "colab": {
          "base_uri": "https://localhost:8080/",
          "height": 989
        }
      },
      "outputs": [
        {
          "output_type": "execute_result",
          "data": {
            "text/plain": [
              "    YearsExperience    Salary\n",
              "0               1.1   39343.0\n",
              "1               1.3   46205.0\n",
              "2               1.5   37731.0\n",
              "3               2.0   43525.0\n",
              "4               2.2   39891.0\n",
              "5               2.9   56642.0\n",
              "6               3.0   60150.0\n",
              "7               3.2   54445.0\n",
              "8               3.2   64445.0\n",
              "9               3.7   57189.0\n",
              "10              3.9   63218.0\n",
              "11              4.0   55794.0\n",
              "12              4.0   56957.0\n",
              "13              4.1   57081.0\n",
              "14              4.5   61111.0\n",
              "15              4.9   67938.0\n",
              "16              5.1   66029.0\n",
              "17              5.3   83088.0\n",
              "18              5.9   81363.0\n",
              "19              6.0   93940.0\n",
              "20              6.8   91738.0\n",
              "21              7.1   98273.0\n",
              "22              7.9  101302.0\n",
              "23              8.2  113812.0\n",
              "24              8.7  109431.0\n",
              "25              9.0  105582.0\n",
              "26              9.5  116969.0\n",
              "27              9.6  112635.0\n",
              "28             10.3  122391.0\n",
              "29             10.5  121872.0"
            ],
            "text/html": [
              "\n",
              "\n",
              "  <div id=\"df-67113e42-23ce-41d7-b70e-f5c3d8f0cc8a\">\n",
              "    <div class=\"colab-df-container\">\n",
              "      <div>\n",
              "<style scoped>\n",
              "    .dataframe tbody tr th:only-of-type {\n",
              "        vertical-align: middle;\n",
              "    }\n",
              "\n",
              "    .dataframe tbody tr th {\n",
              "        vertical-align: top;\n",
              "    }\n",
              "\n",
              "    .dataframe thead th {\n",
              "        text-align: right;\n",
              "    }\n",
              "</style>\n",
              "<table border=\"1\" class=\"dataframe\">\n",
              "  <thead>\n",
              "    <tr style=\"text-align: right;\">\n",
              "      <th></th>\n",
              "      <th>YearsExperience</th>\n",
              "      <th>Salary</th>\n",
              "    </tr>\n",
              "  </thead>\n",
              "  <tbody>\n",
              "    <tr>\n",
              "      <th>0</th>\n",
              "      <td>1.1</td>\n",
              "      <td>39343.0</td>\n",
              "    </tr>\n",
              "    <tr>\n",
              "      <th>1</th>\n",
              "      <td>1.3</td>\n",
              "      <td>46205.0</td>\n",
              "    </tr>\n",
              "    <tr>\n",
              "      <th>2</th>\n",
              "      <td>1.5</td>\n",
              "      <td>37731.0</td>\n",
              "    </tr>\n",
              "    <tr>\n",
              "      <th>3</th>\n",
              "      <td>2.0</td>\n",
              "      <td>43525.0</td>\n",
              "    </tr>\n",
              "    <tr>\n",
              "      <th>4</th>\n",
              "      <td>2.2</td>\n",
              "      <td>39891.0</td>\n",
              "    </tr>\n",
              "    <tr>\n",
              "      <th>5</th>\n",
              "      <td>2.9</td>\n",
              "      <td>56642.0</td>\n",
              "    </tr>\n",
              "    <tr>\n",
              "      <th>6</th>\n",
              "      <td>3.0</td>\n",
              "      <td>60150.0</td>\n",
              "    </tr>\n",
              "    <tr>\n",
              "      <th>7</th>\n",
              "      <td>3.2</td>\n",
              "      <td>54445.0</td>\n",
              "    </tr>\n",
              "    <tr>\n",
              "      <th>8</th>\n",
              "      <td>3.2</td>\n",
              "      <td>64445.0</td>\n",
              "    </tr>\n",
              "    <tr>\n",
              "      <th>9</th>\n",
              "      <td>3.7</td>\n",
              "      <td>57189.0</td>\n",
              "    </tr>\n",
              "    <tr>\n",
              "      <th>10</th>\n",
              "      <td>3.9</td>\n",
              "      <td>63218.0</td>\n",
              "    </tr>\n",
              "    <tr>\n",
              "      <th>11</th>\n",
              "      <td>4.0</td>\n",
              "      <td>55794.0</td>\n",
              "    </tr>\n",
              "    <tr>\n",
              "      <th>12</th>\n",
              "      <td>4.0</td>\n",
              "      <td>56957.0</td>\n",
              "    </tr>\n",
              "    <tr>\n",
              "      <th>13</th>\n",
              "      <td>4.1</td>\n",
              "      <td>57081.0</td>\n",
              "    </tr>\n",
              "    <tr>\n",
              "      <th>14</th>\n",
              "      <td>4.5</td>\n",
              "      <td>61111.0</td>\n",
              "    </tr>\n",
              "    <tr>\n",
              "      <th>15</th>\n",
              "      <td>4.9</td>\n",
              "      <td>67938.0</td>\n",
              "    </tr>\n",
              "    <tr>\n",
              "      <th>16</th>\n",
              "      <td>5.1</td>\n",
              "      <td>66029.0</td>\n",
              "    </tr>\n",
              "    <tr>\n",
              "      <th>17</th>\n",
              "      <td>5.3</td>\n",
              "      <td>83088.0</td>\n",
              "    </tr>\n",
              "    <tr>\n",
              "      <th>18</th>\n",
              "      <td>5.9</td>\n",
              "      <td>81363.0</td>\n",
              "    </tr>\n",
              "    <tr>\n",
              "      <th>19</th>\n",
              "      <td>6.0</td>\n",
              "      <td>93940.0</td>\n",
              "    </tr>\n",
              "    <tr>\n",
              "      <th>20</th>\n",
              "      <td>6.8</td>\n",
              "      <td>91738.0</td>\n",
              "    </tr>\n",
              "    <tr>\n",
              "      <th>21</th>\n",
              "      <td>7.1</td>\n",
              "      <td>98273.0</td>\n",
              "    </tr>\n",
              "    <tr>\n",
              "      <th>22</th>\n",
              "      <td>7.9</td>\n",
              "      <td>101302.0</td>\n",
              "    </tr>\n",
              "    <tr>\n",
              "      <th>23</th>\n",
              "      <td>8.2</td>\n",
              "      <td>113812.0</td>\n",
              "    </tr>\n",
              "    <tr>\n",
              "      <th>24</th>\n",
              "      <td>8.7</td>\n",
              "      <td>109431.0</td>\n",
              "    </tr>\n",
              "    <tr>\n",
              "      <th>25</th>\n",
              "      <td>9.0</td>\n",
              "      <td>105582.0</td>\n",
              "    </tr>\n",
              "    <tr>\n",
              "      <th>26</th>\n",
              "      <td>9.5</td>\n",
              "      <td>116969.0</td>\n",
              "    </tr>\n",
              "    <tr>\n",
              "      <th>27</th>\n",
              "      <td>9.6</td>\n",
              "      <td>112635.0</td>\n",
              "    </tr>\n",
              "    <tr>\n",
              "      <th>28</th>\n",
              "      <td>10.3</td>\n",
              "      <td>122391.0</td>\n",
              "    </tr>\n",
              "    <tr>\n",
              "      <th>29</th>\n",
              "      <td>10.5</td>\n",
              "      <td>121872.0</td>\n",
              "    </tr>\n",
              "  </tbody>\n",
              "</table>\n",
              "</div>\n",
              "      <button class=\"colab-df-convert\" onclick=\"convertToInteractive('df-67113e42-23ce-41d7-b70e-f5c3d8f0cc8a')\"\n",
              "              title=\"Convert this dataframe to an interactive table.\"\n",
              "              style=\"display:none;\">\n",
              "\n",
              "  <svg xmlns=\"http://www.w3.org/2000/svg\" height=\"24px\"viewBox=\"0 0 24 24\"\n",
              "       width=\"24px\">\n",
              "    <path d=\"M0 0h24v24H0V0z\" fill=\"none\"/>\n",
              "    <path d=\"M18.56 5.44l.94 2.06.94-2.06 2.06-.94-2.06-.94-.94-2.06-.94 2.06-2.06.94zm-11 1L8.5 8.5l.94-2.06 2.06-.94-2.06-.94L8.5 2.5l-.94 2.06-2.06.94zm10 10l.94 2.06.94-2.06 2.06-.94-2.06-.94-.94-2.06-.94 2.06-2.06.94z\"/><path d=\"M17.41 7.96l-1.37-1.37c-.4-.4-.92-.59-1.43-.59-.52 0-1.04.2-1.43.59L10.3 9.45l-7.72 7.72c-.78.78-.78 2.05 0 2.83L4 21.41c.39.39.9.59 1.41.59.51 0 1.02-.2 1.41-.59l7.78-7.78 2.81-2.81c.8-.78.8-2.07 0-2.86zM5.41 20L4 18.59l7.72-7.72 1.47 1.35L5.41 20z\"/>\n",
              "  </svg>\n",
              "      </button>\n",
              "\n",
              "\n",
              "\n",
              "    <div id=\"df-7dc8bf1e-f4fd-46e5-a54e-55f29c45b9f1\">\n",
              "      <button class=\"colab-df-quickchart\" onclick=\"quickchart('df-7dc8bf1e-f4fd-46e5-a54e-55f29c45b9f1')\"\n",
              "              title=\"Suggest charts.\"\n",
              "              style=\"display:none;\">\n",
              "\n",
              "<svg xmlns=\"http://www.w3.org/2000/svg\" height=\"24px\"viewBox=\"0 0 24 24\"\n",
              "     width=\"24px\">\n",
              "    <g>\n",
              "        <path d=\"M19 3H5c-1.1 0-2 .9-2 2v14c0 1.1.9 2 2 2h14c1.1 0 2-.9 2-2V5c0-1.1-.9-2-2-2zM9 17H7v-7h2v7zm4 0h-2V7h2v10zm4 0h-2v-4h2v4z\"/>\n",
              "    </g>\n",
              "</svg>\n",
              "      </button>\n",
              "    </div>\n",
              "\n",
              "<style>\n",
              "  .colab-df-quickchart {\n",
              "    background-color: #E8F0FE;\n",
              "    border: none;\n",
              "    border-radius: 50%;\n",
              "    cursor: pointer;\n",
              "    display: none;\n",
              "    fill: #1967D2;\n",
              "    height: 32px;\n",
              "    padding: 0 0 0 0;\n",
              "    width: 32px;\n",
              "  }\n",
              "\n",
              "  .colab-df-quickchart:hover {\n",
              "    background-color: #E2EBFA;\n",
              "    box-shadow: 0px 1px 2px rgba(60, 64, 67, 0.3), 0px 1px 3px 1px rgba(60, 64, 67, 0.15);\n",
              "    fill: #174EA6;\n",
              "  }\n",
              "\n",
              "  [theme=dark] .colab-df-quickchart {\n",
              "    background-color: #3B4455;\n",
              "    fill: #D2E3FC;\n",
              "  }\n",
              "\n",
              "  [theme=dark] .colab-df-quickchart:hover {\n",
              "    background-color: #434B5C;\n",
              "    box-shadow: 0px 1px 3px 1px rgba(0, 0, 0, 0.15);\n",
              "    filter: drop-shadow(0px 1px 2px rgba(0, 0, 0, 0.3));\n",
              "    fill: #FFFFFF;\n",
              "  }\n",
              "</style>\n",
              "\n",
              "    <script>\n",
              "      async function quickchart(key) {\n",
              "        const containerElement = document.querySelector('#' + key);\n",
              "        const charts = await google.colab.kernel.invokeFunction(\n",
              "            'suggestCharts', [key], {});\n",
              "      }\n",
              "    </script>\n",
              "\n",
              "      <script>\n",
              "\n",
              "function displayQuickchartButton(domScope) {\n",
              "  let quickchartButtonEl =\n",
              "    domScope.querySelector('#df-7dc8bf1e-f4fd-46e5-a54e-55f29c45b9f1 button.colab-df-quickchart');\n",
              "  quickchartButtonEl.style.display =\n",
              "    google.colab.kernel.accessAllowed ? 'block' : 'none';\n",
              "}\n",
              "\n",
              "        displayQuickchartButton(document);\n",
              "      </script>\n",
              "      <style>\n",
              "    .colab-df-container {\n",
              "      display:flex;\n",
              "      flex-wrap:wrap;\n",
              "      gap: 12px;\n",
              "    }\n",
              "\n",
              "    .colab-df-convert {\n",
              "      background-color: #E8F0FE;\n",
              "      border: none;\n",
              "      border-radius: 50%;\n",
              "      cursor: pointer;\n",
              "      display: none;\n",
              "      fill: #1967D2;\n",
              "      height: 32px;\n",
              "      padding: 0 0 0 0;\n",
              "      width: 32px;\n",
              "    }\n",
              "\n",
              "    .colab-df-convert:hover {\n",
              "      background-color: #E2EBFA;\n",
              "      box-shadow: 0px 1px 2px rgba(60, 64, 67, 0.3), 0px 1px 3px 1px rgba(60, 64, 67, 0.15);\n",
              "      fill: #174EA6;\n",
              "    }\n",
              "\n",
              "    [theme=dark] .colab-df-convert {\n",
              "      background-color: #3B4455;\n",
              "      fill: #D2E3FC;\n",
              "    }\n",
              "\n",
              "    [theme=dark] .colab-df-convert:hover {\n",
              "      background-color: #434B5C;\n",
              "      box-shadow: 0px 1px 3px 1px rgba(0, 0, 0, 0.15);\n",
              "      filter: drop-shadow(0px 1px 2px rgba(0, 0, 0, 0.3));\n",
              "      fill: #FFFFFF;\n",
              "    }\n",
              "  </style>\n",
              "\n",
              "      <script>\n",
              "        const buttonEl =\n",
              "          document.querySelector('#df-67113e42-23ce-41d7-b70e-f5c3d8f0cc8a button.colab-df-convert');\n",
              "        buttonEl.style.display =\n",
              "          google.colab.kernel.accessAllowed ? 'block' : 'none';\n",
              "\n",
              "        async function convertToInteractive(key) {\n",
              "          const element = document.querySelector('#df-67113e42-23ce-41d7-b70e-f5c3d8f0cc8a');\n",
              "          const dataTable =\n",
              "            await google.colab.kernel.invokeFunction('convertToInteractive',\n",
              "                                                     [key], {});\n",
              "          if (!dataTable) return;\n",
              "\n",
              "          const docLinkHtml = 'Like what you see? Visit the ' +\n",
              "            '<a target=\"_blank\" href=https://colab.research.google.com/notebooks/data_table.ipynb>data table notebook</a>'\n",
              "            + ' to learn more about interactive tables.';\n",
              "          element.innerHTML = '';\n",
              "          dataTable['output_type'] = 'display_data';\n",
              "          await google.colab.output.renderOutput(dataTable, element);\n",
              "          const docLink = document.createElement('div');\n",
              "          docLink.innerHTML = docLinkHtml;\n",
              "          element.appendChild(docLink);\n",
              "        }\n",
              "      </script>\n",
              "    </div>\n",
              "  </div>\n"
            ]
          },
          "metadata": {},
          "execution_count": 5
        }
      ],
      "source": [
        "# import dataset\n",
        "dataset=pd.read_csv(\"data/Salary_Data.csv\")\n",
        "dataset"
      ]
    },
    {
      "cell_type": "markdown",
      "metadata": {
        "id": "VQBfbIBaLq97"
      },
      "source": [
        "## EDA and Data Visualization"
      ]
    },
    {
      "cell_type": "code",
      "execution_count": null,
      "metadata": {
        "id": "mSGgIqSyLq97",
        "outputId": "66de7b8c-9b2e-43c6-abb3-68f3e8b7df87",
        "colab": {
          "base_uri": "https://localhost:8080/"
        }
      },
      "outputs": [
        {
          "output_type": "stream",
          "name": "stdout",
          "text": [
            "<class 'pandas.core.frame.DataFrame'>\n",
            "RangeIndex: 30 entries, 0 to 29\n",
            "Data columns (total 2 columns):\n",
            " #   Column           Non-Null Count  Dtype  \n",
            "---  ------           --------------  -----  \n",
            " 0   YearsExperience  30 non-null     float64\n",
            " 1   Salary           30 non-null     float64\n",
            "dtypes: float64(2)\n",
            "memory usage: 608.0 bytes\n"
          ]
        }
      ],
      "source": [
        "dataset.info()"
      ]
    },
    {
      "cell_type": "code",
      "execution_count": null,
      "metadata": {
        "id": "63UYbSJULq98",
        "outputId": "3ad1512e-e41e-4613-a528-62b015a7c391",
        "colab": {
          "base_uri": "https://localhost:8080/",
          "height": 664
        }
      },
      "outputs": [
        {
          "output_type": "stream",
          "name": "stderr",
          "text": [
            "<ipython-input-7-c16c18e1f77c>:1: UserWarning: \n",
            "\n",
            "`distplot` is a deprecated function and will be removed in seaborn v0.14.0.\n",
            "\n",
            "Please adapt your code to use either `displot` (a figure-level function with\n",
            "similar flexibility) or `histplot` (an axes-level function for histograms).\n",
            "\n",
            "For a guide to updating your code to use the new functions, please see\n",
            "https://gist.github.com/mwaskom/de44147ed2974457ad6372750bbe5751\n",
            "\n",
            "  sns.distplot(dataset['YearsExperience'])\n"
          ]
        },
        {
          "output_type": "execute_result",
          "data": {
            "text/plain": [
              "<Axes: xlabel='YearsExperience', ylabel='Density'>"
            ]
          },
          "metadata": {},
          "execution_count": 7
        },
        {
          "output_type": "display_data",
          "data": {
            "text/plain": [
              "<Figure size 640x480 with 1 Axes>"
            ],
            "image/png": "[encoded data removed]"
          },
          "metadata": {}
        }
      ],
      "source": [
        "sns.distplot(dataset['YearsExperience'])"
      ]
    },
    {
      "cell_type": "code",
      "execution_count": null,
      "metadata": {
        "id": "lQPczngqLq99",
        "outputId": "dc959524-3214-47e8-92cc-9c9bb3122dfd",
        "colab": {
          "base_uri": "https://localhost:8080/",
          "height": 680
        }
      },
      "outputs": [
        {
          "output_type": "stream",
          "name": "stderr",
          "text": [
            "<ipython-input-8-9fd6134c9331>:1: UserWarning: \n",
            "\n",
            "`distplot` is a deprecated function and will be removed in seaborn v0.14.0.\n",
            "\n",
            "Please adapt your code to use either `displot` (a figure-level function with\n",
            "similar flexibility) or `histplot` (an axes-level function for histograms).\n",
            "\n",
            "For a guide to updating your code to use the new functions, please see\n",
            "https://gist.github.com/mwaskom/de44147ed2974457ad6372750bbe5751\n",
            "\n",
            "  sns.distplot(dataset['Salary'])\n"
          ]
        },
        {
          "output_type": "execute_result",
          "data": {
            "text/plain": [
              "<Axes: xlabel='Salary', ylabel='Density'>"
            ]
          },
          "metadata": {},
          "execution_count": 8
        },
        {
          "output_type": "display_data",
          "data": {
            "text/plain": [
              "<Figure size 640x480 with 1 Axes>"
            ],
            "image/png": "[encoded data removed]"
          },
          "metadata": {}
        }
      ],
      "source": [
        "sns.distplot(dataset['Salary'])"
      ]
    },
    {
      "cell_type": "markdown",
      "metadata": {
        "id": "iPEA1SoULq99"
      },
      "source": [
        "## Correlation Analysis"
      ]
    },
    {
      "cell_type": "code",
      "execution_count": null,
      "metadata": {
        "id": "2QIVCkboLq99",
        "outputId": "7694097a-4546-4ff2-83dd-c7c098972410",
        "colab": {
          "base_uri": "https://localhost:8080/",
          "height": 112
        }
      },
      "outputs": [
        {
          "output_type": "execute_result",
          "data": {
            "text/plain": [
              "                 YearsExperience    Salary\n",
              "YearsExperience         1.000000  0.978242\n",
              "Salary                  0.978242  1.000000"
            ],
            "text/html": [
              "\n",
              "\n",
              "  <div id=\"df-ac081cbd-c794-49c5-96d1-c4ca3d760731\">\n",
              "    <div class=\"colab-df-container\">\n",
              "      <div>\n",
              "<style scoped>\n",
              "    .dataframe tbody tr th:only-of-type {\n",
              "        vertical-align: middle;\n",
              "    }\n",
              "\n",
              "    .dataframe tbody tr th {\n",
              "        vertical-align: top;\n",
              "    }\n",
              "\n",
              "    .dataframe thead th {\n",
              "        text-align: right;\n",
              "    }\n",
              "</style>\n",
              "<table border=\"1\" class=\"dataframe\">\n",
              "  <thead>\n",
              "    <tr style=\"text-align: right;\">\n",
              "      <th></th>\n",
              "      <th>YearsExperience</th>\n",
              "      <th>Salary</th>\n",
              "    </tr>\n",
              "  </thead>\n",
              "  <tbody>\n",
              "    <tr>\n",
              "      <th>YearsExperience</th>\n",
              "      <td>1.000000</td>\n",
              "      <td>0.978242</td>\n",
              "    </tr>\n",
              "    <tr>\n",
              "      <th>Salary</th>\n",
              "      <td>0.978242</td>\n",
              "      <td>1.000000</td>\n",
              "    </tr>\n",
              "  </tbody>\n",
              "</table>\n",
              "</div>\n",
              "      <button class=\"colab-df-convert\" onclick=\"convertToInteractive('df-ac081cbd-c794-49c5-96d1-c4ca3d760731')\"\n",
              "              title=\"Convert this dataframe to an interactive table.\"\n",
              "              style=\"display:none;\">\n",
              "\n",
              "  <svg xmlns=\"http://www.w3.org/2000/svg\" height=\"24px\"viewBox=\"0 0 24 24\"\n",
              "       width=\"24px\">\n",
              "    <path d=\"M0 0h24v24H0V0z\" fill=\"none\"/>\n",
              "    <path d=\"M18.56 5.44l.94 2.06.94-2.06 2.06-.94-2.06-.94-.94-2.06-.94 2.06-2.06.94zm-11 1L8.5 8.5l.94-2.06 2.06-.94-2.06-.94L8.5 2.5l-.94 2.06-2.06.94zm10 10l.94 2.06.94-2.06 2.06-.94-2.06-.94-.94-2.06-.94 2.06-2.06.94z\"/><path d=\"M17.41 7.96l-1.37-1.37c-.4-.4-.92-.59-1.43-.59-.52 0-1.04.2-1.43.59L10.3 9.45l-7.72 7.72c-.78.78-.78 2.05 0 2.83L4 21.41c.39.39.9.59 1.41.59.51 0 1.02-.2 1.41-.59l7.78-7.78 2.81-2.81c.8-.78.8-2.07 0-2.86zM5.41 20L4 18.59l7.72-7.72 1.47 1.35L5.41 20z\"/>\n",
              "  </svg>\n",
              "      </button>\n",
              "\n",
              "\n",
              "\n",
              "    <div id=\"df-c842562a-6a8c-4824-bbea-6f4f653f9d2e\">\n",
              "      <button class=\"colab-df-quickchart\" onclick=\"quickchart('df-c842562a-6a8c-4824-bbea-6f4f653f9d2e')\"\n",
              "              title=\"Suggest charts.\"\n",
              "              style=\"display:none;\">\n",
              "\n",
              "<svg xmlns=\"http://www.w3.org/2000/svg\" height=\"24px\"viewBox=\"0 0 24 24\"\n",
              "     width=\"24px\">\n",
              "    <g>\n",
              "        <path d=\"M19 3H5c-1.1 0-2 .9-2 2v14c0 1.1.9 2 2 2h14c1.1 0 2-.9 2-2V5c0-1.1-.9-2-2-2zM9 17H7v-7h2v7zm4 0h-2V7h2v10zm4 0h-2v-4h2v4z\"/>\n",
              "    </g>\n",
              "</svg>\n",
              "      </button>\n",
              "    </div>\n",
              "\n",
              "<style>\n",
              "  .colab-df-quickchart {\n",
              "    background-color: #E8F0FE;\n",
              "    border: none;\n",
              "    border-radius: 50%;\n",
              "    cursor: pointer;\n",
              "    display: none;\n",
              "    fill: #1967D2;\n",
              "    height: 32px;\n",
              "    padding: 0 0 0 0;\n",
              "    width: 32px;\n",
              "  }\n",
              "\n",
              "  .colab-df-quickchart:hover {\n",
              "    background-color: #E2EBFA;\n",
              "    box-shadow: 0px 1px 2px rgba(60, 64, 67, 0.3), 0px 1px 3px 1px rgba(60, 64, 67, 0.15);\n",
              "    fill: #174EA6;\n",
              "  }\n",
              "\n",
              "  [theme=dark] .colab-df-quickchart {\n",
              "    background-color: #3B4455;\n",
              "    fill: #D2E3FC;\n",
              "  }\n",
              "\n",
              "  [theme=dark] .colab-df-quickchart:hover {\n",
              "    background-color: #434B5C;\n",
              "    box-shadow: 0px 1px 3px 1px rgba(0, 0, 0, 0.15);\n",
              "    filter: drop-shadow(0px 1px 2px rgba(0, 0, 0, 0.3));\n",
              "    fill: #FFFFFF;\n",
              "  }\n",
              "</style>\n",
              "\n",
              "    <script>\n",
              "      async function quickchart(key) {\n",
              "        const containerElement = document.querySelector('#' + key);\n",
              "        const charts = await google.colab.kernel.invokeFunction(\n",
              "            'suggestCharts', [key], {});\n",
              "      }\n",
              "    </script>\n",
              "\n",
              "      <script>\n",
              "\n",
              "function displayQuickchartButton(domScope) {\n",
              "  let quickchartButtonEl =\n",
              "    domScope.querySelector('#df-c842562a-6a8c-4824-bbea-6f4f653f9d2e button.colab-df-quickchart');\n",
              "  quickchartButtonEl.style.display =\n",
              "    google.colab.kernel.accessAllowed ? 'block' : 'none';\n",
              "}\n",
              "\n",
              "        displayQuickchartButton(document);\n",
              "      </script>\n",
              "      <style>\n",
              "    .colab-df-container {\n",
              "      display:flex;\n",
              "      flex-wrap:wrap;\n",
              "      gap: 12px;\n",
              "    }\n",
              "\n",
              "    .colab-df-convert {\n",
              "      background-color: #E8F0FE;\n",
              "      border: none;\n",
              "      border-radius: 50%;\n",
              "      cursor: pointer;\n",
              "      display: none;\n",
              "      fill: #1967D2;\n",
              "      height: 32px;\n",
              "      padding: 0 0 0 0;\n",
              "      width: 32px;\n",
              "    }\n",
              "\n",
              "    .colab-df-convert:hover {\n",
              "      background-color: #E2EBFA;\n",
              "      box-shadow: 0px 1px 2px rgba(60, 64, 67, 0.3), 0px 1px 3px 1px rgba(60, 64, 67, 0.15);\n",
              "      fill: #174EA6;\n",
              "    }\n",
              "\n",
              "    [theme=dark] .colab-df-convert {\n",
              "      background-color: #3B4455;\n",
              "      fill: #D2E3FC;\n",
              "    }\n",
              "\n",
              "    [theme=dark] .colab-df-convert:hover {\n",
              "      background-color: #434B5C;\n",
              "      box-shadow: 0px 1px 3px 1px rgba(0, 0, 0, 0.15);\n",
              "      filter: drop-shadow(0px 1px 2px rgba(0, 0, 0, 0.3));\n",
              "      fill: #FFFFFF;\n",
              "    }\n",
              "  </style>\n",
              "\n",
              "      <script>\n",
              "        const buttonEl =\n",
              "          document.querySelector('#df-ac081cbd-c794-49c5-96d1-c4ca3d760731 button.colab-df-convert');\n",
              "        buttonEl.style.display =\n",
              "          google.colab.kernel.accessAllowed ? 'block' : 'none';\n",
              "\n",
              "        async function convertToInteractive(key) {\n",
              "          const element = document.querySelector('#df-ac081cbd-c794-49c5-96d1-c4ca3d760731');\n",
              "          const dataTable =\n",
              "            await google.colab.kernel.invokeFunction('convertToInteractive',\n",
              "                                                     [key], {});\n",
              "          if (!dataTable) return;\n",
              "\n",
              "          const docLinkHtml = 'Like what you see? Visit the ' +\n",
              "            '<a target=\"_blank\" href=https://colab.research.google.com/notebooks/data_table.ipynb>data table notebook</a>'\n",
              "            + ' to learn more about interactive tables.';\n",
              "          element.innerHTML = '';\n",
              "          dataTable['output_type'] = 'display_data';\n",
              "          await google.colab.output.renderOutput(dataTable, element);\n",
              "          const docLink = document.createElement('div');\n",
              "          docLink.innerHTML = docLinkHtml;\n",
              "          element.appendChild(docLink);\n",
              "        }\n",
              "      </script>\n",
              "    </div>\n",
              "  </div>\n"
            ]
          },
          "metadata": {},
          "execution_count": 9
        }
      ],
      "source": [
        "dataset.corr()"
      ]
    },
    {
      "cell_type": "code",
      "execution_count": null,
      "metadata": {
        "id": "I2TK0BodLq9-",
        "outputId": "09fa6cfd-24cf-4c3d-ca00-dca53b3d99f4",
        "colab": {
          "base_uri": "https://localhost:8080/",
          "height": 467
        }
      },
      "outputs": [
        {
          "output_type": "execute_result",
          "data": {
            "text/plain": [
              "<Axes: xlabel='YearsExperience', ylabel='Salary'>"
            ]
          },
          "metadata": {},
          "execution_count": 10
        },
        {
          "output_type": "display_data",
          "data": {
            "text/plain": [
              "<Figure size 640x480 with 1 Axes>"
            ],
            "image/png": "[encoded data removed]"
          },
          "metadata": {}
        }
      ],
      "source": [
        "sns.regplot(x=dataset['YearsExperience'],y=dataset['Salary'])"
      ]
    },
    {
      "cell_type": "markdown",
      "metadata": {
        "id": "oC0_HmmALq9-"
      },
      "source": [
        "## Model Building"
      ]
    },
    {
      "cell_type": "code",
      "execution_count": null,
      "metadata": {
        "id": "q2PBLy4ULq9-",
        "colab": {
          "base_uri": "https://localhost:8080/",
          "height": 448
        },
        "outputId": "43901b8c-5083-4815-ccbc-9ef09b2c2d4e"
      },
      "outputs": [
        {
          "output_type": "execute_result",
          "data": {
            "text/plain": [
              "<class 'statsmodels.iolib.summary.Summary'>\n",
              "\"\"\"\n",
              "                            OLS Regression Results                            \n",
              "==============================================================================\n",
              "Dep. Variable:                 Salary   R-squared:                       0.957\n",
              "Model:                            OLS   Adj. R-squared:                  0.955\n",
              "Method:                 Least Squares   F-statistic:                     622.5\n",
              "Date:                Mon, 14 Aug 2023   Prob (F-statistic):           1.14e-20\n",
              "Time:                        14:32:20   Log-Likelihood:                -301.44\n",
              "No. Observations:                  30   AIC:                             606.9\n",
              "Df Residuals:                      28   BIC:                             609.7\n",
              "Df Model:                           1                                         \n",
              "Covariance Type:            nonrobust                                         \n",
              "===================================================================================\n",
              "                      coef    std err          t      P>|t|      [0.025      0.975]\n",
              "-----------------------------------------------------------------------------------\n",
              "Intercept        2.579e+04   2273.053     11.347      0.000    2.11e+04    3.04e+04\n",
              "YearsExperience  9449.9623    378.755     24.950      0.000    8674.119    1.02e+04\n",
              "==============================================================================\n",
              "Omnibus:                        2.140   Durbin-Watson:                   1.648\n",
              "Prob(Omnibus):                  0.343   Jarque-Bera (JB):                1.569\n",
              "Skew:                           0.363   Prob(JB):                        0.456\n",
              "Kurtosis:                       2.147   Cond. No.                         13.2\n",
              "==============================================================================\n",
              "\n",
              "Notes:\n",
              "[1] Standard Errors assume that the covariance matrix of the errors is correctly specified.\n",
              "\"\"\""
            ],
            "text/html": [
              "<table class=\"simpletable\">\n",
              "<caption>OLS Regression Results</caption>\n",
              "<tr>\n",
              "  <th>Dep. Variable:</th>         <td>Salary</td>      <th>  R-squared:         </th> <td>   0.957</td>\n",
              "</tr>\n",
              "<tr>\n",
              "  <th>Model:</th>                   <td>OLS</td>       <th>  Adj. R-squared:    </th> <td>   0.955</td>\n",
              "</tr>\n",
              "<tr>\n",
              "  <th>Method:</th>             <td>Least Squares</td>  <th>  F-statistic:       </th> <td>   622.5</td>\n",
              "</tr>\n",
              "<tr>\n",
              "  <th>Date:</th>             <td>Mon, 14 Aug 2023</td> <th>  Prob (F-statistic):</th> <td>1.14e-20</td>\n",
              "</tr>\n",
              "<tr>\n",
              "  <th>Time:</th>                 <td>14:32:20</td>     <th>  Log-Likelihood:    </th> <td> -301.44</td>\n",
              "</tr>\n",
              "<tr>\n",
              "  <th>No. Observations:</th>      <td>    30</td>      <th>  AIC:               </th> <td>   606.9</td>\n",
              "</tr>\n",
              "<tr>\n",
              "  <th>Df Residuals:</th>          <td>    28</td>      <th>  BIC:               </th> <td>   609.7</td>\n",
              "</tr>\n",
              "<tr>\n",
              "  <th>Df Model:</th>              <td>     1</td>      <th>                     </th>     <td> </td>   \n",
              "</tr>\n",
              "<tr>\n",
              "  <th>Covariance Type:</th>      <td>nonrobust</td>    <th>                     </th>     <td> </td>   \n",
              "</tr>\n",
              "</table>\n",
              "<table class=\"simpletable\">\n",
              "<tr>\n",
              "         <td></td>            <th>coef</th>     <th>std err</th>      <th>t</th>      <th>P>|t|</th>  <th>[0.025</th>    <th>0.975]</th>  \n",
              "</tr>\n",
              "<tr>\n",
              "  <th>Intercept</th>       <td> 2.579e+04</td> <td> 2273.053</td> <td>   11.347</td> <td> 0.000</td> <td> 2.11e+04</td> <td> 3.04e+04</td>\n",
              "</tr>\n",
              "<tr>\n",
              "  <th>YearsExperience</th> <td> 9449.9623</td> <td>  378.755</td> <td>   24.950</td> <td> 0.000</td> <td> 8674.119</td> <td> 1.02e+04</td>\n",
              "</tr>\n",
              "</table>\n",
              "<table class=\"simpletable\">\n",
              "<tr>\n",
              "  <th>Omnibus:</th>       <td> 2.140</td> <th>  Durbin-Watson:     </th> <td>   1.648</td>\n",
              "</tr>\n",
              "<tr>\n",
              "  <th>Prob(Omnibus):</th> <td> 0.343</td> <th>  Jarque-Bera (JB):  </th> <td>   1.569</td>\n",
              "</tr>\n",
              "<tr>\n",
              "  <th>Skew:</th>          <td> 0.363</td> <th>  Prob(JB):          </th> <td>   0.456</td>\n",
              "</tr>\n",
              "<tr>\n",
              "  <th>Kurtosis:</th>      <td> 2.147</td> <th>  Cond. No.          </th> <td>    13.2</td>\n",
              "</tr>\n",
              "</table><br/><br/>Notes:<br/>[1] Standard Errors assume that the covariance matrix of the errors is correctly specified."
            ],
            "text/latex": "\\begin{center}\n\\begin{tabular}{lclc}\n\\toprule\n\\textbf{Dep. Variable:}    &      Salary      & \\textbf{  R-squared:         } &     0.957   \\\\\n\\textbf{Model:}            &       OLS        & \\textbf{  Adj. R-squared:    } &     0.955   \\\\\n\\textbf{Method:}           &  Least Squares   & \\textbf{  F-statistic:       } &     622.5   \\\\\n\\textbf{Date:}             & Mon, 14 Aug 2023 & \\textbf{  Prob (F-statistic):} &  1.14e-20   \\\\\n\\textbf{Time:}             &     14:32:20     & \\textbf{  Log-Likelihood:    } &   -301.44   \\\\\n\\textbf{No. Observations:} &          30      & \\textbf{  AIC:               } &     606.9   \\\\\n\\textbf{Df Residuals:}     &          28      & \\textbf{  BIC:               } &     609.7   \\\\\n\\textbf{Df Model:}         &           1      & \\textbf{                     } &             \\\\\n\\textbf{Covariance Type:}  &    nonrobust     & \\textbf{                     } &             \\\\\n\\bottomrule\n\\end{tabular}\n\\begin{tabular}{lcccccc}\n                         & \\textbf{coef} & \\textbf{std err} & \\textbf{t} & \\textbf{P$> |$t$|$} & \\textbf{[0.025} & \\textbf{0.975]}  \\\\\n\\midrule\n\\textbf{Intercept}       &    2.579e+04  &     2273.053     &    11.347  &         0.000        &     2.11e+04    &     3.04e+04     \\\\\n\\textbf{YearsExperience} &    9449.9623  &      378.755     &    24.950  &         0.000        &     8674.119    &     1.02e+04     \\\\\n\\bottomrule\n\\end{tabular}\n\\begin{tabular}{lclc}\n\\textbf{Omnibus:}       &  2.140 & \\textbf{  Durbin-Watson:     } &    1.648  \\\\\n\\textbf{Prob(Omnibus):} &  0.343 & \\textbf{  Jarque-Bera (JB):  } &    1.569  \\\\\n\\textbf{Skew:}          &  0.363 & \\textbf{  Prob(JB):          } &    0.456  \\\\\n\\textbf{Kurtosis:}      &  2.147 & \\textbf{  Cond. No.          } &     13.2  \\\\\n\\bottomrule\n\\end{tabular}\n%\\caption{OLS Regression Results}\n\\end{center}\n\nNotes: \\newline\n [1] Standard Errors assume that the covariance matrix of the errors is correctly specified."
          },
          "metadata": {},
          "execution_count": 11
        }
      ],
      "source": [
        "model=smf.ols(\"Salary~YearsExperience\",data=dataset).fit()\n",
        "model.summary()"
      ]
    },
    {
      "cell_type": "code",
      "source": [
        "model2=smf.ols(\"Salary~np.log(YearsExperience)\",data=dataset).fit()\n",
        "model2.summary()"
      ],
      "metadata": {
        "colab": {
          "base_uri": "https://localhost:8080/",
          "height": 448
        },
        "id": "6WpncE6VdpWi",
        "outputId": "79b6ef26-00be-45e5-d949-90a8e2034249"
      },
      "execution_count": null,
      "outputs": [
        {
          "output_type": "execute_result",
          "data": {
            "text/plain": [
              "<class 'statsmodels.iolib.summary.Summary'>\n",
              "\"\"\"\n",
              "                            OLS Regression Results                            \n",
              "==============================================================================\n",
              "Dep. Variable:                 Salary   R-squared:                       0.854\n",
              "Model:                            OLS   Adj. R-squared:                  0.849\n",
              "Method:                 Least Squares   F-statistic:                     163.6\n",
              "Date:                Mon, 14 Aug 2023   Prob (F-statistic):           3.25e-13\n",
              "Time:                        14:33:12   Log-Likelihood:                -319.77\n",
              "No. Observations:                  30   AIC:                             643.5\n",
              "Df Residuals:                      28   BIC:                             646.3\n",
              "Df Model:                           1                                         \n",
              "Covariance Type:            nonrobust                                         \n",
              "===========================================================================================\n",
              "                              coef    std err          t      P>|t|      [0.025      0.975]\n",
              "-------------------------------------------------------------------------------------------\n",
              "Intercept                1.493e+04   5156.226      2.895      0.007    4365.921    2.55e+04\n",
              "np.log(YearsExperience)  4.058e+04   3172.453     12.792      0.000    3.41e+04    4.71e+04\n",
              "==============================================================================\n",
              "Omnibus:                        1.094   Durbin-Watson:                   0.512\n",
              "Prob(Omnibus):                  0.579   Jarque-Bera (JB):                0.908\n",
              "Skew:                           0.156   Prob(JB):                        0.635\n",
              "Kurtosis:                       2.207   Cond. No.                         5.76\n",
              "==============================================================================\n",
              "\n",
              "Notes:\n",
              "[1] Standard Errors assume that the covariance matrix of the errors is correctly specified.\n",
              "\"\"\""
            ],
            "text/html": [
              "<table class=\"simpletable\">\n",
              "<caption>OLS Regression Results</caption>\n",
              "<tr>\n",
              "  <th>Dep. Variable:</th>         <td>Salary</td>      <th>  R-squared:         </th> <td>   0.854</td>\n",
              "</tr>\n",
              "<tr>\n",
              "  <th>Model:</th>                   <td>OLS</td>       <th>  Adj. R-squared:    </th> <td>   0.849</td>\n",
              "</tr>\n",
              "<tr>\n",
              "  <th>Method:</th>             <td>Least Squares</td>  <th>  F-statistic:       </th> <td>   163.6</td>\n",
              "</tr>\n",
              "<tr>\n",
              "  <th>Date:</th>             <td>Mon, 14 Aug 2023</td> <th>  Prob (F-statistic):</th> <td>3.25e-13</td>\n",
              "</tr>\n",
              "<tr>\n",
              "  <th>Time:</th>                 <td>14:33:12</td>     <th>  Log-Likelihood:    </th> <td> -319.77</td>\n",
              "</tr>\n",
              "<tr>\n",
              "  <th>No. Observations:</th>      <td>    30</td>      <th>  AIC:               </th> <td>   643.5</td>\n",
              "</tr>\n",
              "<tr>\n",
              "  <th>Df Residuals:</th>          <td>    28</td>      <th>  BIC:               </th> <td>   646.3</td>\n",
              "</tr>\n",
              "<tr>\n",
              "  <th>Df Model:</th>              <td>     1</td>      <th>                     </th>     <td> </td>   \n",
              "</tr>\n",
              "<tr>\n",
              "  <th>Covariance Type:</th>      <td>nonrobust</td>    <th>                     </th>     <td> </td>   \n",
              "</tr>\n",
              "</table>\n",
              "<table class=\"simpletable\">\n",
              "<tr>\n",
              "             <td></td>                <th>coef</th>     <th>std err</th>      <th>t</th>      <th>P>|t|</th>  <th>[0.025</th>    <th>0.975]</th>  \n",
              "</tr>\n",
              "<tr>\n",
              "  <th>Intercept</th>               <td> 1.493e+04</td> <td> 5156.226</td> <td>    2.895</td> <td> 0.007</td> <td> 4365.921</td> <td> 2.55e+04</td>\n",
              "</tr>\n",
              "<tr>\n",
              "  <th>np.log(YearsExperience)</th> <td> 4.058e+04</td> <td> 3172.453</td> <td>   12.792</td> <td> 0.000</td> <td> 3.41e+04</td> <td> 4.71e+04</td>\n",
              "</tr>\n",
              "</table>\n",
              "<table class=\"simpletable\">\n",
              "<tr>\n",
              "  <th>Omnibus:</th>       <td> 1.094</td> <th>  Durbin-Watson:     </th> <td>   0.512</td>\n",
              "</tr>\n",
              "<tr>\n",
              "  <th>Prob(Omnibus):</th> <td> 0.579</td> <th>  Jarque-Bera (JB):  </th> <td>   0.908</td>\n",
              "</tr>\n",
              "<tr>\n",
              "  <th>Skew:</th>          <td> 0.156</td> <th>  Prob(JB):          </th> <td>   0.635</td>\n",
              "</tr>\n",
              "<tr>\n",
              "  <th>Kurtosis:</th>      <td> 2.207</td> <th>  Cond. No.          </th> <td>    5.76</td>\n",
              "</tr>\n",
              "</table><br/><br/>Notes:<br/>[1] Standard Errors assume that the covariance matrix of the errors is correctly specified."
            ],
            "text/latex": "\\begin{center}\n\\begin{tabular}{lclc}\n\\toprule\n\\textbf{Dep. Variable:}          &      Salary      & \\textbf{  R-squared:         } &     0.854   \\\\\n\\textbf{Model:}                  &       OLS        & \\textbf{  Adj. R-squared:    } &     0.849   \\\\\n\\textbf{Method:}                 &  Least Squares   & \\textbf{  F-statistic:       } &     163.6   \\\\\n\\textbf{Date:}                   & Mon, 14 Aug 2023 & \\textbf{  Prob (F-statistic):} &  3.25e-13   \\\\\n\\textbf{Time:}                   &     14:33:12     & \\textbf{  Log-Likelihood:    } &   -319.77   \\\\\n\\textbf{No. Observations:}       &          30      & \\textbf{  AIC:               } &     643.5   \\\\\n\\textbf{Df Residuals:}           &          28      & \\textbf{  BIC:               } &     646.3   \\\\\n\\textbf{Df Model:}               &           1      & \\textbf{                     } &             \\\\\n\\textbf{Covariance Type:}        &    nonrobust     & \\textbf{                     } &             \\\\\n\\bottomrule\n\\end{tabular}\n\\begin{tabular}{lcccccc}\n                                 & \\textbf{coef} & \\textbf{std err} & \\textbf{t} & \\textbf{P$> |$t$|$} & \\textbf{[0.025} & \\textbf{0.975]}  \\\\\n\\midrule\n\\textbf{Intercept}               &    1.493e+04  &     5156.226     &     2.895  &         0.007        &     4365.921    &     2.55e+04     \\\\\n\\textbf{np.log(YearsExperience)} &    4.058e+04  &     3172.453     &    12.792  &         0.000        &     3.41e+04    &     4.71e+04     \\\\\n\\bottomrule\n\\end{tabular}\n\\begin{tabular}{lclc}\n\\textbf{Omnibus:}       &  1.094 & \\textbf{  Durbin-Watson:     } &    0.512  \\\\\n\\textbf{Prob(Omnibus):} &  0.579 & \\textbf{  Jarque-Bera (JB):  } &    0.908  \\\\\n\\textbf{Skew:}          &  0.156 & \\textbf{  Prob(JB):          } &    0.635  \\\\\n\\textbf{Kurtosis:}      &  2.207 & \\textbf{  Cond. No.          } &     5.76  \\\\\n\\bottomrule\n\\end{tabular}\n%\\caption{OLS Regression Results}\n\\end{center}\n\nNotes: \\newline\n [1] Standard Errors assume that the covariance matrix of the errors is correctly specified."
          },
          "metadata": {},
          "execution_count": 12
        }
      ]
    },
    {
      "cell_type": "code",
      "source": [
        "model3=smf.ols(\"np.log(Salary)~YearsExperience\",data=dataset).fit()\n",
        "model3.summary()"
      ],
      "metadata": {
        "colab": {
          "base_uri": "https://localhost:8080/",
          "height": 448
        },
        "id": "9Se9SKr5d2_V",
        "outputId": "117d0554-fb69-4a74-cd87-90da1bb62a2c"
      },
      "execution_count": null,
      "outputs": [
        {
          "output_type": "execute_result",
          "data": {
            "text/plain": [
              "<class 'statsmodels.iolib.summary.Summary'>\n",
              "\"\"\"\n",
              "                            OLS Regression Results                            \n",
              "==============================================================================\n",
              "Dep. Variable:         np.log(Salary)   R-squared:                       0.932\n",
              "Model:                            OLS   Adj. R-squared:                  0.930\n",
              "Method:                 Least Squares   F-statistic:                     383.6\n",
              "Date:                Mon, 14 Aug 2023   Prob (F-statistic):           7.03e-18\n",
              "Time:                        14:34:09   Log-Likelihood:                 28.183\n",
              "No. Observations:                  30   AIC:                            -52.37\n",
              "Df Residuals:                      28   BIC:                            -49.56\n",
              "Df Model:                           1                                         \n",
              "Covariance Type:            nonrobust                                         \n",
              "===================================================================================\n",
              "                      coef    std err          t      P>|t|      [0.025      0.975]\n",
              "-----------------------------------------------------------------------------------\n",
              "Intercept          10.5074      0.038    273.327      0.000      10.429      10.586\n",
              "YearsExperience     0.1255      0.006     19.585      0.000       0.112       0.139\n",
              "==============================================================================\n",
              "Omnibus:                        0.826   Durbin-Watson:                   1.438\n",
              "Prob(Omnibus):                  0.661   Jarque-Bera (JB):                0.812\n",
              "Skew:                           0.187   Prob(JB):                        0.666\n",
              "Kurtosis:                       2.286   Cond. No.                         13.2\n",
              "==============================================================================\n",
              "\n",
              "Notes:\n",
              "[1] Standard Errors assume that the covariance matrix of the errors is correctly specified.\n",
              "\"\"\""
            ],
            "text/html": [
              "<table class=\"simpletable\">\n",
              "<caption>OLS Regression Results</caption>\n",
              "<tr>\n",
              "  <th>Dep. Variable:</th>     <td>np.log(Salary)</td>  <th>  R-squared:         </th> <td>   0.932</td>\n",
              "</tr>\n",
              "<tr>\n",
              "  <th>Model:</th>                   <td>OLS</td>       <th>  Adj. R-squared:    </th> <td>   0.930</td>\n",
              "</tr>\n",
              "<tr>\n",
              "  <th>Method:</th>             <td>Least Squares</td>  <th>  F-statistic:       </th> <td>   383.6</td>\n",
              "</tr>\n",
              "<tr>\n",
              "  <th>Date:</th>             <td>Mon, 14 Aug 2023</td> <th>  Prob (F-statistic):</th> <td>7.03e-18</td>\n",
              "</tr>\n",
              "<tr>\n",
              "  <th>Time:</th>                 <td>14:34:09</td>     <th>  Log-Likelihood:    </th> <td>  28.183</td>\n",
              "</tr>\n",
              "<tr>\n",
              "  <th>No. Observations:</th>      <td>    30</td>      <th>  AIC:               </th> <td>  -52.37</td>\n",
              "</tr>\n",
              "<tr>\n",
              "  <th>Df Residuals:</th>          <td>    28</td>      <th>  BIC:               </th> <td>  -49.56</td>\n",
              "</tr>\n",
              "<tr>\n",
              "  <th>Df Model:</th>              <td>     1</td>      <th>                     </th>     <td> </td>   \n",
              "</tr>\n",
              "<tr>\n",
              "  <th>Covariance Type:</th>      <td>nonrobust</td>    <th>                     </th>     <td> </td>   \n",
              "</tr>\n",
              "</table>\n",
              "<table class=\"simpletable\">\n",
              "<tr>\n",
              "         <td></td>            <th>coef</th>     <th>std err</th>      <th>t</th>      <th>P>|t|</th>  <th>[0.025</th>    <th>0.975]</th>  \n",
              "</tr>\n",
              "<tr>\n",
              "  <th>Intercept</th>       <td>   10.5074</td> <td>    0.038</td> <td>  273.327</td> <td> 0.000</td> <td>   10.429</td> <td>   10.586</td>\n",
              "</tr>\n",
              "<tr>\n",
              "  <th>YearsExperience</th> <td>    0.1255</td> <td>    0.006</td> <td>   19.585</td> <td> 0.000</td> <td>    0.112</td> <td>    0.139</td>\n",
              "</tr>\n",
              "</table>\n",
              "<table class=\"simpletable\">\n",
              "<tr>\n",
              "  <th>Omnibus:</th>       <td> 0.826</td> <th>  Durbin-Watson:     </th> <td>   1.438</td>\n",
              "</tr>\n",
              "<tr>\n",
              "  <th>Prob(Omnibus):</th> <td> 0.661</td> <th>  Jarque-Bera (JB):  </th> <td>   0.812</td>\n",
              "</tr>\n",
              "<tr>\n",
              "  <th>Skew:</th>          <td> 0.187</td> <th>  Prob(JB):          </th> <td>   0.666</td>\n",
              "</tr>\n",
              "<tr>\n",
              "  <th>Kurtosis:</th>      <td> 2.286</td> <th>  Cond. No.          </th> <td>    13.2</td>\n",
              "</tr>\n",
              "</table><br/><br/>Notes:<br/>[1] Standard Errors assume that the covariance matrix of the errors is correctly specified."
            ],
            "text/latex": "\\begin{center}\n\\begin{tabular}{lclc}\n\\toprule\n\\textbf{Dep. Variable:}    &  np.log(Salary)  & \\textbf{  R-squared:         } &     0.932   \\\\\n\\textbf{Model:}            &       OLS        & \\textbf{  Adj. R-squared:    } &     0.930   \\\\\n\\textbf{Method:}           &  Least Squares   & \\textbf{  F-statistic:       } &     383.6   \\\\\n\\textbf{Date:}             & Mon, 14 Aug 2023 & \\textbf{  Prob (F-statistic):} &  7.03e-18   \\\\\n\\textbf{Time:}             &     14:34:09     & \\textbf{  Log-Likelihood:    } &    28.183   \\\\\n\\textbf{No. Observations:} &          30      & \\textbf{  AIC:               } &    -52.37   \\\\\n\\textbf{Df Residuals:}     &          28      & \\textbf{  BIC:               } &    -49.56   \\\\\n\\textbf{Df Model:}         &           1      & \\textbf{                     } &             \\\\\n\\textbf{Covariance Type:}  &    nonrobust     & \\textbf{                     } &             \\\\\n\\bottomrule\n\\end{tabular}\n\\begin{tabular}{lcccccc}\n                         & \\textbf{coef} & \\textbf{std err} & \\textbf{t} & \\textbf{P$> |$t$|$} & \\textbf{[0.025} & \\textbf{0.975]}  \\\\\n\\midrule\n\\textbf{Intercept}       &      10.5074  &        0.038     &   273.327  &         0.000        &       10.429    &       10.586     \\\\\n\\textbf{YearsExperience} &       0.1255  &        0.006     &    19.585  &         0.000        &        0.112    &        0.139     \\\\\n\\bottomrule\n\\end{tabular}\n\\begin{tabular}{lclc}\n\\textbf{Omnibus:}       &  0.826 & \\textbf{  Durbin-Watson:     } &    1.438  \\\\\n\\textbf{Prob(Omnibus):} &  0.661 & \\textbf{  Jarque-Bera (JB):  } &    0.812  \\\\\n\\textbf{Skew:}          &  0.187 & \\textbf{  Prob(JB):          } &    0.666  \\\\\n\\textbf{Kurtosis:}      &  2.286 & \\textbf{  Cond. No.          } &     13.2  \\\\\n\\bottomrule\n\\end{tabular}\n%\\caption{OLS Regression Results}\n\\end{center}\n\nNotes: \\newline\n [1] Standard Errors assume that the covariance matrix of the errors is correctly specified."
          },
          "metadata": {},
          "execution_count": 13
        }
      ]
    },
    {
      "cell_type": "code",
      "source": [
        "model4=smf.ols(\"np.log(Salary)~YearsExperience+pow(YearsExperience,2)\",data=dataset).fit()\n",
        "model4.summary()"
      ],
      "metadata": {
        "colab": {
          "base_uri": "https://localhost:8080/",
          "height": 469
        },
        "id": "d8a-_tmleDF9",
        "outputId": "a1496f20-d122-413e-e11b-e9a518bd0ecd"
      },
      "execution_count": null,
      "outputs": [
        {
          "output_type": "execute_result",
          "data": {
            "text/plain": [
              "<class 'statsmodels.iolib.summary.Summary'>\n",
              "\"\"\"\n",
              "                            OLS Regression Results                            \n",
              "==============================================================================\n",
              "Dep. Variable:         np.log(Salary)   R-squared:                       0.949\n",
              "Model:                            OLS   Adj. R-squared:                  0.945\n",
              "Method:                 Least Squares   F-statistic:                     249.2\n",
              "Date:                Mon, 14 Aug 2023   Prob (F-statistic):           3.95e-18\n",
              "Time:                        14:34:56   Log-Likelihood:                 32.391\n",
              "No. Observations:                  30   AIC:                            -58.78\n",
              "Df Residuals:                      27   BIC:                            -54.58\n",
              "Df Model:                           2                                         \n",
              "Covariance Type:            nonrobust                                         \n",
              "===========================================================================================\n",
              "                              coef    std err          t      P>|t|      [0.025      0.975]\n",
              "-------------------------------------------------------------------------------------------\n",
              "Intercept                  10.3369      0.067    154.368      0.000      10.199      10.474\n",
              "YearsExperience             0.2024      0.027      7.601      0.000       0.148       0.257\n",
              "pow(YearsExperience, 2)    -0.0066      0.002     -2.957      0.006      -0.011      -0.002\n",
              "==============================================================================\n",
              "Omnibus:                        1.099   Durbin-Watson:                   1.845\n",
              "Prob(Omnibus):                  0.577   Jarque-Bera (JB):                1.002\n",
              "Skew:                           0.260   Prob(JB):                        0.606\n",
              "Kurtosis:                       2.271   Cond. No.                         223.\n",
              "==============================================================================\n",
              "\n",
              "Notes:\n",
              "[1] Standard Errors assume that the covariance matrix of the errors is correctly specified.\n",
              "\"\"\""
            ],
            "text/html": [
              "<table class=\"simpletable\">\n",
              "<caption>OLS Regression Results</caption>\n",
              "<tr>\n",
              "  <th>Dep. Variable:</th>     <td>np.log(Salary)</td>  <th>  R-squared:         </th> <td>   0.949</td>\n",
              "</tr>\n",
              "<tr>\n",
              "  <th>Model:</th>                   <td>OLS</td>       <th>  Adj. R-squared:    </th> <td>   0.945</td>\n",
              "</tr>\n",
              "<tr>\n",
              "  <th>Method:</th>             <td>Least Squares</td>  <th>  F-statistic:       </th> <td>   249.2</td>\n",
              "</tr>\n",
              "<tr>\n",
              "  <th>Date:</th>             <td>Mon, 14 Aug 2023</td> <th>  Prob (F-statistic):</th> <td>3.95e-18</td>\n",
              "</tr>\n",
              "<tr>\n",
              "  <th>Time:</th>                 <td>14:34:56</td>     <th>  Log-Likelihood:    </th> <td>  32.391</td>\n",
              "</tr>\n",
              "<tr>\n",
              "  <th>No. Observations:</th>      <td>    30</td>      <th>  AIC:               </th> <td>  -58.78</td>\n",
              "</tr>\n",
              "<tr>\n",
              "  <th>Df Residuals:</th>          <td>    27</td>      <th>  BIC:               </th> <td>  -54.58</td>\n",
              "</tr>\n",
              "<tr>\n",
              "  <th>Df Model:</th>              <td>     2</td>      <th>                     </th>     <td> </td>   \n",
              "</tr>\n",
              "<tr>\n",
              "  <th>Covariance Type:</th>      <td>nonrobust</td>    <th>                     </th>     <td> </td>   \n",
              "</tr>\n",
              "</table>\n",
              "<table class=\"simpletable\">\n",
              "<tr>\n",
              "             <td></td>                <th>coef</th>     <th>std err</th>      <th>t</th>      <th>P>|t|</th>  <th>[0.025</th>    <th>0.975]</th>  \n",
              "</tr>\n",
              "<tr>\n",
              "  <th>Intercept</th>               <td>   10.3369</td> <td>    0.067</td> <td>  154.368</td> <td> 0.000</td> <td>   10.199</td> <td>   10.474</td>\n",
              "</tr>\n",
              "<tr>\n",
              "  <th>YearsExperience</th>         <td>    0.2024</td> <td>    0.027</td> <td>    7.601</td> <td> 0.000</td> <td>    0.148</td> <td>    0.257</td>\n",
              "</tr>\n",
              "<tr>\n",
              "  <th>pow(YearsExperience, 2)</th> <td>   -0.0066</td> <td>    0.002</td> <td>   -2.957</td> <td> 0.006</td> <td>   -0.011</td> <td>   -0.002</td>\n",
              "</tr>\n",
              "</table>\n",
              "<table class=\"simpletable\">\n",
              "<tr>\n",
              "  <th>Omnibus:</th>       <td> 1.099</td> <th>  Durbin-Watson:     </th> <td>   1.845</td>\n",
              "</tr>\n",
              "<tr>\n",
              "  <th>Prob(Omnibus):</th> <td> 0.577</td> <th>  Jarque-Bera (JB):  </th> <td>   1.002</td>\n",
              "</tr>\n",
              "<tr>\n",
              "  <th>Skew:</th>          <td> 0.260</td> <th>  Prob(JB):          </th> <td>   0.606</td>\n",
              "</tr>\n",
              "<tr>\n",
              "  <th>Kurtosis:</th>      <td> 2.271</td> <th>  Cond. No.          </th> <td>    223.</td>\n",
              "</tr>\n",
              "</table><br/><br/>Notes:<br/>[1] Standard Errors assume that the covariance matrix of the errors is correctly specified."
            ],
            "text/latex": "\\begin{center}\n\\begin{tabular}{lclc}\n\\toprule\n\\textbf{Dep. Variable:}          &  np.log(Salary)  & \\textbf{  R-squared:         } &     0.949   \\\\\n\\textbf{Model:}                  &       OLS        & \\textbf{  Adj. R-squared:    } &     0.945   \\\\\n\\textbf{Method:}                 &  Least Squares   & \\textbf{  F-statistic:       } &     249.2   \\\\\n\\textbf{Date:}                   & Mon, 14 Aug 2023 & \\textbf{  Prob (F-statistic):} &  3.95e-18   \\\\\n\\textbf{Time:}                   &     14:34:56     & \\textbf{  Log-Likelihood:    } &    32.391   \\\\\n\\textbf{No. Observations:}       &          30      & \\textbf{  AIC:               } &    -58.78   \\\\\n\\textbf{Df Residuals:}           &          27      & \\textbf{  BIC:               } &    -54.58   \\\\\n\\textbf{Df Model:}               &           2      & \\textbf{                     } &             \\\\\n\\textbf{Covariance Type:}        &    nonrobust     & \\textbf{                     } &             \\\\\n\\bottomrule\n\\end{tabular}\n\\begin{tabular}{lcccccc}\n                                 & \\textbf{coef} & \\textbf{std err} & \\textbf{t} & \\textbf{P$> |$t$|$} & \\textbf{[0.025} & \\textbf{0.975]}  \\\\\n\\midrule\n\\textbf{Intercept}               &      10.3369  &        0.067     &   154.368  &         0.000        &       10.199    &       10.474     \\\\\n\\textbf{YearsExperience}         &       0.2024  &        0.027     &     7.601  &         0.000        &        0.148    &        0.257     \\\\\n\\textbf{pow(YearsExperience, 2)} &      -0.0066  &        0.002     &    -2.957  &         0.006        &       -0.011    &       -0.002     \\\\\n\\bottomrule\n\\end{tabular}\n\\begin{tabular}{lclc}\n\\textbf{Omnibus:}       &  1.099 & \\textbf{  Durbin-Watson:     } &    1.845  \\\\\n\\textbf{Prob(Omnibus):} &  0.577 & \\textbf{  Jarque-Bera (JB):  } &    1.002  \\\\\n\\textbf{Skew:}          &  0.260 & \\textbf{  Prob(JB):          } &    0.606  \\\\\n\\textbf{Kurtosis:}      &  2.271 & \\textbf{  Cond. No.          } &     223.  \\\\\n\\bottomrule\n\\end{tabular}\n%\\caption{OLS Regression Results}\n\\end{center}\n\nNotes: \\newline\n [1] Standard Errors assume that the covariance matrix of the errors is correctly specified."
          },
          "metadata": {},
          "execution_count": 14
        }
      ]
    },
    {
      "cell_type": "markdown",
      "metadata": {
        "id": "9zeO84kILq9_"
      },
      "source": [
        "## Model Testing"
      ]
    },
    {
      "cell_type": "code",
      "execution_count": null,
      "metadata": {
        "id": "k7XPM7VALq9_",
        "outputId": "5ab1b815-4e48-4b18-97d4-7865e97102cf"
      },
      "outputs": [
        {
          "data": {
            "text/plain": [
              "Intercept          25792.200199\n",
              "YearsExperience     9449.962321\n",
              "dtype: float64"
            ]
          },
          "execution_count": 9,
          "metadata": {},
          "output_type": "execute_result"
        }
      ],
      "source": [
        "# Finding Cefficient Parameters\n",
        "model.params"
      ]
    },
    {
      "cell_type": "code",
      "execution_count": null,
      "metadata": {
        "id": "AVj5BeuMLq9_",
        "outputId": "981af89e-bf5d-46b9-aa33-a8b146472fe2"
      },
      "outputs": [
        {
          "data": {
            "text/plain": [
              "(Intercept          11.346940\n",
              " YearsExperience    24.950094\n",
              " dtype: float64,\n",
              " Intercept          5.511950e-12\n",
              " YearsExperience    1.143068e-20\n",
              " dtype: float64)"
            ]
          },
          "execution_count": 10,
          "metadata": {},
          "output_type": "execute_result"
        }
      ],
      "source": [
        "# Finding Pvalues and tvalues\n",
        "model.tvalues, model.pvalues"
      ]
    },
    {
      "cell_type": "code",
      "execution_count": null,
      "metadata": {
        "id": "c0UkwiKhLq9_",
        "outputId": "dfe1d0ea-6716-49f0-9e24-61e9783bba62"
      },
      "outputs": [
        {
          "data": {
            "text/plain": [
              "(0.9569566641435086, 0.9554194021486339)"
            ]
          },
          "execution_count": 11,
          "metadata": {},
          "output_type": "execute_result"
        }
      ],
      "source": [
        "# Finding Rsquared values\n",
        "model.rsquared , model.rsquared_adj"
      ]
    },
    {
      "cell_type": "markdown",
      "metadata": {
        "id": "3iXYaW0LLq-A"
      },
      "source": [
        "## Model Predictions"
      ]
    },
    {
      "cell_type": "code",
      "execution_count": null,
      "metadata": {
        "id": "gWfvRT4sLq-A",
        "outputId": "e813a6ea-3a51-4492-806f-5c9e1513c56e"
      },
      "outputs": [
        {
          "data": {
            "text/plain": [
              "54142.087162"
            ]
          },
          "execution_count": 13,
          "metadata": {},
          "output_type": "execute_result"
        }
      ],
      "source": [
        "# Manual prediction for say 3 Years Experience\n",
        "Salary = (25792.200199) + (9449.962321)*(3)\n",
        "Salary"
      ]
    },
    {
      "cell_type": "code",
      "execution_count": null,
      "metadata": {
        "id": "3DOJPnQDLq-A"
      },
      "outputs": [],
      "source": [
        "# Automatic Prediction for say 3 & 5 Years Experience"
      ]
    },
    {
      "cell_type": "code",
      "execution_count": null,
      "metadata": {
        "id": "crQKQsQ5Lq-A",
        "outputId": "99a8be93-50c6-447e-c8e2-b28da4be3ae3"
      },
      "outputs": [
        {
          "data": {
            "text/plain": [
              "0    3\n",
              "1    5\n",
              "dtype: int64"
            ]
          },
          "execution_count": 15,
          "metadata": {},
          "output_type": "execute_result"
        }
      ],
      "source": [
        "new_data=pd.Series([3,5])\n",
        "new_data"
      ]
    },
    {
      "cell_type": "code",
      "execution_count": null,
      "metadata": {
        "id": "4h667gjMLq-B",
        "outputId": "6ea6c7b1-4b6f-4152-ca58-8df925cd39bb"
      },
      "outputs": [
        {
          "data": {
            "text/html": [
              "<div>\n",
              "<style scoped>\n",
              "    .dataframe tbody tr th:only-of-type {\n",
              "        vertical-align: middle;\n",
              "    }\n",
              "\n",
              "    .dataframe tbody tr th {\n",
              "        vertical-align: top;\n",
              "    }\n",
              "\n",
              "    .dataframe thead th {\n",
              "        text-align: right;\n",
              "    }\n",
              "</style>\n",
              "<table border=\"1\" class=\"dataframe\">\n",
              "  <thead>\n",
              "    <tr style=\"text-align: right;\">\n",
              "      <th></th>\n",
              "      <th>YearsExperience</th>\n",
              "    </tr>\n",
              "  </thead>\n",
              "  <tbody>\n",
              "    <tr>\n",
              "      <th>0</th>\n",
              "      <td>3</td>\n",
              "    </tr>\n",
              "    <tr>\n",
              "      <th>1</th>\n",
              "      <td>5</td>\n",
              "    </tr>\n",
              "  </tbody>\n",
              "</table>\n",
              "</div>"
            ],
            "text/plain": [
              "   YearsExperience\n",
              "0                3\n",
              "1                5"
            ]
          },
          "execution_count": 17,
          "metadata": {},
          "output_type": "execute_result"
        }
      ],
      "source": [
        "data_pred=pd.DataFrame(new_data,columns=['YearsExperience'])\n",
        "data_pred"
      ]
    },
    {
      "cell_type": "code",
      "execution_count": null,
      "metadata": {
        "id": "GyVCNpVvLq-B",
        "outputId": "27369df1-d8f4-4c9e-8e14-ef2954f730ce"
      },
      "outputs": [
        {
          "data": {
            "text/plain": [
              "0    54142.087163\n",
              "1    73042.011806\n",
              "dtype: float64"
            ]
          },
          "execution_count": 18,
          "metadata": {},
          "output_type": "execute_result"
        }
      ],
      "source": [
        "model.predict(data_pred)"
      ]
    },
    {
      "cell_type": "code",
      "execution_count": null,
      "metadata": {
        "id": "YCm9NFC5Lq-B"
      },
      "outputs": [],
      "source": []
    }
  ],
  "metadata": {
    "kernelspec": {
      "display_name": "Python 3",
      "language": "python",
      "name": "python3"
    },
    "language_info": {
      "codemirror_mode": {
        "name": "ipython",
        "version": 3
      },
      "file_extension": ".py",
      "mimetype": "text/x-python",
      "name": "python",
      "nbconvert_exporter": "python",
      "pygments_lexer": "ipython3",
      "version": "3.8.3"
    },
    "colab": {
      "provenance": []
    }
  },
  "nbformat": 4,
  "nbformat_minor": 0
}